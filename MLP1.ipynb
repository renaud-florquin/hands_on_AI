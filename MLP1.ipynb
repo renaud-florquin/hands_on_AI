{
  "nbformat": 4,
  "nbformat_minor": 0,
  "metadata": {
    "colab": {
      "name": "Intro2.ipynb",
      "provenance": [],
      "collapsed_sections": [],
      "include_colab_link": true
    },
    "kernelspec": {
      "name": "python3",
      "display_name": "Python 3"
    },
    "accelerator": "GPU"
  },
  "cells": [
    {
      "cell_type": "markdown",
      "metadata": {
        "id": "view-in-github",
        "colab_type": "text"
      },
      "source": [
        "<a href=\"https://colab.research.google.com/github/renaud-florquin/hands_on_AI/blob/master/MLP1.ipynb\" target=\"_parent\"><img src=\"https://colab.research.google.com/assets/colab-badge.svg\" alt=\"Open In Colab\"/></a>"
      ]
    },
    {
      "cell_type": "code",
      "metadata": {
        "id": "y2z18Vjr2bsu",
        "colab_type": "code",
        "outputId": "37fa4dc3-c219-404c-cc91-7dfb2989da1c",
        "colab": {
          "base_uri": "https://localhost:8080/",
          "height": 312
        }
      },
      "source": [
        "!nvidia-smi"
      ],
      "execution_count": 0,
      "outputs": [
        {
          "output_type": "stream",
          "text": [
            "Sat Oct  5 13:47:42 2019       \n",
            "+-----------------------------------------------------------------------------+\n",
            "| NVIDIA-SMI 430.40       Driver Version: 418.67       CUDA Version: 10.1     |\n",
            "|-------------------------------+----------------------+----------------------+\n",
            "| GPU  Name        Persistence-M| Bus-Id        Disp.A | Volatile Uncorr. ECC |\n",
            "| Fan  Temp  Perf  Pwr:Usage/Cap|         Memory-Usage | GPU-Util  Compute M. |\n",
            "|===============================+======================+======================|\n",
            "|   0  Tesla K80           Off  | 00000000:00:04.0 Off |                    0 |\n",
            "| N/A   72C    P8    34W / 149W |      0MiB / 11441MiB |      0%      Default |\n",
            "+-------------------------------+----------------------+----------------------+\n",
            "                                                                               \n",
            "+-----------------------------------------------------------------------------+\n",
            "| Processes:                                                       GPU Memory |\n",
            "|  GPU       PID   Type   Process name                             Usage      |\n",
            "|=============================================================================|\n",
            "|  No running processes found                                                 |\n",
            "+-----------------------------------------------------------------------------+\n"
          ],
          "name": "stdout"
        }
      ]
    },
    {
      "cell_type": "code",
      "metadata": {
        "id": "H318Syzc1-9c",
        "colab_type": "code",
        "colab": {
          "base_uri": "https://localhost:8080/",
          "height": 35
        },
        "outputId": "853b045d-2551-43a6-8961-fac5952fd927"
      },
      "source": [
        "import matplotlib.pyplot as plt\n",
        "import numpy as np\n",
        "import tensorflow as tf\n",
        "from keras.utils import np_utils"
      ],
      "execution_count": 1,
      "outputs": [
        {
          "output_type": "stream",
          "text": [
            "Using TensorFlow backend.\n"
          ],
          "name": "stderr"
        }
      ]
    },
    {
      "cell_type": "markdown",
      "metadata": {
        "id": "NYOqb0f49lDl",
        "colab_type": "text"
      },
      "source": [
        "Load the data and check the size of the train and test dataset"
      ]
    },
    {
      "cell_type": "code",
      "metadata": {
        "id": "wCRebTMB2Vmq",
        "colab_type": "code",
        "colab": {
          "base_uri": "https://localhost:8080/",
          "height": 52
        },
        "outputId": "5e451464-401f-47b0-fbfb-e1f29fac38a6"
      },
      "source": [
        "(x_train, y_train), (x_test, y_test) = tf.keras.datasets.mnist.load_data() "
      ],
      "execution_count": 2,
      "outputs": [
        {
          "output_type": "stream",
          "text": [
            "Downloading data from https://storage.googleapis.com/tensorflow/tf-keras-datasets/mnist.npz\n",
            "11493376/11490434 [==============================] - 0s 0us/step\n"
          ],
          "name": "stdout"
        }
      ]
    },
    {
      "cell_type": "code",
      "metadata": {
        "id": "OWU-KvIP3BCM",
        "colab_type": "code",
        "outputId": "5efc035d-7359-4116-ad7a-e52bc1e41f74",
        "colab": {
          "base_uri": "https://localhost:8080/",
          "height": 86
        }
      },
      "source": [
        "print('x Train: ', x_train.shape)\n",
        "print('y Train: ', y_train.shape)\n",
        "print('x Test: ', x_test.shape)\n",
        "print('y Test: ', y_test.shape)"
      ],
      "execution_count": 3,
      "outputs": [
        {
          "output_type": "stream",
          "text": [
            "x Train:  (60000, 28, 28)\n",
            "y Train:  (60000,)\n",
            "x Test:  (10000, 28, 28)\n",
            "y Test:  (10000,)\n"
          ],
          "name": "stdout"
        }
      ]
    },
    {
      "cell_type": "markdown",
      "metadata": {
        "id": "FcO26BFdFTN2",
        "colab_type": "text"
      },
      "source": [
        "Display the first images (X) and the corresponding labels (y)"
      ]
    },
    {
      "cell_type": "code",
      "metadata": {
        "id": "jp_VaYid3I9w",
        "colab_type": "code",
        "outputId": "a12fddf1-c781-4da6-9ba0-0cb765e5da89",
        "colab": {
          "base_uri": "https://localhost:8080/",
          "height": 242
        }
      },
      "source": [
        "amount = 20\n",
        "img_rows = 2\n",
        "img_columns = 4\n",
        "amount = img_rows * img_columns\n",
        "fig = plt.figure()\n",
        "\n",
        "for i in range(amount):\n",
        "    ax = fig.add_subplot(img_rows, img_columns, 1 + i)\n",
        "    plt.imshow(x_train[i], cmap='binary')\n",
        "    plt.title(y_train[i])\n",
        "    plt.xticks([]) \n",
        "    plt.yticks([])\n",
        "\n",
        "plt.show()"
      ],
      "execution_count": 4,
      "outputs": [
        {
          "output_type": "display_data",
          "data": {
            "image/png": "[encoded data removed]",
            "text/plain": [
              "<Figure size 432x288 with 8 Axes>"
            ]
          },
          "metadata": {
            "tags": []
          }
        }
      ]
    },
    {
      "cell_type": "markdown",
      "metadata": {
        "id": "gWNHqjS3NsWC",
        "colab_type": "text"
      },
      "source": [
        "Reshape the X tensor vector of images (N, h, w) to a vector of vectors (N, h*w)"
      ]
    },
    {
      "cell_type": "code",
      "metadata": {
        "id": "uEJLmh2c3Woh",
        "colab_type": "code",
        "colab": {}
      },
      "source": [
        "x_train = x_train.reshape(x_train.shape[0], x_train.shape[1]*x_train.shape[2])\n",
        "x_test = x_test.reshape(x_test.shape[0], x_test.shape[1]*x_test.shape[2])"
      ],
      "execution_count": 0,
      "outputs": []
    },
    {
      "cell_type": "markdown",
      "metadata": {
        "id": "FN8tZhIiNwDb",
        "colab_type": "text"
      },
      "source": [
        "Normalize the pxel value to a range [0..1]"
      ]
    },
    {
      "cell_type": "code",
      "metadata": {
        "id": "M-rSGkBN3vtV",
        "colab_type": "code",
        "colab": {}
      },
      "source": [
        "x_train = x_train.astype('float32') / 255.0\n",
        "x_test = x_test.astype('float32') / 255.0"
      ],
      "execution_count": 0,
      "outputs": []
    },
    {
      "cell_type": "markdown",
      "metadata": {
        "id": "esnb5GqlN33c",
        "colab_type": "text"
      },
      "source": [
        "Transform the numerical value of a label to a categorical vector"
      ]
    },
    {
      "cell_type": "code",
      "metadata": {
        "id": "5WrBb3kI37t1",
        "colab_type": "code",
        "colab": {}
      },
      "source": [
        "nb_classes=10\n",
        "y_train = np_utils.to_categorical(y_train, nb_classes)\n",
        "y_test = np_utils.to_categorical(y_test, nb_classes)"
      ],
      "execution_count": 0,
      "outputs": []
    },
    {
      "cell_type": "code",
      "metadata": {
        "colab_type": "code",
        "outputId": "d0f9a7f7-8451-440f-cb94-4b23ba9c50e6",
        "id": "qgCY_5ddDP2j",
        "colab": {
          "base_uri": "https://localhost:8080/",
          "height": 86
        }
      },
      "source": [
        "print(x_train.shape)\n",
        "print(y_train.shape)\n",
        "print(x_test.shape)\n",
        "print(y_test.shape)"
      ],
      "execution_count": 8,
      "outputs": [
        {
          "output_type": "stream",
          "text": [
            "(60000, 784)\n",
            "(60000, 10)\n",
            "(10000, 784)\n",
            "(10000, 10)\n"
          ],
          "name": "stdout"
        }
      ]
    },
    {
      "cell_type": "code",
      "metadata": {
        "id": "p6viHutb3nyo",
        "colab_type": "code",
        "outputId": "a63d6558-589a-4460-e299-375af57f8fcd",
        "colab": {
          "base_uri": "https://localhost:8080/",
          "height": 35
        }
      },
      "source": [
        "y_train[0]"
      ],
      "execution_count": 9,
      "outputs": [
        {
          "output_type": "execute_result",
          "data": {
            "text/plain": [
              "array([0., 0., 0., 0., 0., 1., 0., 0., 0., 0.], dtype=float32)"
            ]
          },
          "metadata": {
            "tags": []
          },
          "execution_count": 9
        }
      ]
    },
    {
      "cell_type": "code",
      "metadata": {
        "id": "iGB3DTxg28R2",
        "colab_type": "code",
        "colab": {
          "base_uri": "https://localhost:8080/",
          "height": 89
        },
        "outputId": "7067f184-eead-45a6-fdba-ad1fcf9eb0e9"
      },
      "source": [
        "input_layer = tf.keras.layers.Input(shape=(784,))\n",
        "z = tf.keras.layers.Dense(128)(input_layer)\n",
        "z = tf.keras.layers.Activation('relu')(z)\n",
        "z = tf.keras.layers.Dense(64)(input_layer)\n",
        "z = tf.keras.layers.Activation('relu')(z)\n",
        "z = tf.keras.layers.Dense(nb_classes)(z)\n",
        "output_layer = tf.keras.layers.Activation('softmax')(z)\n",
        "\n",
        "model = tf.keras.models.Model(input_layer, output_layer)"
      ],
      "execution_count": 10,
      "outputs": [
        {
          "output_type": "stream",
          "text": [
            "WARNING:tensorflow:From /usr/local/lib/python3.6/dist-packages/tensorflow_core/python/ops/resource_variable_ops.py:1630: calling BaseResourceVariable.__init__ (from tensorflow.python.ops.resource_variable_ops) with constraint is deprecated and will be removed in a future version.\n",
            "Instructions for updating:\n",
            "If using Keras pass *_constraint arguments to layers.\n"
          ],
          "name": "stdout"
        }
      ]
    },
    {
      "cell_type": "code",
      "metadata": {
        "id": "Q5IRu_gy8Anx",
        "colab_type": "code",
        "outputId": "334d9755-d73a-424a-b467-2dd90fd9f460",
        "colab": {
          "base_uri": "https://localhost:8080/",
          "height": 329
        }
      },
      "source": [
        "model.summary()"
      ],
      "execution_count": 0,
      "outputs": [
        {
          "output_type": "stream",
          "text": [
            "Model: \"model_4\"\n",
            "_________________________________________________________________\n",
            "Layer (type)                 Output Shape              Param #   \n",
            "=================================================================\n",
            "input_5 (InputLayer)         [(None, 784)]             0         \n",
            "_________________________________________________________________\n",
            "dense_10 (Dense)             (None, 64)                50240     \n",
            "_________________________________________________________________\n",
            "activation_10 (Activation)   (None, 64)                0         \n",
            "_________________________________________________________________\n",
            "dense_11 (Dense)             (None, 10)                650       \n",
            "_________________________________________________________________\n",
            "activation_11 (Activation)   (None, 10)                0         \n",
            "=================================================================\n",
            "Total params: 50,890\n",
            "Trainable params: 50,890\n",
            "Non-trainable params: 0\n",
            "_________________________________________________________________\n"
          ],
          "name": "stdout"
        }
      ]
    },
    {
      "cell_type": "code",
      "metadata": {
        "id": "Gee-rhC_23Ex",
        "colab_type": "code",
        "colab": {}
      },
      "source": [
        "model.compile(loss='categorical_crossentropy', optimizer=\"SGD\", metrics=['accuracy'])"
      ],
      "execution_count": 0,
      "outputs": []
    },
    {
      "cell_type": "code",
      "metadata": {
        "id": "yvwb9pIZ8pSJ",
        "colab_type": "code",
        "outputId": "b31c02d8-5d7e-4ff2-f037-ee1e32049509",
        "colab": {
          "base_uri": "https://localhost:8080/",
          "height": 1000
        }
      },
      "source": [
        "history = model.fit(x_train, y_train, validation_data=(x_test, y_test), epochs=100)"
      ],
      "execution_count": 0,
      "outputs": [
        {
          "output_type": "stream",
          "text": [
            "Train on 60000 samples, validate on 10000 samples\n",
            "Epoch 1/100\n",
            "60000/60000 [==============================] - 6s 103us/sample - loss: 0.0575 - acc: 0.9848 - val_loss: 0.0883 - val_acc: 0.9734\n",
            "Epoch 2/100\n",
            "60000/60000 [==============================] - 6s 103us/sample - loss: 0.0564 - acc: 0.9851 - val_loss: 0.0882 - val_acc: 0.9732\n",
            "Epoch 3/100\n",
            "60000/60000 [==============================] - 6s 103us/sample - loss: 0.0556 - acc: 0.9856 - val_loss: 0.0873 - val_acc: 0.9736\n",
            "Epoch 4/100\n",
            "60000/60000 [==============================] - 6s 101us/sample - loss: 0.0547 - acc: 0.9856 - val_loss: 0.0874 - val_acc: 0.9741\n",
            "Epoch 5/100\n",
            "60000/60000 [==============================] - 6s 101us/sample - loss: 0.0538 - acc: 0.9857 - val_loss: 0.0867 - val_acc: 0.9730\n",
            "Epoch 6/100\n",
            "60000/60000 [==============================] - 6s 101us/sample - loss: 0.0529 - acc: 0.9862 - val_loss: 0.0871 - val_acc: 0.9745\n",
            "Epoch 7/100\n",
            "60000/60000 [==============================] - 6s 102us/sample - loss: 0.0520 - acc: 0.9864 - val_loss: 0.0871 - val_acc: 0.9740\n",
            "Epoch 8/100\n",
            "60000/60000 [==============================] - 6s 102us/sample - loss: 0.0513 - acc: 0.9867 - val_loss: 0.0861 - val_acc: 0.9741\n",
            "Epoch 9/100\n",
            "60000/60000 [==============================] - 6s 102us/sample - loss: 0.0504 - acc: 0.9867 - val_loss: 0.0853 - val_acc: 0.9737\n",
            "Epoch 10/100\n",
            "60000/60000 [==============================] - 6s 102us/sample - loss: 0.0497 - acc: 0.9869 - val_loss: 0.0849 - val_acc: 0.9745\n",
            "Epoch 11/100\n",
            "60000/60000 [==============================] - 6s 102us/sample - loss: 0.0490 - acc: 0.9871 - val_loss: 0.0846 - val_acc: 0.9747\n",
            "Epoch 12/100\n",
            "60000/60000 [==============================] - 6s 102us/sample - loss: 0.0483 - acc: 0.9872 - val_loss: 0.0844 - val_acc: 0.9745\n",
            "Epoch 13/100\n",
            "60000/60000 [==============================] - 6s 102us/sample - loss: 0.0475 - acc: 0.9877 - val_loss: 0.0839 - val_acc: 0.9744\n",
            "Epoch 14/100\n",
            "60000/60000 [==============================] - 6s 102us/sample - loss: 0.0468 - acc: 0.9881 - val_loss: 0.0835 - val_acc: 0.9749\n",
            "Epoch 15/100\n",
            "60000/60000 [==============================] - 6s 102us/sample - loss: 0.0461 - acc: 0.9880 - val_loss: 0.0837 - val_acc: 0.9740\n",
            "Epoch 16/100\n",
            "60000/60000 [==============================] - 6s 102us/sample - loss: 0.0454 - acc: 0.9882 - val_loss: 0.0839 - val_acc: 0.9744\n",
            "Epoch 17/100\n",
            "60000/60000 [==============================] - 6s 102us/sample - loss: 0.0448 - acc: 0.9888 - val_loss: 0.0841 - val_acc: 0.9750\n",
            "Epoch 18/100\n",
            "60000/60000 [==============================] - 6s 102us/sample - loss: 0.0442 - acc: 0.9888 - val_loss: 0.0836 - val_acc: 0.9750\n",
            "Epoch 19/100\n",
            "60000/60000 [==============================] - 6s 102us/sample - loss: 0.0436 - acc: 0.9893 - val_loss: 0.0826 - val_acc: 0.9745\n",
            "Epoch 20/100\n",
            "60000/60000 [==============================] - 6s 102us/sample - loss: 0.0429 - acc: 0.9890 - val_loss: 0.0826 - val_acc: 0.9756\n",
            "Epoch 21/100\n",
            "60000/60000 [==============================] - 6s 102us/sample - loss: 0.0424 - acc: 0.9892 - val_loss: 0.0824 - val_acc: 0.9752\n",
            "Epoch 22/100\n",
            "60000/60000 [==============================] - 6s 102us/sample - loss: 0.0418 - acc: 0.9898 - val_loss: 0.0820 - val_acc: 0.9753\n",
            "Epoch 23/100\n",
            "60000/60000 [==============================] - 6s 102us/sample - loss: 0.0413 - acc: 0.9898 - val_loss: 0.0819 - val_acc: 0.9754\n",
            "Epoch 24/100\n",
            "60000/60000 [==============================] - 6s 102us/sample - loss: 0.0406 - acc: 0.9899 - val_loss: 0.0822 - val_acc: 0.9756\n",
            "Epoch 25/100\n",
            "60000/60000 [==============================] - 6s 105us/sample - loss: 0.0400 - acc: 0.9903 - val_loss: 0.0817 - val_acc: 0.9763\n",
            "Epoch 26/100\n",
            "60000/60000 [==============================] - 6s 104us/sample - loss: 0.0395 - acc: 0.9902 - val_loss: 0.0818 - val_acc: 0.9755\n",
            "Epoch 27/100\n",
            "60000/60000 [==============================] - 6s 100us/sample - loss: 0.0389 - acc: 0.9905 - val_loss: 0.0818 - val_acc: 0.9759\n",
            "Epoch 28/100\n",
            "60000/60000 [==============================] - 6s 102us/sample - loss: 0.0384 - acc: 0.9908 - val_loss: 0.0818 - val_acc: 0.9762\n",
            "Epoch 29/100\n",
            "60000/60000 [==============================] - 6s 102us/sample - loss: 0.0378 - acc: 0.9910 - val_loss: 0.0823 - val_acc: 0.9757\n",
            "Epoch 30/100\n",
            "60000/60000 [==============================] - 6s 102us/sample - loss: 0.0374 - acc: 0.9910 - val_loss: 0.0818 - val_acc: 0.9757\n",
            "Epoch 31/100\n",
            "60000/60000 [==============================] - 6s 101us/sample - loss: 0.0369 - acc: 0.9909 - val_loss: 0.0817 - val_acc: 0.9759\n",
            "Epoch 32/100\n",
            "60000/60000 [==============================] - 6s 101us/sample - loss: 0.0364 - acc: 0.9914 - val_loss: 0.0813 - val_acc: 0.9758\n",
            "Epoch 33/100\n",
            "60000/60000 [==============================] - 6s 102us/sample - loss: 0.0360 - acc: 0.9914 - val_loss: 0.0809 - val_acc: 0.9759\n",
            "Epoch 34/100\n",
            "60000/60000 [==============================] - 6s 101us/sample - loss: 0.0355 - acc: 0.9915 - val_loss: 0.0808 - val_acc: 0.9761\n",
            "Epoch 35/100\n",
            "60000/60000 [==============================] - 6s 102us/sample - loss: 0.0351 - acc: 0.9918 - val_loss: 0.0808 - val_acc: 0.9767\n",
            "Epoch 36/100\n",
            "60000/60000 [==============================] - 6s 101us/sample - loss: 0.0347 - acc: 0.9919 - val_loss: 0.0811 - val_acc: 0.9769\n",
            "Epoch 37/100\n",
            "60000/60000 [==============================] - 6s 102us/sample - loss: 0.0342 - acc: 0.9920 - val_loss: 0.0804 - val_acc: 0.9764\n",
            "Epoch 38/100\n",
            "60000/60000 [==============================] - 6s 101us/sample - loss: 0.0336 - acc: 0.9922 - val_loss: 0.0810 - val_acc: 0.9771\n",
            "Epoch 39/100\n",
            "60000/60000 [==============================] - 6s 102us/sample - loss: 0.0334 - acc: 0.9922 - val_loss: 0.0813 - val_acc: 0.9758\n",
            "Epoch 40/100\n",
            "60000/60000 [==============================] - 6s 101us/sample - loss: 0.0329 - acc: 0.9923 - val_loss: 0.0809 - val_acc: 0.9769\n",
            "Epoch 41/100\n",
            "60000/60000 [==============================] - 6s 101us/sample - loss: 0.0324 - acc: 0.9926 - val_loss: 0.0817 - val_acc: 0.9763\n",
            "Epoch 42/100\n",
            "60000/60000 [==============================] - 6s 101us/sample - loss: 0.0322 - acc: 0.9929 - val_loss: 0.0801 - val_acc: 0.9765\n",
            "Epoch 43/100\n",
            "60000/60000 [==============================] - 6s 102us/sample - loss: 0.0317 - acc: 0.9930 - val_loss: 0.0800 - val_acc: 0.9767\n",
            "Epoch 44/100\n",
            "60000/60000 [==============================] - 6s 102us/sample - loss: 0.0312 - acc: 0.9930 - val_loss: 0.0815 - val_acc: 0.9765\n",
            "Epoch 45/100\n",
            "60000/60000 [==============================] - 6s 101us/sample - loss: 0.0309 - acc: 0.9932 - val_loss: 0.0800 - val_acc: 0.9757\n",
            "Epoch 46/100\n",
            "60000/60000 [==============================] - 6s 103us/sample - loss: 0.0305 - acc: 0.9932 - val_loss: 0.0807 - val_acc: 0.9773\n",
            "Epoch 47/100\n",
            "60000/60000 [==============================] - 7s 108us/sample - loss: 0.0302 - acc: 0.9933 - val_loss: 0.0801 - val_acc: 0.9766\n",
            "Epoch 48/100\n",
            "60000/60000 [==============================] - 6s 103us/sample - loss: 0.0297 - acc: 0.9935 - val_loss: 0.0799 - val_acc: 0.9770\n",
            "Epoch 49/100\n",
            "60000/60000 [==============================] - 6s 101us/sample - loss: 0.0294 - acc: 0.9936 - val_loss: 0.0805 - val_acc: 0.9764\n",
            "Epoch 50/100\n",
            "60000/60000 [==============================] - 6s 102us/sample - loss: 0.0291 - acc: 0.9937 - val_loss: 0.0798 - val_acc: 0.9769\n",
            "Epoch 51/100\n",
            "60000/60000 [==============================] - 6s 102us/sample - loss: 0.0287 - acc: 0.9937 - val_loss: 0.0802 - val_acc: 0.9763\n",
            "Epoch 52/100\n",
            "60000/60000 [==============================] - 6s 100us/sample - loss: 0.0284 - acc: 0.9939 - val_loss: 0.0804 - val_acc: 0.9764\n",
            "Epoch 53/100\n",
            "60000/60000 [==============================] - 6s 101us/sample - loss: 0.0281 - acc: 0.9939 - val_loss: 0.0799 - val_acc: 0.9764\n",
            "Epoch 54/100\n",
            "60000/60000 [==============================] - 6s 102us/sample - loss: 0.0277 - acc: 0.9942 - val_loss: 0.0803 - val_acc: 0.9764\n",
            "Epoch 55/100\n",
            "60000/60000 [==============================] - 6s 101us/sample - loss: 0.0274 - acc: 0.9944 - val_loss: 0.0804 - val_acc: 0.9768\n",
            "Epoch 56/100\n",
            "60000/60000 [==============================] - 6s 100us/sample - loss: 0.0271 - acc: 0.9943 - val_loss: 0.0801 - val_acc: 0.9767\n",
            "Epoch 57/100\n",
            "60000/60000 [==============================] - 6s 99us/sample - loss: 0.0268 - acc: 0.9944 - val_loss: 0.0797 - val_acc: 0.9761\n",
            "Epoch 58/100\n",
            "60000/60000 [==============================] - 6s 99us/sample - loss: 0.0265 - acc: 0.9946 - val_loss: 0.0806 - val_acc: 0.9763\n",
            "Epoch 59/100\n",
            "60000/60000 [==============================] - 6s 100us/sample - loss: 0.0261 - acc: 0.9946 - val_loss: 0.0809 - val_acc: 0.9766\n",
            "Epoch 60/100\n",
            "60000/60000 [==============================] - 6s 100us/sample - loss: 0.0258 - acc: 0.9949 - val_loss: 0.0805 - val_acc: 0.9766\n",
            "Epoch 61/100\n",
            "60000/60000 [==============================] - 6s 100us/sample - loss: 0.0255 - acc: 0.9949 - val_loss: 0.0809 - val_acc: 0.9768\n",
            "Epoch 62/100\n",
            "60000/60000 [==============================] - 6s 100us/sample - loss: 0.0253 - acc: 0.9950 - val_loss: 0.0803 - val_acc: 0.9774\n",
            "Epoch 63/100\n",
            "60000/60000 [==============================] - 6s 101us/sample - loss: 0.0250 - acc: 0.9951 - val_loss: 0.0801 - val_acc: 0.9767\n",
            "Epoch 64/100\n",
            "60000/60000 [==============================] - 6s 99us/sample - loss: 0.0246 - acc: 0.9952 - val_loss: 0.0811 - val_acc: 0.9768\n",
            "Epoch 65/100\n",
            "60000/60000 [==============================] - 6s 100us/sample - loss: 0.0244 - acc: 0.9952 - val_loss: 0.0803 - val_acc: 0.9774\n",
            "Epoch 66/100\n",
            "60000/60000 [==============================] - 6s 101us/sample - loss: 0.0241 - acc: 0.9951 - val_loss: 0.0811 - val_acc: 0.9768\n",
            "Epoch 67/100\n",
            "60000/60000 [==============================] - 6s 101us/sample - loss: 0.0238 - acc: 0.9954 - val_loss: 0.0806 - val_acc: 0.9768\n",
            "Epoch 68/100\n",
            "60000/60000 [==============================] - 6s 101us/sample - loss: 0.0235 - acc: 0.9956 - val_loss: 0.0800 - val_acc: 0.9765\n",
            "Epoch 69/100\n",
            "60000/60000 [==============================] - 6s 101us/sample - loss: 0.0234 - acc: 0.9954 - val_loss: 0.0804 - val_acc: 0.9757\n",
            "Epoch 70/100\n",
            "60000/60000 [==============================] - 6s 100us/sample - loss: 0.0230 - acc: 0.9957 - val_loss: 0.0813 - val_acc: 0.9759\n",
            "Epoch 71/100\n",
            "60000/60000 [==============================] - 6s 100us/sample - loss: 0.0228 - acc: 0.9957 - val_loss: 0.0807 - val_acc: 0.9763\n",
            "Epoch 72/100\n",
            "60000/60000 [==============================] - 6s 100us/sample - loss: 0.0225 - acc: 0.9958 - val_loss: 0.0811 - val_acc: 0.9766\n",
            "Epoch 73/100\n",
            "60000/60000 [==============================] - 6s 102us/sample - loss: 0.0223 - acc: 0.9958 - val_loss: 0.0806 - val_acc: 0.9762\n",
            "Epoch 74/100\n",
            "60000/60000 [==============================] - 6s 101us/sample - loss: 0.0221 - acc: 0.9960 - val_loss: 0.0817 - val_acc: 0.9770\n",
            "Epoch 75/100\n",
            "60000/60000 [==============================] - 6s 104us/sample - loss: 0.0219 - acc: 0.9960 - val_loss: 0.0801 - val_acc: 0.9771\n",
            "Epoch 76/100\n",
            "60000/60000 [==============================] - 6s 104us/sample - loss: 0.0215 - acc: 0.9962 - val_loss: 0.0810 - val_acc: 0.9770\n",
            "Epoch 77/100\n",
            "60000/60000 [==============================] - 6s 101us/sample - loss: 0.0214 - acc: 0.9962 - val_loss: 0.0811 - val_acc: 0.9767\n",
            "Epoch 78/100\n",
            "60000/60000 [==============================] - 6s 101us/sample - loss: 0.0211 - acc: 0.9962 - val_loss: 0.0812 - val_acc: 0.9771\n",
            "Epoch 79/100\n",
            "60000/60000 [==============================] - 6s 101us/sample - loss: 0.0209 - acc: 0.9963 - val_loss: 0.0810 - val_acc: 0.9765\n",
            "Epoch 80/100\n",
            "60000/60000 [==============================] - 6s 101us/sample - loss: 0.0207 - acc: 0.9965 - val_loss: 0.0812 - val_acc: 0.9764\n",
            "Epoch 81/100\n",
            "60000/60000 [==============================] - 6s 102us/sample - loss: 0.0204 - acc: 0.9963 - val_loss: 0.0810 - val_acc: 0.9769\n",
            "Epoch 82/100\n",
            "60000/60000 [==============================] - 6s 102us/sample - loss: 0.0202 - acc: 0.9968 - val_loss: 0.0810 - val_acc: 0.9769\n",
            "Epoch 83/100\n",
            "60000/60000 [==============================] - 6s 101us/sample - loss: 0.0200 - acc: 0.9968 - val_loss: 0.0811 - val_acc: 0.9776\n",
            "Epoch 84/100\n",
            "60000/60000 [==============================] - 6s 102us/sample - loss: 0.0198 - acc: 0.9966 - val_loss: 0.0816 - val_acc: 0.9760\n",
            "Epoch 85/100\n",
            "60000/60000 [==============================] - 6s 101us/sample - loss: 0.0196 - acc: 0.9967 - val_loss: 0.0812 - val_acc: 0.9772\n",
            "Epoch 86/100\n",
            "60000/60000 [==============================] - 6s 102us/sample - loss: 0.0193 - acc: 0.9969 - val_loss: 0.0821 - val_acc: 0.9768\n",
            "Epoch 87/100\n",
            "60000/60000 [==============================] - 6s 101us/sample - loss: 0.0191 - acc: 0.9970 - val_loss: 0.0812 - val_acc: 0.9768\n",
            "Epoch 88/100\n",
            "60000/60000 [==============================] - 6s 101us/sample - loss: 0.0190 - acc: 0.9972 - val_loss: 0.0820 - val_acc: 0.9764\n",
            "Epoch 89/100\n",
            "60000/60000 [==============================] - 6s 102us/sample - loss: 0.0187 - acc: 0.9971 - val_loss: 0.0814 - val_acc: 0.9766\n",
            "Epoch 90/100\n",
            "60000/60000 [==============================] - 6s 102us/sample - loss: 0.0186 - acc: 0.9971 - val_loss: 0.0823 - val_acc: 0.9763\n",
            "Epoch 91/100\n",
            "60000/60000 [==============================] - 6s 102us/sample - loss: 0.0184 - acc: 0.9971 - val_loss: 0.0821 - val_acc: 0.9766\n",
            "Epoch 92/100\n",
            "60000/60000 [==============================] - 6s 101us/sample - loss: 0.0182 - acc: 0.9973 - val_loss: 0.0819 - val_acc: 0.9773\n",
            "Epoch 93/100\n",
            "60000/60000 [==============================] - 6s 101us/sample - loss: 0.0180 - acc: 0.9974 - val_loss: 0.0823 - val_acc: 0.9760\n",
            "Epoch 94/100\n",
            "60000/60000 [==============================] - 6s 99us/sample - loss: 0.0178 - acc: 0.9974 - val_loss: 0.0818 - val_acc: 0.9764\n",
            "Epoch 95/100\n",
            "60000/60000 [==============================] - 6s 99us/sample - loss: 0.0176 - acc: 0.9975 - val_loss: 0.0828 - val_acc: 0.9766\n",
            "Epoch 96/100\n",
            "60000/60000 [==============================] - 6s 100us/sample - loss: 0.0175 - acc: 0.9975 - val_loss: 0.0818 - val_acc: 0.9773\n",
            "Epoch 97/100\n",
            "60000/60000 [==============================] - 6s 101us/sample - loss: 0.0173 - acc: 0.9976 - val_loss: 0.0817 - val_acc: 0.9773\n",
            "Epoch 98/100\n",
            "60000/60000 [==============================] - 6s 107us/sample - loss: 0.0171 - acc: 0.9976 - val_loss: 0.0822 - val_acc: 0.9767\n",
            "Epoch 99/100\n",
            "60000/60000 [==============================] - 6s 104us/sample - loss: 0.0169 - acc: 0.9978 - val_loss: 0.0821 - val_acc: 0.9767\n",
            "Epoch 100/100\n",
            "60000/60000 [==============================] - 6s 101us/sample - loss: 0.0168 - acc: 0.9979 - val_loss: 0.0824 - val_acc: 0.9762\n"
          ],
          "name": "stdout"
        }
      ]
    },
    {
      "cell_type": "markdown",
      "metadata": {
        "id": "PR_DH9x0EYD3",
        "colab_type": "text"
      },
      "source": [
        "Plot the training and validation accuracy per epoch"
      ]
    },
    {
      "cell_type": "code",
      "metadata": {
        "id": "iRkuPRyf87RJ",
        "colab_type": "code",
        "outputId": "c0ee2049-4984-4d66-d7e0-5eb03d544f5b",
        "colab": {
          "base_uri": "https://localhost:8080/",
          "height": 316
        }
      },
      "source": [
        "acc = history.history['acc']\n",
        "val_acc = history.history['val_acc']\n",
        "epochs   = range(len(acc)) # Get number of epochs\n",
        "\n",
        "plt.plot(epochs, acc, 'b')\n",
        "plt.plot(epochs, val_acc, 'r')\n",
        "plt.title('Training accuracy')\n",
        "plt.figure()\n"
      ],
      "execution_count": 0,
      "outputs": [
        {
          "output_type": "execute_result",
          "data": {
            "text/plain": [
              "<Figure size 432x288 with 0 Axes>"
            ]
          },
          "metadata": {
            "tags": []
          },
          "execution_count": 66
        },
        {
          "output_type": "display_data",
          "data": {
            "image/png": "[encoded data removed]",
            "text/plain": [
              "<Figure size 432x288 with 1 Axes>"
            ]
          },
          "metadata": {
            "tags": []
          }
        },
        {
          "output_type": "display_data",
          "data": {
            "text/plain": [
              "<Figure size 432x288 with 0 Axes>"
            ]
          },
          "metadata": {
            "tags": []
          }
        }
      ]
    },
    {
      "cell_type": "code",
      "metadata": {
        "id": "wNRYOhV_9u9m",
        "colab_type": "code",
        "colab": {}
      },
      "source": [
        ""
      ],
      "execution_count": 0,
      "outputs": []
    }
  ]
}