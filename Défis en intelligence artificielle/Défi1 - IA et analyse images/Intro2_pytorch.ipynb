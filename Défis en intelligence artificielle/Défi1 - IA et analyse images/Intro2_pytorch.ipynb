{
  "nbformat": 4,
  "nbformat_minor": 0,
  "metadata": {
    "colab": {
      "name": "Intro2_pytorch.ipynb",
      "provenance": [],
      "collapsed_sections": [],
      "include_colab_link": true
    },
    "kernelspec": {
      "name": "python3",
      "display_name": "Python 3"
    },
    "accelerator": "GPU"
  },
  "cells": [
    {
      "cell_type": "markdown",
      "metadata": {
        "id": "view-in-github",
        "colab_type": "text"
      },
      "source": [
        "<a href=\"https://colab.research.google.com/github/renaud-florquin/hands_on_AI/blob/master/Intro2_pytorch.ipynb\" target=\"_parent\"><img src=\"https://colab.research.google.com/assets/colab-badge.svg\" alt=\"Open In Colab\"/></a>"
      ]
    },
    {
      "cell_type": "markdown",
      "metadata": {
        "id": "VXT1mM8chHtC",
        "colab_type": "text"
      },
      "source": [
        "# First NMIST classifier using fully connected NN and PyTorch"
      ]
    },
    {
      "cell_type": "markdown",
      "metadata": {
        "id": "LQJlHmMpJdl2",
        "colab_type": "text"
      },
      "source": [
        "Reference: https://towardsdatascience.com/handwritten-digit-mnist-pytorch-977b5338e627"
      ]
    },
    {
      "cell_type": "code",
      "metadata": {
        "id": "cGPixajKSTUh",
        "colab_type": "code",
        "colab": {}
      },
      "source": [
        "import matplotlib.pyplot as plt\n",
        "\n",
        "import torch\n",
        "import torchvision\n",
        "import torch.nn as nn\n",
        "import torch.nn.functional as F\n"
      ],
      "execution_count": 0,
      "outputs": []
    },
    {
      "cell_type": "code",
      "metadata": {
        "id": "m54k_uP-SYEc",
        "colab_type": "code",
        "outputId": "27c5e8c3-20d5-4e42-9503-ecfd0788379f",
        "colab": {
          "base_uri": "https://localhost:8080/",
          "height": 52
        }
      },
      "source": [
        "print(torch.__version__)\n",
        "print(torch.cuda.is_available())"
      ],
      "execution_count": 2,
      "outputs": [
        {
          "output_type": "stream",
          "text": [
            "1.2.0\n",
            "True\n"
          ],
          "name": "stdout"
        }
      ]
    },
    {
      "cell_type": "markdown",
      "metadata": {
        "id": "rW2ZqNK6heNM",
        "colab_type": "text"
      },
      "source": [
        "### hyperparameters"
      ]
    },
    {
      "cell_type": "code",
      "metadata": {
        "id": "PsxL76NvX_7_",
        "colab_type": "code",
        "colab": {}
      },
      "source": [
        "input_size = 784\n",
        "output_size = 10\n",
        "\n",
        "epochs = 100\n",
        "batch_size = 50\n",
        "learning_rate = 0.0005"
      ],
      "execution_count": 0,
      "outputs": []
    },
    {
      "cell_type": "markdown",
      "metadata": {
        "id": "AmCwjva9Syl_",
        "colab_type": "text"
      },
      "source": [
        "### Train and test data loader"
      ]
    },
    {
      "cell_type": "code",
      "metadata": {
        "id": "Zj_QwsRbFKM-",
        "colab_type": "code",
        "colab": {}
      },
      "source": [
        "transform = torchvision.transforms.Compose([\n",
        "    torchvision.transforms.ToTensor(),\n",
        "    torchvision.transforms.Normalize((0.1307,),(0.3081,))])"
      ],
      "execution_count": 0,
      "outputs": []
    },
    {
      "cell_type": "code",
      "metadata": {
        "id": "NbZY1oQ_FVKW",
        "colab_type": "code",
        "colab": {}
      },
      "source": [
        "train_set = torchvision.datasets.MNIST('tmp/', download=True, train=True, transform=transform)\n",
        "test_set = torchvision.datasets.MNIST('tmp/', download=True, train=False, transform=transform)\n",
        "\n",
        "train_loader = torch.utils.data.DataLoader(train_set, batch_size=batch_size, shuffle=True)\n",
        "test_loader = torch.utils.data.DataLoader(test_set, batch_size=1000, shuffle=True)"
      ],
      "execution_count": 0,
      "outputs": []
    },
    {
      "cell_type": "markdown",
      "metadata": {
        "id": "DIHaUVLETb0r",
        "colab_type": "text"
      },
      "source": [
        "Access to the train loader to see the data and format"
      ]
    },
    {
      "cell_type": "code",
      "metadata": {
        "id": "fqQu8ILadAsR",
        "colab_type": "code",
        "colab": {}
      },
      "source": [
        "train_iter = iter(train_loader)\n",
        "x, y = train_iter.next()"
      ],
      "execution_count": 0,
      "outputs": []
    },
    {
      "cell_type": "code",
      "metadata": {
        "id": "V92xL603Ti8T",
        "colab_type": "code",
        "outputId": "2870835f-f346-4eaf-d9f9-cf7b8fcca699",
        "colab": {
          "base_uri": "https://localhost:8080/",
          "height": 35
        }
      },
      "source": [
        "x.shape, y.shape"
      ],
      "execution_count": 7,
      "outputs": [
        {
          "output_type": "execute_result",
          "data": {
            "text/plain": [
              "(torch.Size([50, 1, 28, 28]), torch.Size([50]))"
            ]
          },
          "metadata": {
            "tags": []
          },
          "execution_count": 7
        }
      ]
    },
    {
      "cell_type": "markdown",
      "metadata": {
        "id": "3GxrsKafHuzE",
        "colab_type": "text"
      },
      "source": [
        "Display the label of the fist batch"
      ]
    },
    {
      "cell_type": "code",
      "metadata": {
        "id": "hdtlkjaCHk3u",
        "colab_type": "code",
        "outputId": "69549b4a-c92c-4aec-cc51-5682579ddbdb",
        "colab": {
          "base_uri": "https://localhost:8080/",
          "height": 104
        }
      },
      "source": [
        "print(y.reshape(batch_size//10, 10))"
      ],
      "execution_count": 8,
      "outputs": [
        {
          "output_type": "stream",
          "text": [
            "tensor([[3, 6, 4, 4, 3, 9, 5, 1, 1, 7],\n",
            "        [1, 8, 2, 5, 8, 8, 9, 3, 4, 4],\n",
            "        [3, 1, 4, 0, 7, 3, 9, 4, 8, 1],\n",
            "        [1, 8, 1, 7, 0, 8, 9, 7, 8, 1],\n",
            "        [1, 3, 6, 0, 4, 4, 1, 1, 4, 2]])\n"
          ],
          "name": "stdout"
        }
      ]
    },
    {
      "cell_type": "markdown",
      "metadata": {
        "id": "1IOZMCHQHnAn",
        "colab_type": "text"
      },
      "source": [
        "Display the x content (batch_size images of handwritten digits)"
      ]
    },
    {
      "cell_type": "code",
      "metadata": {
        "id": "oxLOVtxsHDZe",
        "colab_type": "code",
        "outputId": "33c0bc1f-07f0-4ec0-92bf-22c367fe4863",
        "colab": {
          "base_uri": "https://localhost:8080/",
          "height": 229
        }
      },
      "source": [
        "figure = plt.figure()\n",
        "\n",
        "for index in range(batch_size):\n",
        "    plt.subplot(6, 10, index+1)\n",
        "    plt.axis('off')\n",
        "    plt.imshow(x[index].numpy().squeeze(), cmap='gray_r')\n",
        "plt.show()"
      ],
      "execution_count": 9,
      "outputs": [
        {
          "output_type": "display_data",
          "data": {
            "image/png": "[encoded data removed]",
            "text/plain": [
              "<Figure size 432x288 with 50 Axes>"
            ]
          },
          "metadata": {
            "tags": []
          }
        }
      ]
    },
    {
      "cell_type": "markdown",
      "metadata": {
        "id": "Vfpi9ggzUhe3",
        "colab_type": "text"
      },
      "source": [
        "### Neural network definition"
      ]
    },
    {
      "cell_type": "code",
      "metadata": {
        "id": "7ZaWOfhLWSC5",
        "colab_type": "code",
        "colab": {}
      },
      "source": [
        "class Network(nn.Module):\n",
        "    def __init__(self):\n",
        "        super(Network, self).__init__()\n",
        "        self.layer1 = nn.Linear(input_size, 128)\n",
        "        self.layer2 = nn.Linear(128, 64)\n",
        "        self.layer3 = nn.Linear(64, output_size)\n",
        "        \n",
        "    def forward(self, x):\n",
        "        z = self.layer1(x)\n",
        "        z = F.relu(z)\n",
        "        z = self.layer2(z)\n",
        "        z = F.relu(z)\n",
        "        z = self.layer3(z)\n",
        "        return F.log_softmax(z)"
      ],
      "execution_count": 0,
      "outputs": []
    },
    {
      "cell_type": "code",
      "metadata": {
        "id": "_tZ78UD1X3vW",
        "colab_type": "code",
        "outputId": "c057da35-5a7f-48bb-e72c-0973c7035efb",
        "colab": {
          "base_uri": "https://localhost:8080/",
          "height": 104
        }
      },
      "source": [
        "net = Network()\n",
        "print(net)"
      ],
      "execution_count": 11,
      "outputs": [
        {
          "output_type": "stream",
          "text": [
            "Network(\n",
            "  (layer1): Linear(in_features=784, out_features=128, bias=True)\n",
            "  (layer2): Linear(in_features=128, out_features=64, bias=True)\n",
            "  (layer3): Linear(in_features=64, out_features=10, bias=True)\n",
            ")\n"
          ],
          "name": "stdout"
        }
      ]
    },
    {
      "cell_type": "markdown",
      "metadata": {
        "id": "nP352lC0Jw9o",
        "colab_type": "text"
      },
      "source": [
        "Other solution: "
      ]
    },
    {
      "cell_type": "code",
      "metadata": {
        "id": "XMMZ5Aq3JspS",
        "colab_type": "code",
        "colab": {}
      },
      "source": [
        "net2 = nn.Sequential(nn.Linear(input_size, 128),\n",
        "                      nn.ReLU(),\n",
        "                      nn.Linear(128, 64),\n",
        "                      nn.ReLU(),\n",
        "                      nn.Linear(64, output_size),\n",
        "                      nn.LogSoftmax(dim=1))"
      ],
      "execution_count": 0,
      "outputs": []
    },
    {
      "cell_type": "markdown",
      "metadata": {
        "id": "lG4GI1nRhynU",
        "colab_type": "text"
      },
      "source": [
        "### Optimizer and Loss function definition"
      ]
    },
    {
      "cell_type": "code",
      "metadata": {
        "id": "mHnNuIKuX7nn",
        "colab_type": "code",
        "colab": {}
      },
      "source": [
        "optimizer = torch.optim.SGD(net.parameters(), lr=learning_rate, momentum=0.9)\n",
        "loss_func = nn.CrossEntropyLoss()"
      ],
      "execution_count": 0,
      "outputs": []
    },
    {
      "cell_type": "markdown",
      "metadata": {
        "id": "WhGuOz3ph5A-",
        "colab_type": "text"
      },
      "source": [
        "### Train function"
      ]
    },
    {
      "cell_type": "code",
      "metadata": {
        "id": "1Ta7yiWVZ3cH",
        "colab_type": "code",
        "colab": {}
      },
      "source": [
        "def train_network():\n",
        "    running_loss = 0\n",
        "    net.train()\n",
        "    for x, y in train_loader:\n",
        "        # Flatten MNIST images into a 784 long vector\n",
        "        x = x.view(x.shape[0], -1)      \n",
        "        optimizer.zero_grad()\n",
        "        output = net(x)\n",
        "        loss = F.nll_loss(output, y)\n",
        "        loss.backward()\n",
        "        optimizer.step()\n",
        "        running_loss += loss.item()\n",
        "    return running_loss / len(train_loader.dataset)\n"
      ],
      "execution_count": 0,
      "outputs": []
    },
    {
      "cell_type": "markdown",
      "metadata": {
        "id": "fqeCy5KhiFDA",
        "colab_type": "text"
      },
      "source": [
        "### Evaluation function"
      ]
    },
    {
      "cell_type": "code",
      "metadata": {
        "id": "HBJ8Hm9SbBth",
        "colab_type": "code",
        "colab": {}
      },
      "source": [
        "def test_network():\n",
        "    net.eval()\n",
        "    test_loss = 0\n",
        "    correct = 0\n",
        "    with torch.no_grad():\n",
        "        for x, y in test_loader:\n",
        "            x = x.view(x.shape[0], -1)      \n",
        "            output = net(x)\n",
        "            test_loss += F.nll_loss(output, y, size_average=False).item()\n",
        "            pred = output.data.max(1, keepdim=True)[1]\n",
        "            correct += pred.eq(y.data.view_as(pred)).sum()\n",
        "    test_loss /= len(test_loader.dataset)\n",
        "    test_accuracy = 100. * correct / len(test_loader.dataset)\n",
        "    return test_loss, test_accuracy\n"
      ],
      "execution_count": 0,
      "outputs": []
    },
    {
      "cell_type": "markdown",
      "metadata": {
        "id": "3-eEni5WiKVh",
        "colab_type": "text"
      },
      "source": [
        "### Train phase"
      ]
    },
    {
      "cell_type": "code",
      "metadata": {
        "id": "JD01vEiHaxd6",
        "colab_type": "code",
        "outputId": "258d2602-9282-41f3-a9d0-3aa1445c60b8",
        "colab": {
          "base_uri": "https://localhost:8080/",
          "height": 1000
        }
      },
      "source": [
        "metrics = {'avg_train_loss': [], 'avg_test_loss': [], 'test_accuracy': []}\n",
        "for e in range(epochs):\n",
        "        avg_train_loss = train_network()\n",
        "        avg_test_loss, test_accuracy = test_network()\n",
        "        print('Epooch {:03}/{:03}, Avg. Train loss: {:.4f}, Avg. Test loss: {:.4f}, Accuracy: {:.0f}%'.format(e+1, epochs, avg_train_loss, avg_test_loss, test_accuracy)) \n",
        "        metrics['avg_train_loss'].append(avg_train_loss)\n",
        "        metrics['avg_test_loss'].append(avg_test_loss)\n",
        "        metrics['test_accuracy'].append(test_accuracy)"
      ],
      "execution_count": 16,
      "outputs": [
        {
          "output_type": "stream",
          "text": [
            "/usr/local/lib/python3.6/dist-packages/ipykernel_launcher.py:14: UserWarning: Implicit dimension choice for log_softmax has been deprecated. Change the call to include dim=X as an argument.\n",
            "  \n",
            "/usr/local/lib/python3.6/dist-packages/torch/nn/_reduction.py:43: UserWarning: size_average and reduce args will be deprecated, please use reduction='sum' instead.\n",
            "  warnings.warn(warning.format(ret))\n"
          ],
          "name": "stderr"
        },
        {
          "output_type": "stream",
          "text": [
            "Epooch 001/100, Avg. Train loss: 0.0223, Avg. Test loss: 0.4292, Accuracy: 88%\n",
            "Epooch 002/100, Avg. Train loss: 0.0075, Avg. Test loss: 0.3202, Accuracy: 90%\n",
            "Epooch 003/100, Avg. Train loss: 0.0062, Avg. Test loss: 0.2811, Accuracy: 91%\n",
            "Epooch 004/100, Avg. Train loss: 0.0055, Avg. Test loss: 0.2512, Accuracy: 92%\n",
            "Epooch 005/100, Avg. Train loss: 0.0049, Avg. Test loss: 0.2277, Accuracy: 93%\n",
            "Epooch 006/100, Avg. Train loss: 0.0045, Avg. Test loss: 0.2072, Accuracy: 94%\n",
            "Epooch 007/100, Avg. Train loss: 0.0040, Avg. Test loss: 0.1915, Accuracy: 94%\n",
            "Epooch 008/100, Avg. Train loss: 0.0037, Avg. Test loss: 0.1779, Accuracy: 94%\n",
            "Epooch 009/100, Avg. Train loss: 0.0034, Avg. Test loss: 0.1674, Accuracy: 95%\n",
            "Epooch 010/100, Avg. Train loss: 0.0032, Avg. Test loss: 0.1523, Accuracy: 95%\n",
            "Epooch 011/100, Avg. Train loss: 0.0029, Avg. Test loss: 0.1455, Accuracy: 95%\n",
            "Epooch 012/100, Avg. Train loss: 0.0027, Avg. Test loss: 0.1371, Accuracy: 96%\n",
            "Epooch 013/100, Avg. Train loss: 0.0025, Avg. Test loss: 0.1312, Accuracy: 96%\n",
            "Epooch 014/100, Avg. Train loss: 0.0024, Avg. Test loss: 0.1236, Accuracy: 96%\n",
            "Epooch 015/100, Avg. Train loss: 0.0023, Avg. Test loss: 0.1184, Accuracy: 96%\n",
            "Epooch 016/100, Avg. Train loss: 0.0021, Avg. Test loss: 0.1139, Accuracy: 96%\n",
            "Epooch 017/100, Avg. Train loss: 0.0020, Avg. Test loss: 0.1083, Accuracy: 96%\n",
            "Epooch 018/100, Avg. Train loss: 0.0019, Avg. Test loss: 0.1045, Accuracy: 96%\n",
            "Epooch 019/100, Avg. Train loss: 0.0018, Avg. Test loss: 0.1010, Accuracy: 96%\n",
            "Epooch 020/100, Avg. Train loss: 0.0017, Avg. Test loss: 0.0987, Accuracy: 97%\n",
            "Epooch 021/100, Avg. Train loss: 0.0016, Avg. Test loss: 0.0966, Accuracy: 97%\n",
            "Epooch 022/100, Avg. Train loss: 0.0016, Avg. Test loss: 0.0930, Accuracy: 97%\n",
            "Epooch 023/100, Avg. Train loss: 0.0015, Avg. Test loss: 0.0903, Accuracy: 97%\n",
            "Epooch 024/100, Avg. Train loss: 0.0014, Avg. Test loss: 0.0872, Accuracy: 97%\n",
            "Epooch 025/100, Avg. Train loss: 0.0014, Avg. Test loss: 0.0860, Accuracy: 97%\n",
            "Epooch 026/100, Avg. Train loss: 0.0013, Avg. Test loss: 0.0859, Accuracy: 97%\n",
            "Epooch 027/100, Avg. Train loss: 0.0013, Avg. Test loss: 0.0842, Accuracy: 97%\n",
            "Epooch 028/100, Avg. Train loss: 0.0012, Avg. Test loss: 0.0813, Accuracy: 97%\n",
            "Epooch 029/100, Avg. Train loss: 0.0012, Avg. Test loss: 0.0788, Accuracy: 97%\n",
            "Epooch 030/100, Avg. Train loss: 0.0011, Avg. Test loss: 0.0790, Accuracy: 97%\n",
            "Epooch 031/100, Avg. Train loss: 0.0011, Avg. Test loss: 0.0772, Accuracy: 97%\n",
            "Epooch 032/100, Avg. Train loss: 0.0010, Avg. Test loss: 0.0755, Accuracy: 97%\n",
            "Epooch 033/100, Avg. Train loss: 0.0010, Avg. Test loss: 0.0754, Accuracy: 97%\n",
            "Epooch 034/100, Avg. Train loss: 0.0010, Avg. Test loss: 0.0740, Accuracy: 97%\n",
            "Epooch 035/100, Avg. Train loss: 0.0009, Avg. Test loss: 0.0738, Accuracy: 97%\n",
            "Epooch 036/100, Avg. Train loss: 0.0009, Avg. Test loss: 0.0735, Accuracy: 97%\n",
            "Epooch 037/100, Avg. Train loss: 0.0009, Avg. Test loss: 0.0729, Accuracy: 97%\n",
            "Epooch 038/100, Avg. Train loss: 0.0008, Avg. Test loss: 0.0726, Accuracy: 97%\n",
            "Epooch 039/100, Avg. Train loss: 0.0008, Avg. Test loss: 0.0712, Accuracy: 97%\n",
            "Epooch 040/100, Avg. Train loss: 0.0008, Avg. Test loss: 0.0725, Accuracy: 97%\n",
            "Epooch 041/100, Avg. Train loss: 0.0007, Avg. Test loss: 0.0706, Accuracy: 97%\n",
            "Epooch 042/100, Avg. Train loss: 0.0007, Avg. Test loss: 0.0707, Accuracy: 97%\n",
            "Epooch 043/100, Avg. Train loss: 0.0007, Avg. Test loss: 0.0721, Accuracy: 97%\n",
            "Epooch 044/100, Avg. Train loss: 0.0007, Avg. Test loss: 0.0694, Accuracy: 97%\n",
            "Epooch 045/100, Avg. Train loss: 0.0006, Avg. Test loss: 0.0702, Accuracy: 97%\n",
            "Epooch 046/100, Avg. Train loss: 0.0006, Avg. Test loss: 0.0687, Accuracy: 97%\n",
            "Epooch 047/100, Avg. Train loss: 0.0006, Avg. Test loss: 0.0712, Accuracy: 97%\n",
            "Epooch 048/100, Avg. Train loss: 0.0006, Avg. Test loss: 0.0692, Accuracy: 97%\n",
            "Epooch 049/100, Avg. Train loss: 0.0006, Avg. Test loss: 0.0685, Accuracy: 97%\n",
            "Epooch 050/100, Avg. Train loss: 0.0005, Avg. Test loss: 0.0689, Accuracy: 97%\n",
            "Epooch 051/100, Avg. Train loss: 0.0005, Avg. Test loss: 0.0690, Accuracy: 97%\n",
            "Epooch 052/100, Avg. Train loss: 0.0005, Avg. Test loss: 0.0682, Accuracy: 97%\n",
            "Epooch 053/100, Avg. Train loss: 0.0005, Avg. Test loss: 0.0684, Accuracy: 97%\n",
            "Epooch 054/100, Avg. Train loss: 0.0005, Avg. Test loss: 0.0683, Accuracy: 97%\n",
            "Epooch 055/100, Avg. Train loss: 0.0005, Avg. Test loss: 0.0682, Accuracy: 97%\n",
            "Epooch 056/100, Avg. Train loss: 0.0004, Avg. Test loss: 0.0671, Accuracy: 98%\n",
            "Epooch 057/100, Avg. Train loss: 0.0004, Avg. Test loss: 0.0678, Accuracy: 97%\n",
            "Epooch 058/100, Avg. Train loss: 0.0004, Avg. Test loss: 0.0684, Accuracy: 97%\n",
            "Epooch 059/100, Avg. Train loss: 0.0004, Avg. Test loss: 0.0686, Accuracy: 97%\n",
            "Epooch 060/100, Avg. Train loss: 0.0004, Avg. Test loss: 0.0675, Accuracy: 97%\n",
            "Epooch 061/100, Avg. Train loss: 0.0004, Avg. Test loss: 0.0680, Accuracy: 97%\n",
            "Epooch 062/100, Avg. Train loss: 0.0004, Avg. Test loss: 0.0678, Accuracy: 98%\n",
            "Epooch 063/100, Avg. Train loss: 0.0003, Avg. Test loss: 0.0688, Accuracy: 97%\n",
            "Epooch 064/100, Avg. Train loss: 0.0003, Avg. Test loss: 0.0685, Accuracy: 98%\n",
            "Epooch 065/100, Avg. Train loss: 0.0003, Avg. Test loss: 0.0687, Accuracy: 98%\n",
            "Epooch 066/100, Avg. Train loss: 0.0003, Avg. Test loss: 0.0674, Accuracy: 98%\n",
            "Epooch 067/100, Avg. Train loss: 0.0003, Avg. Test loss: 0.0684, Accuracy: 97%\n",
            "Epooch 068/100, Avg. Train loss: 0.0003, Avg. Test loss: 0.0684, Accuracy: 98%\n",
            "Epooch 069/100, Avg. Train loss: 0.0003, Avg. Test loss: 0.0679, Accuracy: 98%\n",
            "Epooch 070/100, Avg. Train loss: 0.0003, Avg. Test loss: 0.0690, Accuracy: 98%\n",
            "Epooch 071/100, Avg. Train loss: 0.0003, Avg. Test loss: 0.0691, Accuracy: 98%\n",
            "Epooch 072/100, Avg. Train loss: 0.0003, Avg. Test loss: 0.0698, Accuracy: 97%\n",
            "Epooch 073/100, Avg. Train loss: 0.0003, Avg. Test loss: 0.0688, Accuracy: 98%\n",
            "Epooch 074/100, Avg. Train loss: 0.0002, Avg. Test loss: 0.0692, Accuracy: 98%\n",
            "Epooch 075/100, Avg. Train loss: 0.0002, Avg. Test loss: 0.0684, Accuracy: 98%\n",
            "Epooch 076/100, Avg. Train loss: 0.0002, Avg. Test loss: 0.0696, Accuracy: 98%\n",
            "Epooch 077/100, Avg. Train loss: 0.0002, Avg. Test loss: 0.0701, Accuracy: 97%\n",
            "Epooch 078/100, Avg. Train loss: 0.0002, Avg. Test loss: 0.0690, Accuracy: 98%\n",
            "Epooch 079/100, Avg. Train loss: 0.0002, Avg. Test loss: 0.0699, Accuracy: 98%\n",
            "Epooch 080/100, Avg. Train loss: 0.0002, Avg. Test loss: 0.0689, Accuracy: 98%\n",
            "Epooch 081/100, Avg. Train loss: 0.0002, Avg. Test loss: 0.0701, Accuracy: 97%\n",
            "Epooch 082/100, Avg. Train loss: 0.0002, Avg. Test loss: 0.0700, Accuracy: 98%\n",
            "Epooch 083/100, Avg. Train loss: 0.0002, Avg. Test loss: 0.0701, Accuracy: 98%\n",
            "Epooch 084/100, Avg. Train loss: 0.0002, Avg. Test loss: 0.0705, Accuracy: 98%\n",
            "Epooch 085/100, Avg. Train loss: 0.0002, Avg. Test loss: 0.0720, Accuracy: 97%\n",
            "Epooch 086/100, Avg. Train loss: 0.0002, Avg. Test loss: 0.0709, Accuracy: 98%\n",
            "Epooch 087/100, Avg. Train loss: 0.0002, Avg. Test loss: 0.0707, Accuracy: 98%\n",
            "Epooch 088/100, Avg. Train loss: 0.0002, Avg. Test loss: 0.0701, Accuracy: 98%\n",
            "Epooch 089/100, Avg. Train loss: 0.0002, Avg. Test loss: 0.0709, Accuracy: 98%\n",
            "Epooch 090/100, Avg. Train loss: 0.0002, Avg. Test loss: 0.0705, Accuracy: 98%\n",
            "Epooch 091/100, Avg. Train loss: 0.0002, Avg. Test loss: 0.0716, Accuracy: 98%\n",
            "Epooch 092/100, Avg. Train loss: 0.0001, Avg. Test loss: 0.0717, Accuracy: 98%\n",
            "Epooch 093/100, Avg. Train loss: 0.0001, Avg. Test loss: 0.0711, Accuracy: 98%\n",
            "Epooch 094/100, Avg. Train loss: 0.0001, Avg. Test loss: 0.0722, Accuracy: 98%\n",
            "Epooch 095/100, Avg. Train loss: 0.0001, Avg. Test loss: 0.0720, Accuracy: 98%\n",
            "Epooch 096/100, Avg. Train loss: 0.0001, Avg. Test loss: 0.0716, Accuracy: 98%\n",
            "Epooch 097/100, Avg. Train loss: 0.0001, Avg. Test loss: 0.0720, Accuracy: 98%\n",
            "Epooch 098/100, Avg. Train loss: 0.0001, Avg. Test loss: 0.0724, Accuracy: 98%\n",
            "Epooch 099/100, Avg. Train loss: 0.0001, Avg. Test loss: 0.0725, Accuracy: 98%\n",
            "Epooch 100/100, Avg. Train loss: 0.0001, Avg. Test loss: 0.0735, Accuracy: 97%\n"
          ],
          "name": "stdout"
        }
      ]
    },
    {
      "cell_type": "markdown",
      "metadata": {
        "id": "OuL1tXWwiUPG",
        "colab_type": "text"
      },
      "source": [
        "### Display the evolution of the test accuracy"
      ]
    },
    {
      "cell_type": "code",
      "metadata": {
        "id": "p8ebahdd8AOZ",
        "colab_type": "code",
        "outputId": "16a6d46f-8cf5-4335-b859-0dc58a13c2f3",
        "colab": {
          "base_uri": "https://localhost:8080/",
          "height": 283
        }
      },
      "source": [
        "plt.plot(range(epochs), metrics['test_accuracy'], color='blue')\n",
        "plt.legend(['Test accuracy'], loc='lower right')\n",
        "plt.xlabel('Epooch')\n",
        "plt.ylabel('Accuracy [%]')\n",
        "\n",
        "plt.show()"
      ],
      "execution_count": 17,
      "outputs": [
        {
          "output_type": "display_data",
          "data": {
            "image/png": "[encoded data removed]",
            "text/plain": [
              "<Figure size 432x288 with 1 Axes>"
            ]
          },
          "metadata": {
            "tags": []
          }
        }
      ]
    },
    {
      "cell_type": "code",
      "metadata": {
        "id": "o4xDWcV78y-c",
        "colab_type": "code",
        "colab": {
          "base_uri": "https://localhost:8080/",
          "height": 283
        },
        "outputId": "aa46fcf5-d50b-4b67-b96d-818629e28799"
      },
      "source": [
        "plt.plot(range(epochs), metrics['avg_train_loss'], color='blue')\n",
        "plt.plot(range(epochs), metrics['avg_test_loss'], color='blue')\n",
        "plt.legend(['Test accuracy'], loc='lower right')\n",
        "plt.xlabel('Epooch')\n",
        "plt.ylabel('Accuracy [%]')\n",
        "\n",
        "plt.show()"
      ],
      "execution_count": 18,
      "outputs": [
        {
          "output_type": "display_data",
          "data": {
            "image/png": "[encoded data removed]",
            "text/plain": [
              "<Figure size 432x288 with 1 Axes>"
            ]
          },
          "metadata": {
            "tags": []
          }
        }
      ]
    }
  ]
}