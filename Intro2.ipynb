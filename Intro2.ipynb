{
  "nbformat": 4,
  "nbformat_minor": 0,
  "metadata": {
    "colab": {
      "name": "Intro2.ipynb",
      "provenance": [],
      "collapsed_sections": [],
      "include_colab_link": true
    },
    "kernelspec": {
      "name": "python3",
      "display_name": "Python 3"
    },
    "accelerator": "GPU"
  },
  "cells": [
    {
      "cell_type": "markdown",
      "metadata": {
        "id": "view-in-github",
        "colab_type": "text"
      },
      "source": [
        "<a href=\"https://colab.research.google.com/github/renaud-florquin/hands_on_AI/blob/master/Intro2.ipynb\" target=\"_parent\"><img src=\"https://colab.research.google.com/assets/colab-badge.svg\" alt=\"Open In Colab\"/></a>"
      ]
    },
    {
      "cell_type": "code",
      "metadata": {
        "id": "y2z18Vjr2bsu",
        "colab_type": "code",
        "outputId": "1acac985-36c5-4b39-827a-719f5a1bcae9",
        "colab": {
          "base_uri": "https://localhost:8080/",
          "height": 338
        }
      },
      "source": [
        "!nvidia-smi"
      ],
      "execution_count": 1,
      "outputs": [
        {
          "output_type": "stream",
          "text": [
            "Fri Oct  4 14:23:00 2019       \n",
            "+-----------------------------------------------------------------------------+\n",
            "| NVIDIA-SMI 430.40       Driver Version: 418.67       CUDA Version: 10.1     |\n",
            "|-------------------------------+----------------------+----------------------+\n",
            "| GPU  Name        Persistence-M| Bus-Id        Disp.A | Volatile Uncorr. ECC |\n",
            "| Fan  Temp  Perf  Pwr:Usage/Cap|         Memory-Usage | GPU-Util  Compute M. |\n",
            "|===============================+======================+======================|\n",
            "|   0  Tesla K80           Off  | 00000000:00:04.0 Off |                    0 |\n",
            "| N/A   49C    P8    32W / 149W |      0MiB / 11441MiB |      0%      Default |\n",
            "+-------------------------------+----------------------+----------------------+\n",
            "                                                                               \n",
            "+-----------------------------------------------------------------------------+\n",
            "| Processes:                                                       GPU Memory |\n",
            "|  GPU       PID   Type   Process name                             Usage      |\n",
            "|=============================================================================|\n",
            "|  No running processes found                                                 |\n",
            "+-----------------------------------------------------------------------------+\n"
          ],
          "name": "stdout"
        }
      ]
    },
    {
      "cell_type": "code",
      "metadata": {
        "id": "H318Syzc1-9c",
        "colab_type": "code",
        "colab": {
          "base_uri": "https://localhost:8080/",
          "height": 36
        },
        "outputId": "d4f036b0-cd05-493d-94aa-a98e4ed629fd"
      },
      "source": [
        "import matplotlib.pyplot as plt\n",
        "import numpy as np\n",
        "import tensorflow as tf\n",
        "from keras.utils import np_utils"
      ],
      "execution_count": 2,
      "outputs": [
        {
          "output_type": "stream",
          "text": [
            "Using TensorFlow backend.\n"
          ],
          "name": "stderr"
        }
      ]
    },
    {
      "cell_type": "markdown",
      "metadata": {
        "id": "NYOqb0f49lDl",
        "colab_type": "text"
      },
      "source": [
        "Load the data and check the size of the train and test dataset"
      ]
    },
    {
      "cell_type": "code",
      "metadata": {
        "id": "wCRebTMB2Vmq",
        "colab_type": "code",
        "colab": {}
      },
      "source": [
        "(x_train, y_train), (x_test, y_test) = tf.keras.datasets.mnist.load_data() "
      ],
      "execution_count": 0,
      "outputs": []
    },
    {
      "cell_type": "code",
      "metadata": {
        "id": "OWU-KvIP3BCM",
        "colab_type": "code",
        "outputId": "8ac47807-2cbf-48cf-840c-91ae49eae78e",
        "colab": {
          "base_uri": "https://localhost:8080/",
          "height": 92
        }
      },
      "source": [
        "print('x Train: ', x_train.shape)\n",
        "print('y Train: ', y_train.shape)\n",
        "print('x Test: ', x_test.shape)\n",
        "print('y Test: ', y_test.shape)"
      ],
      "execution_count": 10,
      "outputs": [
        {
          "output_type": "stream",
          "text": [
            "x Train:  (60000, 28, 28)\n",
            "y Train:  (60000,)\n",
            "x Test:  (10000, 28, 28)\n",
            "y Test:  (10000,)\n"
          ],
          "name": "stdout"
        }
      ]
    },
    {
      "cell_type": "markdown",
      "metadata": {
        "id": "FcO26BFdFTN2",
        "colab_type": "text"
      },
      "source": [
        "Display the first images and the corresponding label"
      ]
    },
    {
      "cell_type": "code",
      "metadata": {
        "id": "jp_VaYid3I9w",
        "colab_type": "code",
        "outputId": "d6e3b2b3-7bce-4a1e-abd4-6a6a932dcbfe",
        "colab": {
          "base_uri": "https://localhost:8080/",
          "height": 264
        }
      },
      "source": [
        "amount = 20\n",
        "img_rows = 3\n",
        "img_columns = 4\n",
        "amount = img_rows * img_columns\n",
        "fig = plt.figure()\n",
        "\n",
        "for i in range(amount):\n",
        "    ax = fig.add_subplot(img_rows, img_columns, 1 + i)\n",
        "    plt.imshow(x_train[i], cmap='binary')\n",
        "    plt.title(y_train[i])\n",
        "    ax.get_xaxis().set_visible(False)\n",
        "    ax.get_yaxis().set_visible(False)\n",
        "    plt.sca(ax)\n",
        "\n",
        "plt.show()"
      ],
      "execution_count": 11,
      "outputs": [
        {
          "output_type": "display_data",
          "data": {
            "image/png": "[encoded data removed]",
            "text/plain": [
              "<Figure size 432x288 with 12 Axes>"
            ]
          },
          "metadata": {
            "tags": []
          }
        }
      ]
    },
    {
      "cell_type": "code",
      "metadata": {
        "id": "uEJLmh2c3Woh",
        "colab_type": "code",
        "colab": {}
      },
      "source": [
        "x_train = x_train.reshape(x_train.shape[0], x_train.shape[1]*x_train.shape[2])\n",
        "x_test = x_test.reshape(x_test.shape[0], x_test.shape[1]*x_test.shape[2])"
      ],
      "execution_count": 0,
      "outputs": []
    },
    {
      "cell_type": "code",
      "metadata": {
        "id": "M-rSGkBN3vtV",
        "colab_type": "code",
        "colab": {}
      },
      "source": [
        "x_train = x_train.astype('float32') / 255.0\n",
        "x_test = x_test.astype('float32') / 255.0"
      ],
      "execution_count": 0,
      "outputs": []
    },
    {
      "cell_type": "code",
      "metadata": {
        "id": "5WrBb3kI37t1",
        "colab_type": "code",
        "colab": {}
      },
      "source": [
        "nb_classes=10\n",
        "y_train = np_utils.to_categorical(y_train, nb_classes)\n",
        "y_test = np_utils.to_categorical(y_test, nb_classes)"
      ],
      "execution_count": 0,
      "outputs": []
    },
    {
      "cell_type": "code",
      "metadata": {
        "colab_type": "code",
        "outputId": "60580603-d672-4f45-b2a8-e56c7d17df69",
        "id": "qgCY_5ddDP2j",
        "colab": {
          "base_uri": "https://localhost:8080/",
          "height": 92
        }
      },
      "source": [
        "print(x_train.shape)\n",
        "print(y_train.shape)\n",
        "print(x_test.shape)\n",
        "print(y_test.shape)"
      ],
      "execution_count": 0,
      "outputs": [
        {
          "output_type": "stream",
          "text": [
            "(60000, 784)\n",
            "(60000, 10)\n",
            "(10000, 784)\n",
            "(10000, 10)\n"
          ],
          "name": "stdout"
        }
      ]
    },
    {
      "cell_type": "code",
      "metadata": {
        "id": "p6viHutb3nyo",
        "colab_type": "code",
        "outputId": "33737405-7c42-490e-e13c-ed27fc660840",
        "colab": {
          "base_uri": "https://localhost:8080/",
          "height": 36
        }
      },
      "source": [
        "y_train[0]"
      ],
      "execution_count": 0,
      "outputs": [
        {
          "output_type": "execute_result",
          "data": {
            "text/plain": [
              "array([0., 0., 0., 0., 0., 1., 0., 0., 0., 0.], dtype=float32)"
            ]
          },
          "metadata": {
            "tags": []
          },
          "execution_count": 25
        }
      ]
    },
    {
      "cell_type": "code",
      "metadata": {
        "id": "iGB3DTxg28R2",
        "colab_type": "code",
        "outputId": "53280289-36ac-44fe-fc4c-b18763f71d75",
        "colab": {
          "base_uri": "https://localhost:8080/",
          "height": 94
        }
      },
      "source": [
        "# solution 1\n",
        "model = tf.keras.models.Sequential()\n",
        "model.add(tf.keras.layers.Dense(32, input_shape=(784,)))\n",
        "model.add(tf.keras.layers.Activation('relu'))\n",
        "model.add(tf.keras.layers.Dense(nb_classes))\n",
        "model.add(tf.keras.layers.Activation('softmax'))"
      ],
      "execution_count": 0,
      "outputs": [
        {
          "output_type": "stream",
          "text": [
            "WARNING:tensorflow:From /usr/local/lib/python3.6/dist-packages/tensorflow/python/ops/init_ops.py:1251: calling VarianceScaling.__init__ (from tensorflow.python.ops.init_ops) with dtype is deprecated and will be removed in a future version.\n",
            "Instructions for updating:\n",
            "Call initializer instance with the dtype argument instead of passing it to the constructor\n"
          ],
          "name": "stdout"
        }
      ]
    },
    {
      "cell_type": "code",
      "metadata": {
        "id": "Q5IRu_gy8Anx",
        "colab_type": "code",
        "outputId": "b175c622-96e8-424d-f5b0-4515446ad678",
        "colab": {
          "base_uri": "https://localhost:8080/",
          "height": 319
        }
      },
      "source": [
        "model.summary()"
      ],
      "execution_count": 0,
      "outputs": [
        {
          "output_type": "stream",
          "text": [
            "Model: \"sequential\"\n",
            "_________________________________________________________________\n",
            "Layer (type)                 Output Shape              Param #   \n",
            "=================================================================\n",
            "dense (Dense)                (None, 32)                25120     \n",
            "_________________________________________________________________\n",
            "activation (Activation)      (None, 32)                0         \n",
            "_________________________________________________________________\n",
            "dense_1 (Dense)              (None, 10)                330       \n",
            "_________________________________________________________________\n",
            "activation_1 (Activation)    (None, 10)                0         \n",
            "=================================================================\n",
            "Total params: 25,450\n",
            "Trainable params: 25,450\n",
            "Non-trainable params: 0\n",
            "_________________________________________________________________\n"
          ],
          "name": "stdout"
        }
      ]
    },
    {
      "cell_type": "code",
      "metadata": {
        "id": "Gee-rhC_23Ex",
        "colab_type": "code",
        "colab": {}
      },
      "source": [
        "model.compile(loss='categorical_crossentropy', optimizer='sgd', metrics=['accuracy'])"
      ],
      "execution_count": 0,
      "outputs": []
    },
    {
      "cell_type": "code",
      "metadata": {
        "id": "yvwb9pIZ8pSJ",
        "colab_type": "code",
        "outputId": "dceb973e-cc33-45a7-93a7-e2177516b9d9",
        "colab": {
          "base_uri": "https://localhost:8080/",
          "height": 1000
        }
      },
      "source": [
        "history = model.fit(x_train, y_train, validation_data=(x_test, y_test), epochs=50)"
      ],
      "execution_count": 0,
      "outputs": [
        {
          "output_type": "stream",
          "text": [
            "Train on 60000 samples, validate on 10000 samples\n",
            "Epoch 1/50\n",
            "60000/60000 [==============================] - 6s 101us/sample - loss: 0.0672 - acc: 0.9811 - val_loss: 0.1050 - val_acc: 0.9690\n",
            "Epoch 2/50\n",
            "60000/60000 [==============================] - 6s 99us/sample - loss: 0.0664 - acc: 0.9810 - val_loss: 0.1048 - val_acc: 0.9688\n",
            "Epoch 3/50\n",
            "60000/60000 [==============================] - 6s 99us/sample - loss: 0.0657 - acc: 0.9818 - val_loss: 0.1053 - val_acc: 0.9687\n",
            "Epoch 4/50\n",
            "60000/60000 [==============================] - 6s 100us/sample - loss: 0.0651 - acc: 0.9819 - val_loss: 0.1054 - val_acc: 0.9683\n",
            "Epoch 5/50\n",
            "60000/60000 [==============================] - 6s 100us/sample - loss: 0.0644 - acc: 0.9823 - val_loss: 0.1058 - val_acc: 0.9683\n",
            "Epoch 6/50\n",
            "60000/60000 [==============================] - 6s 102us/sample - loss: 0.0637 - acc: 0.9823 - val_loss: 0.1044 - val_acc: 0.9691\n",
            "Epoch 7/50\n",
            "60000/60000 [==============================] - 6s 99us/sample - loss: 0.0631 - acc: 0.9823 - val_loss: 0.1057 - val_acc: 0.9682\n",
            "Epoch 8/50\n",
            "60000/60000 [==============================] - 6s 100us/sample - loss: 0.0627 - acc: 0.9820 - val_loss: 0.1048 - val_acc: 0.9694\n",
            "Epoch 9/50\n",
            "60000/60000 [==============================] - 6s 99us/sample - loss: 0.0620 - acc: 0.9829 - val_loss: 0.1055 - val_acc: 0.9678\n",
            "Epoch 10/50\n",
            "60000/60000 [==============================] - 6s 102us/sample - loss: 0.0615 - acc: 0.9827 - val_loss: 0.1046 - val_acc: 0.9683\n",
            "Epoch 11/50\n",
            "60000/60000 [==============================] - 6s 101us/sample - loss: 0.0608 - acc: 0.9830 - val_loss: 0.1040 - val_acc: 0.9701\n",
            "Epoch 12/50\n",
            "60000/60000 [==============================] - 6s 101us/sample - loss: 0.0600 - acc: 0.9832 - val_loss: 0.1048 - val_acc: 0.9687\n",
            "Epoch 13/50\n",
            "60000/60000 [==============================] - 6s 100us/sample - loss: 0.0595 - acc: 0.9834 - val_loss: 0.1053 - val_acc: 0.9695\n",
            "Epoch 14/50\n",
            "60000/60000 [==============================] - 6s 100us/sample - loss: 0.0589 - acc: 0.9837 - val_loss: 0.1037 - val_acc: 0.9690\n",
            "Epoch 15/50\n",
            "60000/60000 [==============================] - 6s 100us/sample - loss: 0.0586 - acc: 0.9838 - val_loss: 0.1048 - val_acc: 0.9691\n",
            "Epoch 16/50\n",
            "60000/60000 [==============================] - 6s 102us/sample - loss: 0.0580 - acc: 0.9838 - val_loss: 0.1043 - val_acc: 0.9693\n",
            "Epoch 17/50\n",
            "60000/60000 [==============================] - 6s 102us/sample - loss: 0.0574 - acc: 0.9841 - val_loss: 0.1039 - val_acc: 0.9701\n",
            "Epoch 18/50\n",
            "60000/60000 [==============================] - 6s 101us/sample - loss: 0.0570 - acc: 0.9842 - val_loss: 0.1046 - val_acc: 0.9689\n",
            "Epoch 19/50\n",
            "60000/60000 [==============================] - 6s 101us/sample - loss: 0.0564 - acc: 0.9846 - val_loss: 0.1049 - val_acc: 0.9686\n",
            "Epoch 20/50\n",
            "60000/60000 [==============================] - 6s 101us/sample - loss: 0.0560 - acc: 0.9847 - val_loss: 0.1044 - val_acc: 0.9690\n",
            "Epoch 21/50\n",
            "60000/60000 [==============================] - 6s 107us/sample - loss: 0.0554 - acc: 0.9851 - val_loss: 0.1046 - val_acc: 0.9692\n",
            "Epoch 22/50\n",
            "60000/60000 [==============================] - 6s 101us/sample - loss: 0.0549 - acc: 0.9851 - val_loss: 0.1036 - val_acc: 0.9695\n",
            "Epoch 23/50\n",
            "60000/60000 [==============================] - 6s 100us/sample - loss: 0.0545 - acc: 0.9851 - val_loss: 0.1049 - val_acc: 0.9689\n",
            "Epoch 24/50\n",
            "60000/60000 [==============================] - 6s 101us/sample - loss: 0.0539 - acc: 0.9855 - val_loss: 0.1045 - val_acc: 0.9680\n",
            "Epoch 25/50\n",
            "60000/60000 [==============================] - 6s 101us/sample - loss: 0.0536 - acc: 0.9855 - val_loss: 0.1040 - val_acc: 0.9689\n",
            "Epoch 26/50\n",
            "60000/60000 [==============================] - 6s 101us/sample - loss: 0.0530 - acc: 0.9856 - val_loss: 0.1039 - val_acc: 0.9695\n",
            "Epoch 27/50\n",
            "60000/60000 [==============================] - 6s 101us/sample - loss: 0.0523 - acc: 0.9858 - val_loss: 0.1053 - val_acc: 0.9692\n",
            "Epoch 28/50\n",
            "60000/60000 [==============================] - 6s 102us/sample - loss: 0.0523 - acc: 0.9856 - val_loss: 0.1047 - val_acc: 0.9694\n",
            "Epoch 29/50\n",
            "60000/60000 [==============================] - 6s 102us/sample - loss: 0.0517 - acc: 0.9857 - val_loss: 0.1037 - val_acc: 0.9691\n",
            "Epoch 30/50\n",
            "60000/60000 [==============================] - 6s 102us/sample - loss: 0.0511 - acc: 0.9863 - val_loss: 0.1047 - val_acc: 0.9706\n",
            "Epoch 31/50\n",
            "60000/60000 [==============================] - 6s 102us/sample - loss: 0.0508 - acc: 0.9863 - val_loss: 0.1053 - val_acc: 0.9688\n",
            "Epoch 32/50\n",
            "60000/60000 [==============================] - 6s 99us/sample - loss: 0.0504 - acc: 0.9864 - val_loss: 0.1049 - val_acc: 0.9689\n",
            "Epoch 33/50\n",
            "60000/60000 [==============================] - 6s 101us/sample - loss: 0.0498 - acc: 0.9866 - val_loss: 0.1059 - val_acc: 0.9687\n",
            "Epoch 34/50\n",
            "60000/60000 [==============================] - 6s 102us/sample - loss: 0.0496 - acc: 0.9868 - val_loss: 0.1044 - val_acc: 0.9701\n",
            "Epoch 35/50\n",
            "60000/60000 [==============================] - 7s 108us/sample - loss: 0.0491 - acc: 0.9870 - val_loss: 0.1054 - val_acc: 0.9691\n",
            "Epoch 36/50\n",
            "60000/60000 [==============================] - 7s 111us/sample - loss: 0.0487 - acc: 0.9871 - val_loss: 0.1060 - val_acc: 0.9697\n",
            "Epoch 37/50\n",
            "60000/60000 [==============================] - 7s 116us/sample - loss: 0.0482 - acc: 0.9874 - val_loss: 0.1056 - val_acc: 0.9702\n",
            "Epoch 38/50\n",
            "60000/60000 [==============================] - 6s 105us/sample - loss: 0.0480 - acc: 0.9872 - val_loss: 0.1058 - val_acc: 0.9694\n",
            "Epoch 39/50\n",
            "60000/60000 [==============================] - 6s 102us/sample - loss: 0.0475 - acc: 0.9875 - val_loss: 0.1065 - val_acc: 0.9690\n",
            "Epoch 40/50\n",
            "60000/60000 [==============================] - 6s 103us/sample - loss: 0.0473 - acc: 0.9876 - val_loss: 0.1053 - val_acc: 0.9698\n",
            "Epoch 41/50\n",
            "60000/60000 [==============================] - 6s 104us/sample - loss: 0.0468 - acc: 0.9878 - val_loss: 0.1060 - val_acc: 0.9690\n",
            "Epoch 42/50\n",
            "60000/60000 [==============================] - 6s 102us/sample - loss: 0.0463 - acc: 0.9878 - val_loss: 0.1053 - val_acc: 0.9700\n",
            "Epoch 43/50\n",
            "60000/60000 [==============================] - 6s 105us/sample - loss: 0.0462 - acc: 0.9878 - val_loss: 0.1054 - val_acc: 0.9696\n",
            "Epoch 44/50\n",
            "60000/60000 [==============================] - 6s 104us/sample - loss: 0.0456 - acc: 0.9880 - val_loss: 0.1063 - val_acc: 0.9695\n",
            "Epoch 45/50\n",
            "60000/60000 [==============================] - 6s 103us/sample - loss: 0.0454 - acc: 0.9884 - val_loss: 0.1057 - val_acc: 0.9701\n",
            "Epoch 46/50\n",
            "60000/60000 [==============================] - 6s 103us/sample - loss: 0.0450 - acc: 0.9882 - val_loss: 0.1058 - val_acc: 0.9694\n",
            "Epoch 47/50\n",
            "60000/60000 [==============================] - 6s 103us/sample - loss: 0.0446 - acc: 0.9884 - val_loss: 0.1060 - val_acc: 0.9693\n",
            "Epoch 48/50\n",
            "60000/60000 [==============================] - 6s 102us/sample - loss: 0.0443 - acc: 0.9885 - val_loss: 0.1076 - val_acc: 0.9695\n",
            "Epoch 49/50\n",
            "60000/60000 [==============================] - 6s 102us/sample - loss: 0.0439 - acc: 0.9884 - val_loss: 0.1058 - val_acc: 0.9701\n",
            "Epoch 50/50\n",
            "60000/60000 [==============================] - 6s 103us/sample - loss: 0.0437 - acc: 0.9887 - val_loss: 0.1069 - val_acc: 0.9695\n"
          ],
          "name": "stdout"
        }
      ]
    },
    {
      "cell_type": "markdown",
      "metadata": {
        "id": "PR_DH9x0EYD3",
        "colab_type": "text"
      },
      "source": [
        "Plot the training and validation accuracy per epoch"
      ]
    },
    {
      "cell_type": "code",
      "metadata": {
        "id": "iRkuPRyf87RJ",
        "colab_type": "code",
        "outputId": "fe2f82a9-2def-4611-dde4-def9468dc907",
        "colab": {
          "base_uri": "https://localhost:8080/",
          "height": 319
        }
      },
      "source": [
        "acc = history.history['acc']\n",
        "val_acc = history.history['val_acc']\n",
        "epochs   = range(len(acc)) # Get number of epochs\n",
        "\n",
        "plt.plot(epochs, acc, 'b')\n",
        "plt.plot(epochs, val_acc, 'r')\n",
        "plt.title('Training accuracy')\n",
        "plt.figure()\n"
      ],
      "execution_count": 0,
      "outputs": [
        {
          "output_type": "execute_result",
          "data": {
            "text/plain": [
              "<Figure size 432x288 with 0 Axes>"
            ]
          },
          "metadata": {
            "tags": []
          },
          "execution_count": 33
        },
        {
          "output_type": "display_data",
          "data": {
            "image/png": "[encoded data removed]",
            "text/plain": [
              "<Figure size 432x288 with 1 Axes>"
            ]
          },
          "metadata": {
            "tags": []
          }
        },
        {
          "output_type": "display_data",
          "data": {
            "text/plain": [
              "<Figure size 432x288 with 0 Axes>"
            ]
          },
          "metadata": {
            "tags": []
          }
        }
      ]
    },
    {
      "cell_type": "code",
      "metadata": {
        "id": "wNRYOhV_9u9m",
        "colab_type": "code",
        "colab": {}
      },
      "source": [
        ""
      ],
      "execution_count": 0,
      "outputs": []
    }
  ]
}