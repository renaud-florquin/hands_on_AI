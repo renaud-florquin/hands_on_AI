{
  "nbformat": 4,
  "nbformat_minor": 0,
  "metadata": {
    "colab": {
      "name": "Keys_localisation_F_GPU2.ipynb",
      "provenance": [],
      "collapsed_sections": [],
      "toc_visible": true
    },
    "kernelspec": {
      "name": "python3",
      "display_name": "Python 3"
    },
    "accelerator": "GPU"
  },
  "cells": [
    {
      "cell_type": "markdown",
      "metadata": {
        "id": "adPUemMsX9wo",
        "colab_type": "text"
      },
      "source": [
        "#   1. Tester le GPU\n",
        "\n"
      ]
    },
    {
      "cell_type": "code",
      "metadata": {
        "id": "V4znZoAYXwif",
        "colab_type": "code",
        "colab": {}
      },
      "source": [
        "!nvidia-smi"
      ],
      "execution_count": 0,
      "outputs": []
    },
    {
      "cell_type": "markdown",
      "metadata": {
        "id": "tgv7OvuuMG-0",
        "colab_type": "text"
      },
      "source": [
        "# 2. Cloner le répertoire"
      ]
    },
    {
      "cell_type": "markdown",
      "metadata": {
        "id": "XXHcE7_m7UbL",
        "colab_type": "text"
      },
      "source": [
        ""
      ]
    },
    {
      "cell_type": "code",
      "metadata": {
        "id": "B093EqnzIT44",
        "colab_type": "code",
        "colab": {}
      },
      "source": [
        "!git clone https://github.com/belarbi2733/keras_yolov3"
      ],
      "execution_count": 0,
      "outputs": []
    },
    {
      "cell_type": "markdown",
      "metadata": {
        "id": "0sS8baRtMMHc",
        "colab_type": "text"
      },
      "source": [
        "# 3. Accéder au dossier"
      ]
    },
    {
      "cell_type": "code",
      "metadata": {
        "id": "HUs7Rhy7IrNn",
        "colab_type": "code",
        "outputId": "871db295-4d49-483a-d15c-28683d6d9dfb",
        "colab": {
          "base_uri": "https://localhost:8080/",
          "height": 35
        }
      },
      "source": [
        "cd keras_yolov3/"
      ],
      "execution_count": 3,
      "outputs": [
        {
          "output_type": "stream",
          "text": [
            "/content/keras_yolov3\n"
          ],
          "name": "stdout"
        }
      ]
    },
    {
      "cell_type": "markdown",
      "metadata": {
        "id": "4wSWIisX3Nkk",
        "colab_type": "text"
      },
      "source": [
        "## 4. Installation de la version 2.2.0 de keras ##"
      ]
    },
    {
      "cell_type": "code",
      "metadata": {
        "id": "HhGTkYqYw4Zd",
        "colab_type": "code",
        "colab": {}
      },
      "source": [
        "!pip install keras_preprocessing==1.0.5"
      ],
      "execution_count": 0,
      "outputs": []
    },
    {
      "cell_type": "code",
      "metadata": {
        "id": "gv4HLBEF4Hvd",
        "colab_type": "code",
        "colab": {}
      },
      "source": [
        "!pip install keras_applications==1.0.7"
      ],
      "execution_count": 0,
      "outputs": []
    },
    {
      "cell_type": "code",
      "metadata": {
        "id": "WPxZOnOf4Jv8",
        "colab_type": "code",
        "colab": {}
      },
      "source": [
        "!pip install keras==2.2.0"
      ],
      "execution_count": 0,
      "outputs": []
    },
    {
      "cell_type": "code",
      "metadata": {
        "id": "QEcPuTdv49Er",
        "colab_type": "code",
        "colab": {}
      },
      "source": [
        "!pip install keras_applications==1.0.7"
      ],
      "execution_count": 0,
      "outputs": []
    },
    {
      "cell_type": "markdown",
      "metadata": {
        "id": "5kYR-DR0a_Uh",
        "colab_type": "text"
      },
      "source": [
        "## 5.Vérification l'installation des paquets "
      ]
    },
    {
      "cell_type": "code",
      "metadata": {
        "id": "JtbYi5ZRSPPd",
        "colab_type": "code",
        "colab": {}
      },
      "source": [
        "from tensorflow.python.client import device_lib\n",
        "device_lib.list_local_devices()"
      ],
      "execution_count": 0,
      "outputs": []
    },
    {
      "cell_type": "markdown",
      "metadata": {
        "id": "kn54GMQ_GGim",
        "colab_type": "text"
      },
      "source": [
        "# 6. Pointer vers le dossier du projet"
      ]
    },
    {
      "cell_type": "code",
      "metadata": {
        "id": "jyD1v-N95HZF",
        "colab_type": "code",
        "colab": {}
      },
      "source": [
        "cd /content/keras_yolov3/"
      ],
      "execution_count": 0,
      "outputs": []
    },
    {
      "cell_type": "code",
      "metadata": {
        "id": "iEmHL0s47rwm",
        "colab_type": "code",
        "colab": {
          "base_uri": "https://localhost:8080/",
          "height": 156
        },
        "outputId": "13e45f03-acce-42c0-bed7-cd986300d271"
      },
      "source": [
        "ls"
      ],
      "execution_count": 10,
      "outputs": [
        {
          "output_type": "stream",
          "text": [
            "annotations.csv          LICENSE        train_bottleneck.py\n",
            "coco_annotation.py       \u001b[0m\u001b[01;34mmodel_data\u001b[0m/    voc_annotation.py\n",
            "convert.py               README.md      yolo1.jpg\n",
            "darknet53.cfg            test_yolo.py   \u001b[01;34myolo3\u001b[0m/\n",
            "\u001b[01;34mfont\u001b[0m/                    train1_job.py  yolo.py\n",
            "Keys_localisation.ipynb  train1.py      yolov3.cfg\n",
            "keys_with_background.py  train2_job.py  yolov3-tiny.cfg\n",
            "kmeans.py                train2.py\n"
          ],
          "name": "stdout"
        }
      ]
    },
    {
      "cell_type": "markdown",
      "metadata": {
        "id": "sDVuzp6XYRlR",
        "colab_type": "text"
      },
      "source": [
        "# 7. Téléchargement du dossier des images de clé et le background #\n",
        "\n",
        "\n"
      ]
    },
    {
      "cell_type": "code",
      "metadata": {
        "id": "F_7eq83hdgJz",
        "colab_type": "code",
        "colab": {}
      },
      "source": [
        "!wget https://github.com/belarbi2733/keras_yolov3/releases/download/1/key_wb.zip"
      ],
      "execution_count": 0,
      "outputs": []
    },
    {
      "cell_type": "code",
      "metadata": {
        "id": "S2lgIsBXe76N",
        "colab_type": "code",
        "colab": {}
      },
      "source": [
        "!wget https://github.com/belarbi2733/keras_yolov3/releases/download/1/bckgrnd.zip"
      ],
      "execution_count": 0,
      "outputs": []
    },
    {
      "cell_type": "markdown",
      "metadata": {
        "id": "Ra_t4HPnZFWK",
        "colab_type": "text"
      },
      "source": [
        " # 8.   Décompresser les deux fichiers .zip #\n",
        "\n",
        "\n"
      ]
    },
    {
      "cell_type": "code",
      "metadata": {
        "id": "q_B-pfloZSvB",
        "colab_type": "code",
        "colab": {}
      },
      "source": [
        "!unzip bckgrnd.zip "
      ],
      "execution_count": 0,
      "outputs": []
    },
    {
      "cell_type": "code",
      "metadata": {
        "id": "P5Hyyfb7ZWmH",
        "colab_type": "code",
        "colab": {}
      },
      "source": [
        "!unzip key_wb.zip"
      ],
      "execution_count": 0,
      "outputs": []
    },
    {
      "cell_type": "markdown",
      "metadata": {
        "id": "kkXEoEhiZotH",
        "colab_type": "text"
      },
      "source": [
        "\n",
        "\n",
        "# 9.   Mixer le backgound avec les clés #\n",
        "\n",
        "\n"
      ]
    },
    {
      "cell_type": "code",
      "metadata": {
        "id": "-wSV4g_ZZl0z",
        "colab_type": "code",
        "colab": {}
      },
      "source": [
        "!python keys_with_background.py --keys \"key_wb\" --background \"bckgrnd\" --output \"keys_and_background\""
      ],
      "execution_count": 0,
      "outputs": []
    },
    {
      "cell_type": "markdown",
      "metadata": {
        "id": "K2kNcHIMg6bW",
        "colab_type": "text"
      },
      "source": [
        "\n",
        "\n",
        "**7.   Récupurer le fichier annotation et adapter le format du fichier**\n",
        "\n"
      ]
    },
    {
      "cell_type": "code",
      "metadata": {
        "id": "3O0fPqFCc5MI",
        "colab_type": "code",
        "colab": {}
      },
      "source": [
        "!mv keys_and_background/annotations.csv ."
      ],
      "execution_count": 0,
      "outputs": []
    },
    {
      "cell_type": "markdown",
      "metadata": {
        "id": "Wx7FcVker6Dg",
        "colab_type": "text"
      },
      "source": [
        "# 10.   Télécharger le fichier yolov3.weights #"
      ]
    },
    {
      "cell_type": "code",
      "metadata": {
        "id": "VBBYjZK_hpKd",
        "colab_type": "code",
        "colab": {}
      },
      "source": [
        "!wget https://pjreddie.com/media/files/yolov3.weights"
      ],
      "execution_count": 0,
      "outputs": []
    },
    {
      "cell_type": "markdown",
      "metadata": {
        "id": "Y7UIgzCksScx",
        "colab_type": "text"
      },
      "source": [
        "# 11. Convertir le fichier yolov3.weights en model tensorflow#\n"
      ]
    },
    {
      "cell_type": "code",
      "metadata": {
        "id": "CGZpC4S8rjhf",
        "colab_type": "code",
        "colab": {}
      },
      "source": [
        "!python convert.py yolov3.cfg yolov3.weights model_data/yolo_weights.h5"
      ],
      "execution_count": 0,
      "outputs": []
    },
    {
      "cell_type": "markdown",
      "metadata": {
        "id": "urXmRf5etsTC",
        "colab_type": "text"
      },
      "source": [
        "# 12. Lancer l'entrainement #\n",
        "\n",
        "\n"
      ]
    },
    {
      "cell_type": "markdown",
      "metadata": {
        "id": "QIJU6lInLMde",
        "colab_type": "text"
      },
      "source": [
        "####Train with frozen layers first, to get a stable loss. Adjust num epochs to your dataset. This step is enough to obtain a not bad model."
      ]
    },
    {
      "cell_type": "code",
      "metadata": {
        "id": "Muh55sWbs1q6",
        "colab_type": "code",
        "colab": {}
      },
      "source": [
        "!python train1.py --initial_epoch1 0 --epoch1 5 --batch_size1 16  --annotation 'annotations.csv' --classes 'model_data/key_classes.txt' --anchors 'model_data/yolo_anchors.txt' "
      ],
      "execution_count": 0,
      "outputs": []
    },
    {
      "cell_type": "markdown",
      "metadata": {
        "id": "9MSgCGH3LZ3h",
        "colab_type": "text"
      },
      "source": [
        " #### Unfreeze and continue training, to fine-tune. Train longer if the result is not good."
      ]
    },
    {
      "cell_type": "code",
      "metadata": {
        "id": "zQDYPNmcLYvh",
        "colab_type": "code",
        "colab": {}
      },
      "source": [
        "!python train2.py --initial_epoch2 5 --epoch2 10 --batch_size2 8 --annotation 'annotations.csv' --classes 'model_data/key_classes.txt' --anchors 'model_data/yolo_anchors.txt' "
      ],
      "execution_count": 0,
      "outputs": []
    },
    {
      "cell_type": "markdown",
      "metadata": {
        "id": "63Crchcc4mBr",
        "colab_type": "text"
      },
      "source": [
        "# 13. Tester le résultat#"
      ]
    },
    {
      "cell_type": "code",
      "metadata": {
        "id": "b9i1uofuz3EL",
        "colab_type": "code",
        "colab": {}
      },
      "source": [
        "!python test_yolo.py --image --input='keys_and_background/gen_0001.jpg' --output='yolo1.jpg' --model 'weights_yolo_train/trained_weights_final.h5' --classes 'model_data/key_classes.txt' --anchors 'model_data/yolo_anchors.txt'"
      ],
      "execution_count": 0,
      "outputs": []
    },
    {
      "cell_type": "markdown",
      "metadata": {
        "id": "FzX2xKMcsO-J",
        "colab_type": "text"
      },
      "source": [
        "\n",
        "\n",
        "# 14.   Afficher le résulat #\n",
        "\n",
        "\n"
      ]
    },
    {
      "cell_type": "code",
      "metadata": {
        "id": "4N7ag8TB_YZo",
        "colab_type": "code",
        "colab": {}
      },
      "source": [
        "from IPython.display import display, Image, SVG, Math, YouTubeVideo\n",
        "Image(filename='yolo1.jpg')"
      ],
      "execution_count": 0,
      "outputs": []
    }
  ]
}