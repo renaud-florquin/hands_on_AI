{
  "nbformat": 4,
  "nbformat_minor": 0,
  "metadata": {
    "colab": {
      "name": "Intro2_pytorch.ipynb",
      "provenance": [],
      "collapsed_sections": [],
      "include_colab_link": true
    },
    "kernelspec": {
      "name": "python3",
      "display_name": "Python 3"
    },
    "accelerator": "GPU"
  },
  "cells": [
    {
      "cell_type": "markdown",
      "metadata": {
        "id": "view-in-github",
        "colab_type": "text"
      },
      "source": [
        "<a href=\"https://colab.research.google.com/github/renaud-florquin/hands_on_AI/blob/master/Intro2_pytorch.ipynb\" target=\"_parent\"><img src=\"https://colab.research.google.com/assets/colab-badge.svg\" alt=\"Open In Colab\"/></a>"
      ]
    },
    {
      "cell_type": "markdown",
      "metadata": {
        "id": "VXT1mM8chHtC",
        "colab_type": "text"
      },
      "source": [
        "# First NMIST classifier using fully connected NN and PyTorch"
      ]
    },
    {
      "cell_type": "markdown",
      "metadata": {
        "id": "LQJlHmMpJdl2",
        "colab_type": "text"
      },
      "source": [
        "Reference: https://towardsdatascience.com/handwritten-digit-mnist-pytorch-977b5338e627"
      ]
    },
    {
      "cell_type": "code",
      "metadata": {
        "id": "cGPixajKSTUh",
        "colab_type": "code",
        "colab": {}
      },
      "source": [
        "import matplotlib.pyplot as plt\n",
        "\n",
        "import torch\n",
        "import torchvision\n",
        "import torch.nn as nn\n",
        "import torch.nn.functional as F\n"
      ],
      "execution_count": 0,
      "outputs": []
    },
    {
      "cell_type": "code",
      "metadata": {
        "id": "m54k_uP-SYEc",
        "colab_type": "code",
        "outputId": "adca3d6f-5f5d-48a7-ca47-b879bf9ce045",
        "colab": {
          "base_uri": "https://localhost:8080/",
          "height": 55
        }
      },
      "source": [
        "print(torch.__version__)\n",
        "print(torch.cuda.is_available())"
      ],
      "execution_count": 3,
      "outputs": [
        {
          "output_type": "stream",
          "text": [
            "1.2.0\n",
            "True\n"
          ],
          "name": "stdout"
        }
      ]
    },
    {
      "cell_type": "markdown",
      "metadata": {
        "id": "rW2ZqNK6heNM",
        "colab_type": "text"
      },
      "source": [
        "### hyperparameters"
      ]
    },
    {
      "cell_type": "code",
      "metadata": {
        "id": "PsxL76NvX_7_",
        "colab_type": "code",
        "colab": {}
      },
      "source": [
        "input_size = 784\n",
        "output_size = 10\n",
        "\n",
        "epochs = 100\n",
        "batch_size = 50\n",
        "learning_rate = 0.0005"
      ],
      "execution_count": 0,
      "outputs": []
    },
    {
      "cell_type": "markdown",
      "metadata": {
        "id": "AmCwjva9Syl_",
        "colab_type": "text"
      },
      "source": [
        "### Train and test data loader"
      ]
    },
    {
      "cell_type": "code",
      "metadata": {
        "id": "Zj_QwsRbFKM-",
        "colab_type": "code",
        "colab": {}
      },
      "source": [
        "transform = torchvision.transforms.Compose([\n",
        "    torchvision.transforms.ToTensor(),\n",
        "    torchvision.transforms.Normalize((0.1307,),(0.3081,))])"
      ],
      "execution_count": 0,
      "outputs": []
    },
    {
      "cell_type": "code",
      "metadata": {
        "id": "NbZY1oQ_FVKW",
        "colab_type": "code",
        "colab": {}
      },
      "source": [
        "train_set = torchvision.datasets.MNIST('tmp/', download=True, train=True, transform=transform)\n",
        "test_set = torchvision.datasets.MNIST('tmp/', download=True, train=False, transform=transform)\n",
        "\n",
        "train_loader = torch.utils.data.DataLoader(train_set, batch_size=batch_size, shuffle=True)\n",
        "test_loader = torch.utils.data.DataLoader(test_set, batch_size=1000, shuffle=True)"
      ],
      "execution_count": 0,
      "outputs": []
    },
    {
      "cell_type": "markdown",
      "metadata": {
        "id": "DIHaUVLETb0r",
        "colab_type": "text"
      },
      "source": [
        "Access to the train loader to see the data and format"
      ]
    },
    {
      "cell_type": "code",
      "metadata": {
        "id": "fqQu8ILadAsR",
        "colab_type": "code",
        "colab": {}
      },
      "source": [
        "train_iter = iter(train_loader)\n",
        "x, y = train_iter.next()"
      ],
      "execution_count": 0,
      "outputs": []
    },
    {
      "cell_type": "code",
      "metadata": {
        "id": "V92xL603Ti8T",
        "colab_type": "code",
        "outputId": "4c37a5f5-35af-471c-e628-89a831453bfb",
        "colab": {
          "base_uri": "https://localhost:8080/",
          "height": 36
        }
      },
      "source": [
        "x.shape, y.shape"
      ],
      "execution_count": 20,
      "outputs": [
        {
          "output_type": "execute_result",
          "data": {
            "text/plain": [
              "(torch.Size([50, 1, 28, 28]), torch.Size([50]))"
            ]
          },
          "metadata": {
            "tags": []
          },
          "execution_count": 20
        }
      ]
    },
    {
      "cell_type": "markdown",
      "metadata": {
        "id": "3GxrsKafHuzE",
        "colab_type": "text"
      },
      "source": [
        "Display the label of the fist batch"
      ]
    },
    {
      "cell_type": "code",
      "metadata": {
        "id": "hdtlkjaCHk3u",
        "colab_type": "code",
        "colab": {
          "base_uri": "https://localhost:8080/",
          "height": 111
        },
        "outputId": "bf3ce95c-1c59-4c29-fbdc-f2906c5e20fa"
      },
      "source": [
        "print(y.reshape(batch_size//10, 10))"
      ],
      "execution_count": 24,
      "outputs": [
        {
          "output_type": "stream",
          "text": [
            "tensor([[3, 0, 0, 5, 9, 3, 5, 9, 5, 5],\n",
            "        [0, 9, 4, 7, 8, 8, 9, 1, 1, 2],\n",
            "        [7, 8, 0, 2, 7, 6, 9, 1, 5, 5],\n",
            "        [5, 1, 8, 7, 9, 0, 5, 9, 0, 6],\n",
            "        [1, 4, 7, 2, 5, 2, 1, 8, 1, 7]])\n"
          ],
          "name": "stdout"
        }
      ]
    },
    {
      "cell_type": "markdown",
      "metadata": {
        "id": "1IOZMCHQHnAn",
        "colab_type": "text"
      },
      "source": [
        "Display the x content (batch_size images of handwritten digits)"
      ]
    },
    {
      "cell_type": "code",
      "metadata": {
        "id": "oxLOVtxsHDZe",
        "colab_type": "code",
        "colab": {
          "base_uri": "https://localhost:8080/",
          "height": 229
        },
        "outputId": "543903dc-f7c0-498c-8e3e-7ee4317193d7"
      },
      "source": [
        "figure = plt.figure()\n",
        "\n",
        "for index in range(batch_size):\n",
        "    plt.subplot(6, 10, index+1)\n",
        "    plt.axis('off')\n",
        "    plt.imshow(x[index].numpy().squeeze(), cmap='gray_r')\n",
        "plt.show()"
      ],
      "execution_count": 19,
      "outputs": [
        {
          "output_type": "display_data",
          "data": {
            "image/png": "[encoded data removed]",
            "text/plain": [
              "<Figure size 432x288 with 50 Axes>"
            ]
          },
          "metadata": {
            "tags": []
          }
        }
      ]
    },
    {
      "cell_type": "markdown",
      "metadata": {
        "id": "Vfpi9ggzUhe3",
        "colab_type": "text"
      },
      "source": [
        "### Neural network definition"
      ]
    },
    {
      "cell_type": "code",
      "metadata": {
        "id": "7ZaWOfhLWSC5",
        "colab_type": "code",
        "colab": {}
      },
      "source": [
        "class Network(nn.Module):\n",
        "    def __init__(self):\n",
        "        super(Network, self).__init__()\n",
        "        self.layer1 = nn.Linear(input_size, 128)\n",
        "        self.layer2 = nn.Linear(128, 64)\n",
        "        self.layer3 = nn.Linear(64, output_size)\n",
        "        \n",
        "    def forward(self, x):\n",
        "        z = x.view(-1, 1*28*28)\n",
        "        z = self.layer1(z)\n",
        "        z = F.relu(z)\n",
        "        z = self.layer2(z)\n",
        "        z = F.relu(z)\n",
        "        z = self.layer3(z)\n",
        "        return F.log_softmax(z)"
      ],
      "execution_count": 0,
      "outputs": []
    },
    {
      "cell_type": "code",
      "metadata": {
        "id": "_tZ78UD1X3vW",
        "colab_type": "code",
        "outputId": "f26f9a26-e6e5-4b00-cc37-c61cbd348509",
        "colab": {
          "base_uri": "https://localhost:8080/",
          "height": 111
        }
      },
      "source": [
        "net = Network()\n",
        "print(net)"
      ],
      "execution_count": 29,
      "outputs": [
        {
          "output_type": "stream",
          "text": [
            "Network(\n",
            "  (layer1): Linear(in_features=784, out_features=128, bias=True)\n",
            "  (layer2): Linear(in_features=128, out_features=64, bias=True)\n",
            "  (layer3): Linear(in_features=64, out_features=10, bias=True)\n",
            ")\n"
          ],
          "name": "stdout"
        }
      ]
    },
    {
      "cell_type": "markdown",
      "metadata": {
        "id": "nP352lC0Jw9o",
        "colab_type": "text"
      },
      "source": [
        "Other solution: "
      ]
    },
    {
      "cell_type": "code",
      "metadata": {
        "id": "XMMZ5Aq3JspS",
        "colab_type": "code",
        "colab": {}
      },
      "source": [
        "net = nn.Sequential(nn.Linear(input_size, 128),\n",
        "                      nn.ReLU(),\n",
        "                      nn.Linear(128, 64),\n",
        "                      nn.ReLU(),\n",
        "                      nn.Linear(64, output_size),\n",
        "                      nn.LogSoftmax(dim=1))"
      ],
      "execution_count": 0,
      "outputs": []
    },
    {
      "cell_type": "markdown",
      "metadata": {
        "id": "lG4GI1nRhynU",
        "colab_type": "text"
      },
      "source": [
        "### Optimizer and Loss function definition"
      ]
    },
    {
      "cell_type": "code",
      "metadata": {
        "id": "mHnNuIKuX7nn",
        "colab_type": "code",
        "colab": {}
      },
      "source": [
        "optimizer = torch.optim.SGD(net.parameters(), lr=learning_rate, momentum=0.9)\n",
        "loss_func = nn.CrossEntropyLoss()"
      ],
      "execution_count": 0,
      "outputs": []
    },
    {
      "cell_type": "markdown",
      "metadata": {
        "id": "WhGuOz3ph5A-",
        "colab_type": "text"
      },
      "source": [
        "### Train function"
      ]
    },
    {
      "cell_type": "code",
      "metadata": {
        "id": "1Ta7yiWVZ3cH",
        "colab_type": "code",
        "colab": {}
      },
      "source": [
        "train_losses = []\n",
        "test_losses = []\n",
        "test_accuracies = []\n",
        "\n",
        "def train_network(epoch):\n",
        "    net.train()\n",
        "    for x, y in train_loader:\n",
        "        optimizer.zero_grad()\n",
        "        output = net(x)\n",
        "        loss = F.nll_loss(output, y)\n",
        "        loss.backward()\n",
        "        optimizer.step()\n",
        "    return loss\n"
      ],
      "execution_count": 0,
      "outputs": []
    },
    {
      "cell_type": "code",
      "metadata": {
        "id": "BiV8GMOD9jOI",
        "colab_type": "code",
        "colab": {}
      },
      "source": [
        "def print_info(epoch, loss):\n",
        "    print('Train Epoch: {} \\tLoss: {:.6f}'.format(\n",
        "      epoch, loss.item()))\n",
        "    train_losses.append(loss.item())\n",
        "\n",
        "def save_model_state():\n",
        "    torch.save(net.state_dict(), 'model.pth')\n",
        "    torch.save(optimizer.state_dict(), 'optimizer.pth')"
      ],
      "execution_count": 0,
      "outputs": []
    },
    {
      "cell_type": "markdown",
      "metadata": {
        "id": "fqeCy5KhiFDA",
        "colab_type": "text"
      },
      "source": [
        "### Evaluation function"
      ]
    },
    {
      "cell_type": "code",
      "metadata": {
        "id": "HBJ8Hm9SbBth",
        "colab_type": "code",
        "colab": {}
      },
      "source": [
        "def test_network():\n",
        "    net.eval()\n",
        "    test_loss = 0\n",
        "    correct = 0\n",
        "    with torch.no_grad():\n",
        "        for x, y in test_loader:\n",
        "            output = net(x)\n",
        "            test_loss += F.nll_loss(output, y, size_average=False).item()\n",
        "            pred = output.data.max(1, keepdim=True)[1]\n",
        "            correct += pred.eq(y.data.view_as(pred)).sum()\n",
        "    test_loss /= len(test_loader.dataset)\n",
        "    test_losses.append(test_loss)\n",
        "    test_accuracies.append(100. * correct / len(test_loader.dataset))\n",
        "    print('Test set: Avg. loss: {:.4f}, Accuracy: {}/{} ({:.0f}%)'.format(\n",
        "      test_loss, correct, len(test_loader.dataset),\n",
        "      100. * correct / len(test_loader.dataset)))\n"
      ],
      "execution_count": 0,
      "outputs": []
    },
    {
      "cell_type": "markdown",
      "metadata": {
        "id": "3-eEni5WiKVh",
        "colab_type": "text"
      },
      "source": [
        "### Train phase"
      ]
    },
    {
      "cell_type": "code",
      "metadata": {
        "id": "JD01vEiHaxd6",
        "colab_type": "code",
        "outputId": "279c6656-6ca8-4629-9c28-556baa5e610f",
        "colab": {
          "base_uri": "https://localhost:8080/",
          "height": 1000
        }
      },
      "source": [
        "for e in range(epochs):\n",
        "        loss = train_network(e+1)\n",
        "        test_network()\n",
        "        #print_info(e+1, loss)\n",
        "        save_model_state()"
      ],
      "execution_count": 0,
      "outputs": [
        {
          "output_type": "stream",
          "text": [
            "/usr/local/lib/python3.6/dist-packages/ipykernel_launcher.py:15: UserWarning: Implicit dimension choice for log_softmax has been deprecated. Change the call to include dim=X as an argument.\n",
            "  from ipykernel import kernelapp as app\n",
            "/usr/local/lib/python3.6/dist-packages/torch/nn/_reduction.py:43: UserWarning: size_average and reduce args will be deprecated, please use reduction='sum' instead.\n",
            "  warnings.warn(warning.format(ret))\n"
          ],
          "name": "stderr"
        },
        {
          "output_type": "stream",
          "text": [
            "Test set: Avg. loss: 0.4124, Accuracy: 8898/10000 (88%)\n",
            "Test set: Avg. loss: 0.3139, Accuracy: 9120/10000 (91%)\n",
            "Test set: Avg. loss: 0.2765, Accuracy: 9211/10000 (92%)\n",
            "Test set: Avg. loss: 0.2489, Accuracy: 9277/10000 (92%)\n",
            "Test set: Avg. loss: 0.2263, Accuracy: 9343/10000 (93%)\n",
            "Test set: Avg. loss: 0.2081, Accuracy: 9408/10000 (94%)\n",
            "Test set: Avg. loss: 0.1911, Accuracy: 9436/10000 (94%)\n",
            "Test set: Avg. loss: 0.1810, Accuracy: 9456/10000 (94%)\n",
            "Test set: Avg. loss: 0.1667, Accuracy: 9505/10000 (95%)\n",
            "Test set: Avg. loss: 0.1559, Accuracy: 9546/10000 (95%)\n",
            "Test set: Avg. loss: 0.1483, Accuracy: 9562/10000 (95%)\n",
            "Test set: Avg. loss: 0.1402, Accuracy: 9593/10000 (95%)\n",
            "Test set: Avg. loss: 0.1332, Accuracy: 9615/10000 (96%)\n",
            "Test set: Avg. loss: 0.1280, Accuracy: 9628/10000 (96%)\n",
            "Test set: Avg. loss: 0.1226, Accuracy: 9637/10000 (96%)\n",
            "Test set: Avg. loss: 0.1184, Accuracy: 9657/10000 (96%)\n",
            "Test set: Avg. loss: 0.1147, Accuracy: 9660/10000 (96%)\n",
            "Test set: Avg. loss: 0.1112, Accuracy: 9670/10000 (96%)\n",
            "Test set: Avg. loss: 0.1079, Accuracy: 9678/10000 (96%)\n",
            "Test set: Avg. loss: 0.1047, Accuracy: 9692/10000 (96%)\n",
            "Test set: Avg. loss: 0.1036, Accuracy: 9694/10000 (96%)\n",
            "Test set: Avg. loss: 0.1005, Accuracy: 9697/10000 (96%)\n",
            "Test set: Avg. loss: 0.0978, Accuracy: 9692/10000 (96%)\n",
            "Test set: Avg. loss: 0.0947, Accuracy: 9705/10000 (97%)\n",
            "Test set: Avg. loss: 0.0940, Accuracy: 9708/10000 (97%)\n",
            "Test set: Avg. loss: 0.0916, Accuracy: 9709/10000 (97%)\n",
            "Test set: Avg. loss: 0.0897, Accuracy: 9720/10000 (97%)\n",
            "Test set: Avg. loss: 0.0897, Accuracy: 9722/10000 (97%)\n",
            "Test set: Avg. loss: 0.0869, Accuracy: 9725/10000 (97%)\n",
            "Test set: Avg. loss: 0.0854, Accuracy: 9725/10000 (97%)\n",
            "Test set: Avg. loss: 0.0848, Accuracy: 9735/10000 (97%)\n",
            "Test set: Avg. loss: 0.0833, Accuracy: 9740/10000 (97%)\n",
            "Test set: Avg. loss: 0.0827, Accuracy: 9733/10000 (97%)\n",
            "Test set: Avg. loss: 0.0810, Accuracy: 9743/10000 (97%)\n",
            "Test set: Avg. loss: 0.0798, Accuracy: 9755/10000 (97%)\n",
            "Test set: Avg. loss: 0.0791, Accuracy: 9752/10000 (97%)\n",
            "Test set: Avg. loss: 0.0782, Accuracy: 9755/10000 (97%)\n",
            "Test set: Avg. loss: 0.0788, Accuracy: 9739/10000 (97%)\n",
            "Test set: Avg. loss: 0.0772, Accuracy: 9758/10000 (97%)\n",
            "Test set: Avg. loss: 0.0755, Accuracy: 9755/10000 (97%)\n",
            "Test set: Avg. loss: 0.0763, Accuracy: 9761/10000 (97%)\n",
            "Test set: Avg. loss: 0.0752, Accuracy: 9764/10000 (97%)\n",
            "Test set: Avg. loss: 0.0741, Accuracy: 9775/10000 (97%)\n",
            "Test set: Avg. loss: 0.0745, Accuracy: 9773/10000 (97%)\n",
            "Test set: Avg. loss: 0.0733, Accuracy: 9776/10000 (97%)\n",
            "Test set: Avg. loss: 0.0736, Accuracy: 9772/10000 (97%)\n",
            "Test set: Avg. loss: 0.0770, Accuracy: 9760/10000 (97%)\n",
            "Test set: Avg. loss: 0.0741, Accuracy: 9773/10000 (97%)\n",
            "Test set: Avg. loss: 0.0741, Accuracy: 9766/10000 (97%)\n",
            "Test set: Avg. loss: 0.0723, Accuracy: 9779/10000 (97%)\n",
            "Test set: Avg. loss: 0.0734, Accuracy: 9769/10000 (97%)\n",
            "Test set: Avg. loss: 0.0724, Accuracy: 9782/10000 (97%)\n",
            "Test set: Avg. loss: 0.0721, Accuracy: 9778/10000 (97%)\n",
            "Test set: Avg. loss: 0.0726, Accuracy: 9771/10000 (97%)\n",
            "Test set: Avg. loss: 0.0727, Accuracy: 9776/10000 (97%)\n",
            "Test set: Avg. loss: 0.0715, Accuracy: 9783/10000 (97%)\n",
            "Test set: Avg. loss: 0.0715, Accuracy: 9775/10000 (97%)\n",
            "Test set: Avg. loss: 0.0720, Accuracy: 9785/10000 (97%)\n",
            "Test set: Avg. loss: 0.0726, Accuracy: 9777/10000 (97%)\n",
            "Test set: Avg. loss: 0.0726, Accuracy: 9771/10000 (97%)\n",
            "Test set: Avg. loss: 0.0718, Accuracy: 9771/10000 (97%)\n",
            "Test set: Avg. loss: 0.0717, Accuracy: 9780/10000 (97%)\n",
            "Test set: Avg. loss: 0.0721, Accuracy: 9786/10000 (97%)\n",
            "Test set: Avg. loss: 0.0737, Accuracy: 9772/10000 (97%)\n",
            "Test set: Avg. loss: 0.0722, Accuracy: 9779/10000 (97%)\n",
            "Test set: Avg. loss: 0.0716, Accuracy: 9778/10000 (97%)\n",
            "Test set: Avg. loss: 0.0719, Accuracy: 9783/10000 (97%)\n",
            "Test set: Avg. loss: 0.0722, Accuracy: 9788/10000 (97%)\n",
            "Test set: Avg. loss: 0.0723, Accuracy: 9781/10000 (97%)\n",
            "Test set: Avg. loss: 0.0725, Accuracy: 9775/10000 (97%)\n",
            "Test set: Avg. loss: 0.0716, Accuracy: 9785/10000 (97%)\n",
            "Test set: Avg. loss: 0.0727, Accuracy: 9784/10000 (97%)\n",
            "Test set: Avg. loss: 0.0728, Accuracy: 9783/10000 (97%)\n",
            "Test set: Avg. loss: 0.0731, Accuracy: 9787/10000 (97%)\n",
            "Test set: Avg. loss: 0.0730, Accuracy: 9780/10000 (97%)\n",
            "Test set: Avg. loss: 0.0730, Accuracy: 9788/10000 (97%)\n",
            "Test set: Avg. loss: 0.0742, Accuracy: 9780/10000 (97%)\n",
            "Test set: Avg. loss: 0.0733, Accuracy: 9781/10000 (97%)\n",
            "Test set: Avg. loss: 0.0744, Accuracy: 9783/10000 (97%)\n",
            "Test set: Avg. loss: 0.0741, Accuracy: 9786/10000 (97%)\n",
            "Test set: Avg. loss: 0.0740, Accuracy: 9784/10000 (97%)\n",
            "Test set: Avg. loss: 0.0742, Accuracy: 9786/10000 (97%)\n",
            "Test set: Avg. loss: 0.0744, Accuracy: 9780/10000 (97%)\n",
            "Test set: Avg. loss: 0.0761, Accuracy: 9788/10000 (97%)\n",
            "Test set: Avg. loss: 0.0751, Accuracy: 9783/10000 (97%)\n",
            "Test set: Avg. loss: 0.0754, Accuracy: 9789/10000 (97%)\n",
            "Test set: Avg. loss: 0.0746, Accuracy: 9783/10000 (97%)\n",
            "Test set: Avg. loss: 0.0759, Accuracy: 9784/10000 (97%)\n",
            "Test set: Avg. loss: 0.0755, Accuracy: 9788/10000 (97%)\n",
            "Test set: Avg. loss: 0.0762, Accuracy: 9786/10000 (97%)\n",
            "Test set: Avg. loss: 0.0763, Accuracy: 9785/10000 (97%)\n",
            "Test set: Avg. loss: 0.0763, Accuracy: 9787/10000 (97%)\n",
            "Test set: Avg. loss: 0.0763, Accuracy: 9786/10000 (97%)\n",
            "Test set: Avg. loss: 0.0765, Accuracy: 9781/10000 (97%)\n",
            "Test set: Avg. loss: 0.0766, Accuracy: 9785/10000 (97%)\n",
            "Test set: Avg. loss: 0.0774, Accuracy: 9792/10000 (97%)\n",
            "Test set: Avg. loss: 0.0770, Accuracy: 9781/10000 (97%)\n",
            "Test set: Avg. loss: 0.0774, Accuracy: 9789/10000 (97%)\n",
            "Test set: Avg. loss: 0.0778, Accuracy: 9787/10000 (97%)\n",
            "Test set: Avg. loss: 0.0775, Accuracy: 9792/10000 (97%)\n"
          ],
          "name": "stdout"
        }
      ]
    },
    {
      "cell_type": "markdown",
      "metadata": {
        "id": "OuL1tXWwiUPG",
        "colab_type": "text"
      },
      "source": [
        "### Display the evolution of the test accuracy"
      ]
    },
    {
      "cell_type": "code",
      "metadata": {
        "id": "p8ebahdd8AOZ",
        "colab_type": "code",
        "outputId": "0d31c81b-82b7-473b-99d3-abb1fecbe01c",
        "colab": {
          "base_uri": "https://localhost:8080/",
          "height": 283
        }
      },
      "source": [
        "plt.plot(range(epochs), test_accuracies, color='blue')\n",
        "plt.legend(['Test accuracy'], loc='lower right')\n",
        "plt.xlabel('Epooch')\n",
        "plt.ylabel('Accuracy [%]')\n",
        "\n",
        "plt.show()"
      ],
      "execution_count": 0,
      "outputs": [
        {
          "output_type": "display_data",
          "data": {
            "image/png": "[encoded data removed]",
            "text/plain": [
              "<Figure size 432x288 with 1 Axes>"
            ]
          },
          "metadata": {
            "tags": []
          }
        }
      ]
    },
    {
      "cell_type": "code",
      "metadata": {
        "id": "o4xDWcV78y-c",
        "colab_type": "code",
        "colab": {}
      },
      "source": [
        ""
      ],
      "execution_count": 0,
      "outputs": []
    }
  ]
}