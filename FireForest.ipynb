{
  "nbformat": 4,
  "nbformat_minor": 0,
  "metadata": {
    "colab": {
      "name": "Intro2.ipynb",
      "provenance": [],
      "collapsed_sections": [],
      "include_colab_link": true
    },
    "kernelspec": {
      "name": "python3",
      "display_name": "Python 3"
    },
    "accelerator": "GPU"
  },
  "cells": [
    {
      "cell_type": "markdown",
      "metadata": {
        "id": "view-in-github",
        "colab_type": "text"
      },
      "source": [
        "<a href=\"https://colab.research.google.com/github/renaud-florquin/hands_on_AI/blob/master/FireForest.ipynb\" target=\"_parent\"><img src=\"https://colab.research.google.com/assets/colab-badge.svg\" alt=\"Open In Colab\"/></a>"
      ]
    },
    {
      "cell_type": "code",
      "metadata": {
        "id": "y2z18Vjr2bsu",
        "colab_type": "code",
        "outputId": "37fa4dc3-c219-404c-cc91-7dfb2989da1c",
        "colab": {
          "base_uri": "https://localhost:8080/",
          "height": 312
        }
      },
      "source": [
        "!nvidia-smi"
      ],
      "execution_count": 0,
      "outputs": [
        {
          "output_type": "stream",
          "text": [
            "Sat Oct  5 13:47:42 2019       \n",
            "+-----------------------------------------------------------------------------+\n",
            "| NVIDIA-SMI 430.40       Driver Version: 418.67       CUDA Version: 10.1     |\n",
            "|-------------------------------+----------------------+----------------------+\n",
            "| GPU  Name        Persistence-M| Bus-Id        Disp.A | Volatile Uncorr. ECC |\n",
            "| Fan  Temp  Perf  Pwr:Usage/Cap|         Memory-Usage | GPU-Util  Compute M. |\n",
            "|===============================+======================+======================|\n",
            "|   0  Tesla K80           Off  | 00000000:00:04.0 Off |                    0 |\n",
            "| N/A   72C    P8    34W / 149W |      0MiB / 11441MiB |      0%      Default |\n",
            "+-------------------------------+----------------------+----------------------+\n",
            "                                                                               \n",
            "+-----------------------------------------------------------------------------+\n",
            "| Processes:                                                       GPU Memory |\n",
            "|  GPU       PID   Type   Process name                             Usage      |\n",
            "|=============================================================================|\n",
            "|  No running processes found                                                 |\n",
            "+-----------------------------------------------------------------------------+\n"
          ],
          "name": "stdout"
        }
      ]
    },
    {
      "cell_type": "code",
      "metadata": {
        "id": "H318Syzc1-9c",
        "colab_type": "code",
        "outputId": "23fae62c-b1b7-4501-f26e-39f0460b2267",
        "colab": {
          "base_uri": "https://localhost:8080/",
          "height": 34
        }
      },
      "source": [
        "import matplotlib.pyplot as plt\n",
        "import numpy as np\n",
        "import tensorflow as tf\n",
        "from keras.utils import np_utils"
      ],
      "execution_count": 1,
      "outputs": [
        {
          "output_type": "stream",
          "text": [
            "Using TensorFlow backend.\n"
          ],
          "name": "stderr"
        }
      ]
    },
    {
      "cell_type": "markdown",
      "metadata": {
        "id": "NYOqb0f49lDl",
        "colab_type": "text"
      },
      "source": [
        "Load the data and check the size of the train and test dataset"
      ]
    },
    {
      "cell_type": "code",
      "metadata": {
        "id": "wCRebTMB2Vmq",
        "colab_type": "code",
        "outputId": "83248a99-a9d9-4582-b487-43f867d3c3be",
        "colab": {
          "base_uri": "https://localhost:8080/",
          "height": 51
        }
      },
      "source": [
        "(x_train, y_train), (x_test, y_test) = tf.keras.datasets.mnist.load_data() "
      ],
      "execution_count": 2,
      "outputs": [
        {
          "output_type": "stream",
          "text": [
            "Downloading data from https://storage.googleapis.com/tensorflow/tf-keras-datasets/mnist.npz\n",
            "11493376/11490434 [==============================] - 0s 0us/step\n"
          ],
          "name": "stdout"
        }
      ]
    },
    {
      "cell_type": "code",
      "metadata": {
        "id": "OWU-KvIP3BCM",
        "colab_type": "code",
        "outputId": "953eaeb8-2865-48e9-a0ff-69ca0438de58",
        "colab": {
          "base_uri": "https://localhost:8080/",
          "height": 85
        }
      },
      "source": [
        "print('x Train: ', x_train.shape)\n",
        "print('y Train: ', y_train.shape)\n",
        "print('x Test: ', x_test.shape)\n",
        "print('y Test: ', y_test.shape)"
      ],
      "execution_count": 3,
      "outputs": [
        {
          "output_type": "stream",
          "text": [
            "x Train:  (60000, 28, 28)\n",
            "y Train:  (60000,)\n",
            "x Test:  (10000, 28, 28)\n",
            "y Test:  (10000,)\n"
          ],
          "name": "stdout"
        }
      ]
    },
    {
      "cell_type": "markdown",
      "metadata": {
        "id": "FcO26BFdFTN2",
        "colab_type": "text"
      },
      "source": [
        "Display the first images (X) and the corresponding labels (y)"
      ]
    },
    {
      "cell_type": "code",
      "metadata": {
        "id": "jp_VaYid3I9w",
        "colab_type": "code",
        "outputId": "c80ccc5f-4424-4833-ff08-dff9d317cfcb",
        "colab": {
          "base_uri": "https://localhost:8080/",
          "height": 242
        }
      },
      "source": [
        "amount = 20\n",
        "img_rows = 2\n",
        "img_columns = 4\n",
        "amount = img_rows * img_columns\n",
        "fig = plt.figure()\n",
        "\n",
        "for i in range(amount):\n",
        "    ax = fig.add_subplot(img_rows, img_columns, 1 + i)\n",
        "    plt.imshow(x_train[i], cmap='binary')\n",
        "    plt.title(y_train[i])\n",
        "    plt.xticks([]) \n",
        "    plt.yticks([])\n",
        "\n",
        "plt.show()"
      ],
      "execution_count": 4,
      "outputs": [
        {
          "output_type": "display_data",
          "data": {
            "image/png": "[encoded data removed]",
            "text/plain": [
              "<Figure size 432x288 with 8 Axes>"
            ]
          },
          "metadata": {
            "tags": []
          }
        }
      ]
    },
    {
      "cell_type": "markdown",
      "metadata": {
        "id": "gWNHqjS3NsWC",
        "colab_type": "text"
      },
      "source": [
        "Reshape the X tensor vector of images (N, h, w) to a vector of vectors (N, h*w)"
      ]
    },
    {
      "cell_type": "code",
      "metadata": {
        "id": "uEJLmh2c3Woh",
        "colab_type": "code",
        "colab": {}
      },
      "source": [
        "x_train = x_train.reshape(x_train.shape[0], x_train.shape[1]*x_train.shape[2])\n",
        "x_test = x_test.reshape(x_test.shape[0], x_test.shape[1]*x_test.shape[2])"
      ],
      "execution_count": 0,
      "outputs": []
    },
    {
      "cell_type": "markdown",
      "metadata": {
        "id": "FN8tZhIiNwDb",
        "colab_type": "text"
      },
      "source": [
        "Normalize the pxel value to a range [0..1]"
      ]
    },
    {
      "cell_type": "code",
      "metadata": {
        "id": "M-rSGkBN3vtV",
        "colab_type": "code",
        "colab": {}
      },
      "source": [
        "x_train = x_train.astype('float32') / 255.0\n",
        "x_test = x_test.astype('float32') / 255.0"
      ],
      "execution_count": 0,
      "outputs": []
    },
    {
      "cell_type": "markdown",
      "metadata": {
        "id": "esnb5GqlN33c",
        "colab_type": "text"
      },
      "source": [
        "Transform the numerical value of a label to a categorical vector"
      ]
    },
    {
      "cell_type": "code",
      "metadata": {
        "id": "5WrBb3kI37t1",
        "colab_type": "code",
        "colab": {}
      },
      "source": [
        "nb_classes=10\n",
        "y_train = np_utils.to_categorical(y_train, nb_classes)\n",
        "y_test = np_utils.to_categorical(y_test, nb_classes)"
      ],
      "execution_count": 0,
      "outputs": []
    },
    {
      "cell_type": "code",
      "metadata": {
        "colab_type": "code",
        "outputId": "5e16d54d-738d-4413-f7c2-3fd350417d3e",
        "id": "qgCY_5ddDP2j",
        "colab": {
          "base_uri": "https://localhost:8080/",
          "height": 85
        }
      },
      "source": [
        "print(x_train.shape)\n",
        "print(y_train.shape)\n",
        "print(x_test.shape)\n",
        "print(y_test.shape)"
      ],
      "execution_count": 8,
      "outputs": [
        {
          "output_type": "stream",
          "text": [
            "(60000, 784)\n",
            "(60000, 10)\n",
            "(10000, 784)\n",
            "(10000, 10)\n"
          ],
          "name": "stdout"
        }
      ]
    },
    {
      "cell_type": "code",
      "metadata": {
        "id": "p6viHutb3nyo",
        "colab_type": "code",
        "outputId": "06a91bc5-95bf-499f-ea4c-bf8ed774a654",
        "colab": {
          "base_uri": "https://localhost:8080/",
          "height": 34
        }
      },
      "source": [
        "y_train[0]"
      ],
      "execution_count": 9,
      "outputs": [
        {
          "output_type": "execute_result",
          "data": {
            "text/plain": [
              "array([0., 0., 0., 0., 0., 1., 0., 0., 0., 0.], dtype=float32)"
            ]
          },
          "metadata": {
            "tags": []
          },
          "execution_count": 9
        }
      ]
    },
    {
      "cell_type": "markdown",
      "metadata": {
        "id": "lIQxFLNFSHqs",
        "colab_type": "text"
      },
      "source": [
        "## Using Sigmoid"
      ]
    },
    {
      "cell_type": "code",
      "metadata": {
        "id": "iGB3DTxg28R2",
        "colab_type": "code",
        "colab": {}
      },
      "source": [
        "input_layer = tf.keras.layers.Input(shape=(784,))\n",
        "z = tf.keras.layers.Dense(200)(input_layer)\n",
        "z = tf.keras.layers.Activation('sigmoid')(z)\n",
        "z = tf.keras.layers.Dense(100)(z)\n",
        "z = tf.keras.layers.Activation('sigmoid')(z)\n",
        "z = tf.keras.layers.Dense(60)(z)\n",
        "z = tf.keras.layers.Activation('sigmoid')(z)\n",
        "z = tf.keras.layers.Dense(30)(z)\n",
        "z = tf.keras.layers.Activation('sigmoid')(z)\n",
        "z = tf.keras.layers.Dense(nb_classes)(z)\n",
        "output_layer = tf.keras.layers.Activation('softmax')(z)\n",
        "\n",
        "model_sigmoid = tf.keras.models.Model(input_layer, output_layer)"
      ],
      "execution_count": 0,
      "outputs": []
    },
    {
      "cell_type": "code",
      "metadata": {
        "id": "Q5IRu_gy8Anx",
        "colab_type": "code",
        "outputId": "5fde8e55-6978-4ae6-9964-bc87ebee2bde",
        "colab": {
          "base_uri": "https://localhost:8080/",
          "height": 527
        }
      },
      "source": [
        "model_sigmoid.summary()"
      ],
      "execution_count": 25,
      "outputs": [
        {
          "output_type": "stream",
          "text": [
            "Model: \"model_5\"\n",
            "_________________________________________________________________\n",
            "Layer (type)                 Output Shape              Param #   \n",
            "=================================================================\n",
            "input_6 (InputLayer)         [(None, 784)]             0         \n",
            "_________________________________________________________________\n",
            "dense_23 (Dense)             (None, 200)               157000    \n",
            "_________________________________________________________________\n",
            "activation_23 (Activation)   (None, 200)               0         \n",
            "_________________________________________________________________\n",
            "dense_24 (Dense)             (None, 100)               20100     \n",
            "_________________________________________________________________\n",
            "activation_24 (Activation)   (None, 100)               0         \n",
            "_________________________________________________________________\n",
            "dense_25 (Dense)             (None, 60)                6060      \n",
            "_________________________________________________________________\n",
            "activation_25 (Activation)   (None, 60)                0         \n",
            "_________________________________________________________________\n",
            "dense_26 (Dense)             (None, 30)                1830      \n",
            "_________________________________________________________________\n",
            "activation_26 (Activation)   (None, 30)                0         \n",
            "_________________________________________________________________\n",
            "dense_27 (Dense)             (None, 10)                310       \n",
            "_________________________________________________________________\n",
            "activation_27 (Activation)   (None, 10)                0         \n",
            "=================================================================\n",
            "Total params: 185,300\n",
            "Trainable params: 185,300\n",
            "Non-trainable params: 0\n",
            "_________________________________________________________________\n"
          ],
          "name": "stdout"
        }
      ]
    },
    {
      "cell_type": "code",
      "metadata": {
        "id": "Gee-rhC_23Ex",
        "colab_type": "code",
        "colab": {}
      },
      "source": [
        "model_sigmoid.compile(loss='categorical_crossentropy', optimizer=\"SGD\", metrics=['accuracy'])"
      ],
      "execution_count": 0,
      "outputs": []
    },
    {
      "cell_type": "code",
      "metadata": {
        "id": "yvwb9pIZ8pSJ",
        "colab_type": "code",
        "outputId": "a5055892-6ffb-4df8-eb6d-6849e00739bd",
        "colab": {
          "base_uri": "https://localhost:8080/",
          "height": 1000
        }
      },
      "source": [
        "history = model_sigmoid.fit(x_train, y_train, validation_data=(x_test, y_test), epochs=100)"
      ],
      "execution_count": 27,
      "outputs": [
        {
          "output_type": "stream",
          "text": [
            "Train on 60000 samples, validate on 10000 samples\n",
            "Epoch 1/100\n",
            "60000/60000 [==============================] - 7s 124us/sample - loss: 2.3022 - acc: 0.1108 - val_loss: 2.2998 - val_acc: 0.1135\n",
            "Epoch 2/100\n",
            "60000/60000 [==============================] - 7s 122us/sample - loss: 2.3000 - acc: 0.1148 - val_loss: 2.2989 - val_acc: 0.1147\n",
            "Epoch 3/100\n",
            "60000/60000 [==============================] - 7s 123us/sample - loss: 2.2984 - acc: 0.1174 - val_loss: 2.2977 - val_acc: 0.1135\n",
            "Epoch 4/100\n",
            "60000/60000 [==============================] - 7s 123us/sample - loss: 2.2969 - acc: 0.1232 - val_loss: 2.2954 - val_acc: 0.1135\n",
            "Epoch 5/100\n",
            "60000/60000 [==============================] - 7s 122us/sample - loss: 2.2947 - acc: 0.1292 - val_loss: 2.2927 - val_acc: 0.1910\n",
            "Epoch 6/100\n",
            "60000/60000 [==============================] - 7s 123us/sample - loss: 2.2917 - acc: 0.1380 - val_loss: 2.2891 - val_acc: 0.1147\n",
            "Epoch 7/100\n",
            "60000/60000 [==============================] - 7s 123us/sample - loss: 2.2873 - acc: 0.1491 - val_loss: 2.2832 - val_acc: 0.1380\n",
            "Epoch 8/100\n",
            "60000/60000 [==============================] - 8s 128us/sample - loss: 2.2796 - acc: 0.1692 - val_loss: 2.2739 - val_acc: 0.3058\n",
            "Epoch 9/100\n",
            "60000/60000 [==============================] - 7s 124us/sample - loss: 2.2641 - acc: 0.2285 - val_loss: 2.2497 - val_acc: 0.2991\n",
            "Epoch 10/100\n",
            "60000/60000 [==============================] - 7s 124us/sample - loss: 2.2232 - acc: 0.2853 - val_loss: 2.1798 - val_acc: 0.3311\n",
            "Epoch 11/100\n",
            "60000/60000 [==============================] - 7s 124us/sample - loss: 2.0837 - acc: 0.3351 - val_loss: 1.9463 - val_acc: 0.3573\n",
            "Epoch 12/100\n",
            "60000/60000 [==============================] - 7s 124us/sample - loss: 1.7731 - acc: 0.3878 - val_loss: 1.5949 - val_acc: 0.4076\n",
            "Epoch 13/100\n",
            "60000/60000 [==============================] - 7s 124us/sample - loss: 1.4833 - acc: 0.4437 - val_loss: 1.3968 - val_acc: 0.4717\n",
            "Epoch 14/100\n",
            "60000/60000 [==============================] - 7s 123us/sample - loss: 1.3362 - acc: 0.4836 - val_loss: 1.2871 - val_acc: 0.4946\n",
            "Epoch 15/100\n",
            "60000/60000 [==============================] - 7s 125us/sample - loss: 1.2428 - acc: 0.5201 - val_loss: 1.2050 - val_acc: 0.5325\n",
            "Epoch 16/100\n",
            "60000/60000 [==============================] - 7s 123us/sample - loss: 1.1657 - acc: 0.5610 - val_loss: 1.1307 - val_acc: 0.5767\n",
            "Epoch 17/100\n",
            "60000/60000 [==============================] - 7s 122us/sample - loss: 1.0937 - acc: 0.6053 - val_loss: 1.0586 - val_acc: 0.6257\n",
            "Epoch 18/100\n",
            "60000/60000 [==============================] - 7s 123us/sample - loss: 1.0267 - acc: 0.6446 - val_loss: 0.9926 - val_acc: 0.6629\n",
            "Epoch 19/100\n",
            "60000/60000 [==============================] - 7s 123us/sample - loss: 0.9655 - acc: 0.6752 - val_loss: 0.9337 - val_acc: 0.7005\n",
            "Epoch 20/100\n",
            "60000/60000 [==============================] - 7s 125us/sample - loss: 0.9098 - acc: 0.7037 - val_loss: 0.8785 - val_acc: 0.7206\n",
            "Epoch 21/100\n",
            "60000/60000 [==============================] - 7s 123us/sample - loss: 0.8571 - acc: 0.7271 - val_loss: 0.8286 - val_acc: 0.7480\n",
            "Epoch 22/100\n",
            "60000/60000 [==============================] - 7s 123us/sample - loss: 0.8044 - acc: 0.7504 - val_loss: 0.7729 - val_acc: 0.7655\n",
            "Epoch 23/100\n",
            "60000/60000 [==============================] - 7s 123us/sample - loss: 0.7492 - acc: 0.7728 - val_loss: 0.7169 - val_acc: 0.7882\n",
            "Epoch 24/100\n",
            "60000/60000 [==============================] - 7s 123us/sample - loss: 0.6897 - acc: 0.7975 - val_loss: 0.6588 - val_acc: 0.8111\n",
            "Epoch 25/100\n",
            "60000/60000 [==============================] - 7s 124us/sample - loss: 0.6279 - acc: 0.8186 - val_loss: 0.5941 - val_acc: 0.8292\n",
            "Epoch 26/100\n",
            "60000/60000 [==============================] - 7s 123us/sample - loss: 0.5697 - acc: 0.8386 - val_loss: 0.5391 - val_acc: 0.8479\n",
            "Epoch 27/100\n",
            "60000/60000 [==============================] - 7s 123us/sample - loss: 0.5235 - acc: 0.8525 - val_loss: 0.4985 - val_acc: 0.8580\n",
            "Epoch 28/100\n",
            "60000/60000 [==============================] - 7s 123us/sample - loss: 0.4892 - acc: 0.8617 - val_loss: 0.4678 - val_acc: 0.8671\n",
            "Epoch 29/100\n",
            "60000/60000 [==============================] - 7s 125us/sample - loss: 0.4633 - acc: 0.8682 - val_loss: 0.4454 - val_acc: 0.8709\n",
            "Epoch 30/100\n",
            "60000/60000 [==============================] - 8s 130us/sample - loss: 0.4422 - acc: 0.8743 - val_loss: 0.4255 - val_acc: 0.8783\n",
            "Epoch 31/100\n",
            "60000/60000 [==============================] - 8s 133us/sample - loss: 0.4244 - acc: 0.8799 - val_loss: 0.4178 - val_acc: 0.8810\n",
            "Epoch 32/100\n",
            "60000/60000 [==============================] - 7s 123us/sample - loss: 0.4090 - acc: 0.8845 - val_loss: 0.3954 - val_acc: 0.8859\n",
            "Epoch 33/100\n",
            "60000/60000 [==============================] - 7s 122us/sample - loss: 0.3951 - acc: 0.8887 - val_loss: 0.3839 - val_acc: 0.8896\n",
            "Epoch 34/100\n",
            "60000/60000 [==============================] - 7s 123us/sample - loss: 0.3821 - acc: 0.8923 - val_loss: 0.3735 - val_acc: 0.8932\n",
            "Epoch 35/100\n",
            "60000/60000 [==============================] - 7s 121us/sample - loss: 0.3703 - acc: 0.8954 - val_loss: 0.3614 - val_acc: 0.8970\n",
            "Epoch 36/100\n",
            "60000/60000 [==============================] - 7s 122us/sample - loss: 0.3592 - acc: 0.8990 - val_loss: 0.3513 - val_acc: 0.9002\n",
            "Epoch 37/100\n",
            "60000/60000 [==============================] - 7s 122us/sample - loss: 0.3483 - acc: 0.9020 - val_loss: 0.3406 - val_acc: 0.9035\n",
            "Epoch 38/100\n",
            "60000/60000 [==============================] - 7s 121us/sample - loss: 0.3380 - acc: 0.9048 - val_loss: 0.3332 - val_acc: 0.9060\n",
            "Epoch 39/100\n",
            "60000/60000 [==============================] - 7s 122us/sample - loss: 0.3283 - acc: 0.9076 - val_loss: 0.3231 - val_acc: 0.9084\n",
            "Epoch 40/100\n",
            "60000/60000 [==============================] - 7s 122us/sample - loss: 0.3188 - acc: 0.9106 - val_loss: 0.3126 - val_acc: 0.9118\n",
            "Epoch 41/100\n",
            "60000/60000 [==============================] - 7s 122us/sample - loss: 0.3094 - acc: 0.9131 - val_loss: 0.3053 - val_acc: 0.9141\n",
            "Epoch 42/100\n",
            "60000/60000 [==============================] - 7s 125us/sample - loss: 0.3007 - acc: 0.9150 - val_loss: 0.2990 - val_acc: 0.9146\n",
            "Epoch 43/100\n",
            "60000/60000 [==============================] - 7s 123us/sample - loss: 0.2926 - acc: 0.9173 - val_loss: 0.2918 - val_acc: 0.9177\n",
            "Epoch 44/100\n",
            "60000/60000 [==============================] - 7s 123us/sample - loss: 0.2844 - acc: 0.9199 - val_loss: 0.2837 - val_acc: 0.9203\n",
            "Epoch 45/100\n",
            "60000/60000 [==============================] - 7s 122us/sample - loss: 0.2765 - acc: 0.9220 - val_loss: 0.2773 - val_acc: 0.9225\n",
            "Epoch 46/100\n",
            "60000/60000 [==============================] - 7s 122us/sample - loss: 0.2690 - acc: 0.9242 - val_loss: 0.2699 - val_acc: 0.9233\n",
            "Epoch 47/100\n",
            "60000/60000 [==============================] - 7s 121us/sample - loss: 0.2616 - acc: 0.9261 - val_loss: 0.2610 - val_acc: 0.9267\n",
            "Epoch 48/100\n",
            "60000/60000 [==============================] - 7s 122us/sample - loss: 0.2549 - acc: 0.9279 - val_loss: 0.2580 - val_acc: 0.9266\n",
            "Epoch 49/100\n",
            "60000/60000 [==============================] - 7s 123us/sample - loss: 0.2481 - acc: 0.9301 - val_loss: 0.2497 - val_acc: 0.9286\n",
            "Epoch 50/100\n",
            "60000/60000 [==============================] - 7s 124us/sample - loss: 0.2420 - acc: 0.9319 - val_loss: 0.2447 - val_acc: 0.9304\n",
            "Epoch 51/100\n",
            "60000/60000 [==============================] - 7s 124us/sample - loss: 0.2357 - acc: 0.9330 - val_loss: 0.2375 - val_acc: 0.9324\n",
            "Epoch 52/100\n",
            "60000/60000 [==============================] - 7s 123us/sample - loss: 0.2296 - acc: 0.9349 - val_loss: 0.2336 - val_acc: 0.9350\n",
            "Epoch 53/100\n",
            "60000/60000 [==============================] - 7s 124us/sample - loss: 0.2241 - acc: 0.9367 - val_loss: 0.2283 - val_acc: 0.9353\n",
            "Epoch 54/100\n",
            "60000/60000 [==============================] - 7s 123us/sample - loss: 0.2185 - acc: 0.9388 - val_loss: 0.2216 - val_acc: 0.9373\n",
            "Epoch 55/100\n",
            "60000/60000 [==============================] - 7s 123us/sample - loss: 0.2132 - acc: 0.9408 - val_loss: 0.2175 - val_acc: 0.9391\n",
            "Epoch 56/100\n",
            "60000/60000 [==============================] - 7s 124us/sample - loss: 0.2086 - acc: 0.9414 - val_loss: 0.2136 - val_acc: 0.9392\n",
            "Epoch 57/100\n",
            "60000/60000 [==============================] - 7s 124us/sample - loss: 0.2035 - acc: 0.9428 - val_loss: 0.2128 - val_acc: 0.9397\n",
            "Epoch 58/100\n",
            "60000/60000 [==============================] - 7s 123us/sample - loss: 0.1987 - acc: 0.9446 - val_loss: 0.2059 - val_acc: 0.9419\n",
            "Epoch 59/100\n",
            "60000/60000 [==============================] - 7s 123us/sample - loss: 0.1945 - acc: 0.9453 - val_loss: 0.2002 - val_acc: 0.9428\n",
            "Epoch 60/100\n",
            "60000/60000 [==============================] - 7s 122us/sample - loss: 0.1902 - acc: 0.9466 - val_loss: 0.1981 - val_acc: 0.9429\n",
            "Epoch 61/100\n",
            "60000/60000 [==============================] - 7s 123us/sample - loss: 0.1861 - acc: 0.9480 - val_loss: 0.1945 - val_acc: 0.9450\n",
            "Epoch 62/100\n",
            "60000/60000 [==============================] - 7s 123us/sample - loss: 0.1823 - acc: 0.9486 - val_loss: 0.1931 - val_acc: 0.9456\n",
            "Epoch 63/100\n",
            "60000/60000 [==============================] - 7s 123us/sample - loss: 0.1784 - acc: 0.9495 - val_loss: 0.1894 - val_acc: 0.9460\n",
            "Epoch 64/100\n",
            "60000/60000 [==============================] - 7s 122us/sample - loss: 0.1745 - acc: 0.9502 - val_loss: 0.1952 - val_acc: 0.9443\n",
            "Epoch 65/100\n",
            "60000/60000 [==============================] - 7s 123us/sample - loss: 0.1708 - acc: 0.9520 - val_loss: 0.1822 - val_acc: 0.9487\n",
            "Epoch 66/100\n",
            "60000/60000 [==============================] - 7s 122us/sample - loss: 0.1675 - acc: 0.9528 - val_loss: 0.1816 - val_acc: 0.9493\n",
            "Epoch 67/100\n",
            "60000/60000 [==============================] - 7s 124us/sample - loss: 0.1641 - acc: 0.9538 - val_loss: 0.1809 - val_acc: 0.9475\n",
            "Epoch 68/100\n",
            "60000/60000 [==============================] - 7s 123us/sample - loss: 0.1607 - acc: 0.9545 - val_loss: 0.1726 - val_acc: 0.9497\n",
            "Epoch 69/100\n",
            "60000/60000 [==============================] - 7s 123us/sample - loss: 0.1578 - acc: 0.9557 - val_loss: 0.1723 - val_acc: 0.9502\n",
            "Epoch 70/100\n",
            "60000/60000 [==============================] - 7s 124us/sample - loss: 0.1547 - acc: 0.9566 - val_loss: 0.1691 - val_acc: 0.9510\n",
            "Epoch 71/100\n",
            "60000/60000 [==============================] - 7s 124us/sample - loss: 0.1515 - acc: 0.9577 - val_loss: 0.1704 - val_acc: 0.9520\n",
            "Epoch 72/100\n",
            "60000/60000 [==============================] - 8s 135us/sample - loss: 0.1486 - acc: 0.9581 - val_loss: 0.1633 - val_acc: 0.9528\n",
            "Epoch 73/100\n",
            "60000/60000 [==============================] - 8s 131us/sample - loss: 0.1461 - acc: 0.9591 - val_loss: 0.1630 - val_acc: 0.9531\n",
            "Epoch 74/100\n",
            "60000/60000 [==============================] - 7s 124us/sample - loss: 0.1433 - acc: 0.9593 - val_loss: 0.1601 - val_acc: 0.9529\n",
            "Epoch 75/100\n",
            "60000/60000 [==============================] - 7s 124us/sample - loss: 0.1404 - acc: 0.9605 - val_loss: 0.1569 - val_acc: 0.9537\n",
            "Epoch 76/100\n",
            "60000/60000 [==============================] - 7s 123us/sample - loss: 0.1378 - acc: 0.9611 - val_loss: 0.1583 - val_acc: 0.9540\n",
            "Epoch 77/100\n",
            "60000/60000 [==============================] - 7s 122us/sample - loss: 0.1354 - acc: 0.9621 - val_loss: 0.1546 - val_acc: 0.9552\n",
            "Epoch 78/100\n",
            "60000/60000 [==============================] - 7s 122us/sample - loss: 0.1328 - acc: 0.9625 - val_loss: 0.1520 - val_acc: 0.9567\n",
            "Epoch 79/100\n",
            "60000/60000 [==============================] - 7s 123us/sample - loss: 0.1307 - acc: 0.9628 - val_loss: 0.1496 - val_acc: 0.9560\n",
            "Epoch 80/100\n",
            "60000/60000 [==============================] - 7s 123us/sample - loss: 0.1281 - acc: 0.9640 - val_loss: 0.1479 - val_acc: 0.9571\n",
            "Epoch 81/100\n",
            "60000/60000 [==============================] - 7s 124us/sample - loss: 0.1263 - acc: 0.9646 - val_loss: 0.1462 - val_acc: 0.9570\n",
            "Epoch 82/100\n",
            "60000/60000 [==============================] - 7s 122us/sample - loss: 0.1237 - acc: 0.9650 - val_loss: 0.1494 - val_acc: 0.9551\n",
            "Epoch 83/100\n",
            "60000/60000 [==============================] - 7s 122us/sample - loss: 0.1218 - acc: 0.9651 - val_loss: 0.1426 - val_acc: 0.9576\n",
            "Epoch 84/100\n",
            "60000/60000 [==============================] - 7s 123us/sample - loss: 0.1198 - acc: 0.9662 - val_loss: 0.1426 - val_acc: 0.9586\n",
            "Epoch 85/100\n",
            "60000/60000 [==============================] - 7s 123us/sample - loss: 0.1174 - acc: 0.9668 - val_loss: 0.1424 - val_acc: 0.9595\n",
            "Epoch 86/100\n",
            "60000/60000 [==============================] - 7s 122us/sample - loss: 0.1156 - acc: 0.9673 - val_loss: 0.1401 - val_acc: 0.9586\n",
            "Epoch 87/100\n",
            "60000/60000 [==============================] - 7s 123us/sample - loss: 0.1137 - acc: 0.9682 - val_loss: 0.1380 - val_acc: 0.9600\n",
            "Epoch 88/100\n",
            "60000/60000 [==============================] - 7s 123us/sample - loss: 0.1116 - acc: 0.9686 - val_loss: 0.1403 - val_acc: 0.9595\n",
            "Epoch 89/100\n",
            "60000/60000 [==============================] - 7s 123us/sample - loss: 0.1098 - acc: 0.9693 - val_loss: 0.1410 - val_acc: 0.9591\n",
            "Epoch 90/100\n",
            "60000/60000 [==============================] - 7s 123us/sample - loss: 0.1081 - acc: 0.9703 - val_loss: 0.1335 - val_acc: 0.9613\n",
            "Epoch 91/100\n",
            "60000/60000 [==============================] - 7s 122us/sample - loss: 0.1066 - acc: 0.9701 - val_loss: 0.1320 - val_acc: 0.9611\n",
            "Epoch 92/100\n",
            "60000/60000 [==============================] - 7s 122us/sample - loss: 0.1043 - acc: 0.9710 - val_loss: 0.1374 - val_acc: 0.9586\n",
            "Epoch 93/100\n",
            "60000/60000 [==============================] - 7s 123us/sample - loss: 0.1029 - acc: 0.9716 - val_loss: 0.1324 - val_acc: 0.9606\n",
            "Epoch 94/100\n",
            "60000/60000 [==============================] - 7s 123us/sample - loss: 0.1012 - acc: 0.9719 - val_loss: 0.1294 - val_acc: 0.9620\n",
            "Epoch 95/100\n",
            "60000/60000 [==============================] - 7s 123us/sample - loss: 0.0997 - acc: 0.9726 - val_loss: 0.1284 - val_acc: 0.9620\n",
            "Epoch 96/100\n",
            "60000/60000 [==============================] - 7s 123us/sample - loss: 0.0980 - acc: 0.9730 - val_loss: 0.1267 - val_acc: 0.9625\n",
            "Epoch 97/100\n",
            "60000/60000 [==============================] - 7s 123us/sample - loss: 0.0965 - acc: 0.9732 - val_loss: 0.1254 - val_acc: 0.9636\n",
            "Epoch 98/100\n",
            "60000/60000 [==============================] - 7s 123us/sample - loss: 0.0948 - acc: 0.9738 - val_loss: 0.1241 - val_acc: 0.9641\n",
            "Epoch 99/100\n",
            "60000/60000 [==============================] - 7s 124us/sample - loss: 0.0935 - acc: 0.9740 - val_loss: 0.1262 - val_acc: 0.9634\n",
            "Epoch 100/100\n",
            "60000/60000 [==============================] - 7s 122us/sample - loss: 0.0921 - acc: 0.9745 - val_loss: 0.1327 - val_acc: 0.9621\n"
          ],
          "name": "stdout"
        }
      ]
    },
    {
      "cell_type": "markdown",
      "metadata": {
        "id": "PR_DH9x0EYD3",
        "colab_type": "text"
      },
      "source": [
        "Plot the training and validation accuracy per epoch"
      ]
    },
    {
      "cell_type": "code",
      "metadata": {
        "id": "iRkuPRyf87RJ",
        "colab_type": "code",
        "outputId": "9e6af770-5091-4652-f2ee-ab8f3cb112a2",
        "colab": {
          "base_uri": "https://localhost:8080/",
          "height": 315
        }
      },
      "source": [
        "acc = history.history['acc']\n",
        "val_acc = history.history['val_acc']\n",
        "epochs   = range(100) # Get number of epochs\n",
        "\n",
        "plt.plot(epochs, acc, 'b')\n",
        "plt.plot(epochs, val_acc, 'r')\n",
        "plt.title('Training accuracy')\n",
        "plt.figure()\n"
      ],
      "execution_count": 32,
      "outputs": [
        {
          "output_type": "execute_result",
          "data": {
            "text/plain": [
              "<Figure size 432x288 with 0 Axes>"
            ]
          },
          "metadata": {
            "tags": []
          },
          "execution_count": 32
        },
        {
          "output_type": "display_data",
          "data": {
            "image/png": "[encoded data removed]",
            "text/plain": [
              "<Figure size 432x288 with 1 Axes>"
            ]
          },
          "metadata": {
            "tags": []
          }
        },
        {
          "output_type": "display_data",
          "data": {
            "text/plain": [
              "<Figure size 432x288 with 0 Axes>"
            ]
          },
          "metadata": {
            "tags": []
          }
        }
      ]
    },
    {
      "cell_type": "markdown",
      "metadata": {
        "id": "AjkSbdmxSlZI",
        "colab_type": "text"
      },
      "source": [
        "## Model using ReLU"
      ]
    },
    {
      "cell_type": "code",
      "metadata": {
        "id": "l_DGh1CASop1",
        "colab_type": "code",
        "colab": {}
      },
      "source": [
        "input_layer = tf.keras.layers.Input(shape=(784,))\n",
        "z = tf.keras.layers.Dense(200)(input_layer)\n",
        "z = tf.keras.layers.Activation('relu')(z)\n",
        "z = tf.keras.layers.Dense(100)(z)\n",
        "z = tf.keras.layers.Activation('relu')(z)\n",
        "z = tf.keras.layers.Dense(60)(z)\n",
        "z = tf.keras.layers.Activation('relu')(z)\n",
        "z = tf.keras.layers.Dense(30)(z)\n",
        "z = tf.keras.layers.Activation('relu')(z)\n",
        "z = tf.keras.layers.Dense(nb_classes)(z)\n",
        "output_layer = tf.keras.layers.Activation('softmax')(z)\n",
        "\n",
        "model_relu = tf.keras.models.Model(input_layer, output_layer)"
      ],
      "execution_count": 0,
      "outputs": []
    },
    {
      "cell_type": "code",
      "metadata": {
        "id": "pU3jqSLsSrqu",
        "colab_type": "code",
        "colab": {
          "base_uri": "https://localhost:8080/",
          "height": 527
        },
        "outputId": "45575eb8-93f1-4178-f803-ccb1860e5bf7"
      },
      "source": [
        "model_relu.summary()"
      ],
      "execution_count": 34,
      "outputs": [
        {
          "output_type": "stream",
          "text": [
            "Model: \"model_6\"\n",
            "_________________________________________________________________\n",
            "Layer (type)                 Output Shape              Param #   \n",
            "=================================================================\n",
            "input_7 (InputLayer)         [(None, 784)]             0         \n",
            "_________________________________________________________________\n",
            "dense_28 (Dense)             (None, 200)               157000    \n",
            "_________________________________________________________________\n",
            "activation_28 (Activation)   (None, 200)               0         \n",
            "_________________________________________________________________\n",
            "dense_29 (Dense)             (None, 100)               20100     \n",
            "_________________________________________________________________\n",
            "activation_29 (Activation)   (None, 100)               0         \n",
            "_________________________________________________________________\n",
            "dense_30 (Dense)             (None, 60)                6060      \n",
            "_________________________________________________________________\n",
            "activation_30 (Activation)   (None, 60)                0         \n",
            "_________________________________________________________________\n",
            "dense_31 (Dense)             (None, 30)                1830      \n",
            "_________________________________________________________________\n",
            "activation_31 (Activation)   (None, 30)                0         \n",
            "_________________________________________________________________\n",
            "dense_32 (Dense)             (None, 10)                310       \n",
            "_________________________________________________________________\n",
            "activation_32 (Activation)   (None, 10)                0         \n",
            "=================================================================\n",
            "Total params: 185,300\n",
            "Trainable params: 185,300\n",
            "Non-trainable params: 0\n",
            "_________________________________________________________________\n"
          ],
          "name": "stdout"
        }
      ]
    },
    {
      "cell_type": "code",
      "metadata": {
        "id": "ZIZmznbMS1yl",
        "colab_type": "code",
        "colab": {}
      },
      "source": [
        "model_relu.compile(loss='categorical_crossentropy', optimizer=\"SGD\", metrics=['accuracy'])"
      ],
      "execution_count": 0,
      "outputs": []
    },
    {
      "cell_type": "code",
      "metadata": {
        "id": "tQHkMXQmS1hx",
        "colab_type": "code",
        "colab": {
          "base_uri": "https://localhost:8080/",
          "height": 1000
        },
        "outputId": "eaefe466-7850-44f3-e4a7-7ea5d0ffe2a7"
      },
      "source": [
        "history2 = model_relu.fit(x_train, y_train, validation_data=(x_test, y_test), epochs=100)"
      ],
      "execution_count": 36,
      "outputs": [
        {
          "output_type": "stream",
          "text": [
            "Train on 60000 samples, validate on 10000 samples\n",
            "Epoch 1/100\n",
            "60000/60000 [==============================] - 8s 131us/sample - loss: 0.7224 - acc: 0.7777 - val_loss: 0.2774 - val_acc: 0.9181\n",
            "Epoch 2/100\n",
            "60000/60000 [==============================] - 7s 124us/sample - loss: 0.2429 - acc: 0.9289 - val_loss: 0.1956 - val_acc: 0.9397\n",
            "Epoch 3/100\n",
            "60000/60000 [==============================] - 8s 131us/sample - loss: 0.1776 - acc: 0.9480 - val_loss: 0.1644 - val_acc: 0.9514\n",
            "Epoch 4/100\n",
            "60000/60000 [==============================] - 7s 125us/sample - loss: 0.1421 - acc: 0.9581 - val_loss: 0.1367 - val_acc: 0.9607\n",
            "Epoch 5/100\n",
            "60000/60000 [==============================] - 7s 124us/sample - loss: 0.1184 - acc: 0.9651 - val_loss: 0.1182 - val_acc: 0.9647\n",
            "Epoch 6/100\n",
            "60000/60000 [==============================] - 7s 123us/sample - loss: 0.1003 - acc: 0.9703 - val_loss: 0.1227 - val_acc: 0.9658\n",
            "Epoch 7/100\n",
            "60000/60000 [==============================] - 7s 123us/sample - loss: 0.0874 - acc: 0.9748 - val_loss: 0.1012 - val_acc: 0.9711\n",
            "Epoch 8/100\n",
            "60000/60000 [==============================] - 7s 122us/sample - loss: 0.0764 - acc: 0.9774 - val_loss: 0.1008 - val_acc: 0.9706\n",
            "Epoch 9/100\n",
            "60000/60000 [==============================] - 7s 124us/sample - loss: 0.0668 - acc: 0.9804 - val_loss: 0.0918 - val_acc: 0.9714\n",
            "Epoch 10/100\n",
            "60000/60000 [==============================] - 7s 123us/sample - loss: 0.0595 - acc: 0.9819 - val_loss: 0.0976 - val_acc: 0.9711\n",
            "Epoch 11/100\n",
            "60000/60000 [==============================] - 7s 123us/sample - loss: 0.0524 - acc: 0.9840 - val_loss: 0.0865 - val_acc: 0.9738\n",
            "Epoch 12/100\n",
            "60000/60000 [==============================] - 7s 124us/sample - loss: 0.0462 - acc: 0.9870 - val_loss: 0.0884 - val_acc: 0.9735\n",
            "Epoch 13/100\n",
            "60000/60000 [==============================] - 7s 124us/sample - loss: 0.0414 - acc: 0.9880 - val_loss: 0.0879 - val_acc: 0.9739\n",
            "Epoch 14/100\n",
            "60000/60000 [==============================] - 7s 123us/sample - loss: 0.0371 - acc: 0.9893 - val_loss: 0.0844 - val_acc: 0.9741\n",
            "Epoch 15/100\n",
            "60000/60000 [==============================] - 7s 123us/sample - loss: 0.0328 - acc: 0.9909 - val_loss: 0.0876 - val_acc: 0.9741\n",
            "Epoch 16/100\n",
            "60000/60000 [==============================] - 7s 123us/sample - loss: 0.0292 - acc: 0.9914 - val_loss: 0.0837 - val_acc: 0.9749\n",
            "Epoch 17/100\n",
            "60000/60000 [==============================] - 7s 123us/sample - loss: 0.0263 - acc: 0.9927 - val_loss: 0.0814 - val_acc: 0.9772\n",
            "Epoch 18/100\n",
            "60000/60000 [==============================] - 8s 128us/sample - loss: 0.0231 - acc: 0.9936 - val_loss: 0.0826 - val_acc: 0.9764\n",
            "Epoch 19/100\n",
            "60000/60000 [==============================] - 7s 123us/sample - loss: 0.0208 - acc: 0.9948 - val_loss: 0.0821 - val_acc: 0.9750\n",
            "Epoch 20/100\n",
            "60000/60000 [==============================] - 7s 124us/sample - loss: 0.0179 - acc: 0.9957 - val_loss: 0.0929 - val_acc: 0.9740\n",
            "Epoch 21/100\n",
            "60000/60000 [==============================] - 7s 122us/sample - loss: 0.0162 - acc: 0.9962 - val_loss: 0.0888 - val_acc: 0.9755\n",
            "Epoch 22/100\n",
            "60000/60000 [==============================] - 7s 123us/sample - loss: 0.0139 - acc: 0.9967 - val_loss: 0.0823 - val_acc: 0.9772\n",
            "Epoch 23/100\n",
            "60000/60000 [==============================] - 7s 123us/sample - loss: 0.0120 - acc: 0.9974 - val_loss: 0.0902 - val_acc: 0.9744\n",
            "Epoch 24/100\n",
            "60000/60000 [==============================] - 7s 124us/sample - loss: 0.0105 - acc: 0.9979 - val_loss: 0.0852 - val_acc: 0.9769\n",
            "Epoch 25/100\n",
            "60000/60000 [==============================] - 7s 124us/sample - loss: 0.0089 - acc: 0.9983 - val_loss: 0.0872 - val_acc: 0.9766\n",
            "Epoch 26/100\n",
            "60000/60000 [==============================] - 7s 124us/sample - loss: 0.0080 - acc: 0.9987 - val_loss: 0.0871 - val_acc: 0.9774\n",
            "Epoch 27/100\n",
            "60000/60000 [==============================] - 7s 123us/sample - loss: 0.0065 - acc: 0.9991 - val_loss: 0.0908 - val_acc: 0.9766\n",
            "Epoch 28/100\n",
            "60000/60000 [==============================] - 7s 122us/sample - loss: 0.0059 - acc: 0.9992 - val_loss: 0.0927 - val_acc: 0.9762\n",
            "Epoch 29/100\n",
            "60000/60000 [==============================] - 7s 123us/sample - loss: 0.0052 - acc: 0.9992 - val_loss: 0.0885 - val_acc: 0.9775\n",
            "Epoch 30/100\n",
            "60000/60000 [==============================] - 7s 124us/sample - loss: 0.0044 - acc: 0.9996 - val_loss: 0.0909 - val_acc: 0.9764\n",
            "Epoch 31/100\n",
            "60000/60000 [==============================] - 7s 123us/sample - loss: 0.0037 - acc: 0.9998 - val_loss: 0.0920 - val_acc: 0.9771\n",
            "Epoch 32/100\n",
            "60000/60000 [==============================] - 7s 122us/sample - loss: 0.0034 - acc: 0.9998 - val_loss: 0.0919 - val_acc: 0.9776\n",
            "Epoch 33/100\n",
            "60000/60000 [==============================] - 7s 122us/sample - loss: 0.0029 - acc: 0.9999 - val_loss: 0.0931 - val_acc: 0.9768\n",
            "Epoch 34/100\n",
            "60000/60000 [==============================] - 7s 122us/sample - loss: 0.0026 - acc: 0.9999 - val_loss: 0.0936 - val_acc: 0.9773\n",
            "Epoch 35/100\n",
            "60000/60000 [==============================] - 7s 124us/sample - loss: 0.0023 - acc: 0.9999 - val_loss: 0.0932 - val_acc: 0.9774\n",
            "Epoch 36/100\n",
            "60000/60000 [==============================] - 7s 123us/sample - loss: 0.0022 - acc: 1.0000 - val_loss: 0.0965 - val_acc: 0.9774\n",
            "Epoch 37/100\n",
            "60000/60000 [==============================] - 7s 121us/sample - loss: 0.0022 - acc: 0.9999 - val_loss: 0.0976 - val_acc: 0.9765\n",
            "Epoch 38/100\n",
            "60000/60000 [==============================] - 7s 123us/sample - loss: 0.0022 - acc: 0.9999 - val_loss: 0.0960 - val_acc: 0.9778\n",
            "Epoch 39/100\n",
            "60000/60000 [==============================] - 7s 122us/sample - loss: 0.0018 - acc: 1.0000 - val_loss: 0.0972 - val_acc: 0.9772\n",
            "Epoch 40/100\n",
            "60000/60000 [==============================] - 7s 122us/sample - loss: 0.0016 - acc: 1.0000 - val_loss: 0.0970 - val_acc: 0.9777\n",
            "Epoch 41/100\n",
            "60000/60000 [==============================] - 7s 123us/sample - loss: 0.0015 - acc: 1.0000 - val_loss: 0.0978 - val_acc: 0.9775\n",
            "Epoch 42/100\n",
            "60000/60000 [==============================] - 8s 131us/sample - loss: 0.0015 - acc: 1.0000 - val_loss: 0.0993 - val_acc: 0.9778\n",
            "Epoch 43/100\n",
            "60000/60000 [==============================] - 7s 122us/sample - loss: 0.0014 - acc: 1.0000 - val_loss: 0.1005 - val_acc: 0.9775\n",
            "Epoch 44/100\n",
            "60000/60000 [==============================] - 7s 125us/sample - loss: 0.0013 - acc: 1.0000 - val_loss: 0.0998 - val_acc: 0.9778\n",
            "Epoch 45/100\n",
            "60000/60000 [==============================] - 8s 133us/sample - loss: 0.0012 - acc: 1.0000 - val_loss: 0.1010 - val_acc: 0.9782\n",
            "Epoch 46/100\n",
            "60000/60000 [==============================] - 7s 124us/sample - loss: 0.0012 - acc: 1.0000 - val_loss: 0.1020 - val_acc: 0.9776\n",
            "Epoch 47/100\n",
            "60000/60000 [==============================] - 7s 124us/sample - loss: 0.0011 - acc: 1.0000 - val_loss: 0.1013 - val_acc: 0.9777\n",
            "Epoch 48/100\n",
            "60000/60000 [==============================] - 7s 121us/sample - loss: 0.0011 - acc: 1.0000 - val_loss: 0.1031 - val_acc: 0.9777\n",
            "Epoch 49/100\n",
            "60000/60000 [==============================] - 7s 123us/sample - loss: 0.0010 - acc: 1.0000 - val_loss: 0.1035 - val_acc: 0.9776\n",
            "Epoch 50/100\n",
            "60000/60000 [==============================] - 7s 123us/sample - loss: 9.6468e-04 - acc: 1.0000 - val_loss: 0.1036 - val_acc: 0.9773\n",
            "Epoch 51/100\n",
            "60000/60000 [==============================] - 7s 123us/sample - loss: 9.2026e-04 - acc: 1.0000 - val_loss: 0.1042 - val_acc: 0.9774\n",
            "Epoch 52/100\n",
            "60000/60000 [==============================] - 7s 123us/sample - loss: 8.7089e-04 - acc: 1.0000 - val_loss: 0.1054 - val_acc: 0.9780\n",
            "Epoch 53/100\n",
            "60000/60000 [==============================] - 7s 122us/sample - loss: 8.3997e-04 - acc: 1.0000 - val_loss: 0.1047 - val_acc: 0.9777\n",
            "Epoch 54/100\n",
            "60000/60000 [==============================] - 7s 123us/sample - loss: 7.8978e-04 - acc: 1.0000 - val_loss: 0.1064 - val_acc: 0.9775\n",
            "Epoch 55/100\n",
            "60000/60000 [==============================] - 7s 124us/sample - loss: 7.5994e-04 - acc: 1.0000 - val_loss: 0.1059 - val_acc: 0.9775\n",
            "Epoch 56/100\n",
            "60000/60000 [==============================] - 7s 124us/sample - loss: 7.0927e-04 - acc: 1.0000 - val_loss: 0.1066 - val_acc: 0.9779\n",
            "Epoch 57/100\n",
            "60000/60000 [==============================] - 7s 123us/sample - loss: 6.7817e-04 - acc: 1.0000 - val_loss: 0.1072 - val_acc: 0.9774\n",
            "Epoch 58/100\n",
            "60000/60000 [==============================] - 7s 123us/sample - loss: 6.2414e-04 - acc: 1.0000 - val_loss: 0.1073 - val_acc: 0.9779\n",
            "Epoch 59/100\n",
            "60000/60000 [==============================] - 7s 123us/sample - loss: 5.8789e-04 - acc: 1.0000 - val_loss: 0.1085 - val_acc: 0.9781\n",
            "Epoch 60/100\n",
            "60000/60000 [==============================] - 7s 123us/sample - loss: 5.5128e-04 - acc: 1.0000 - val_loss: 0.1075 - val_acc: 0.9777\n",
            "Epoch 61/100\n",
            "60000/60000 [==============================] - 7s 123us/sample - loss: 5.2889e-04 - acc: 1.0000 - val_loss: 0.1087 - val_acc: 0.9779\n",
            "Epoch 62/100\n",
            "60000/60000 [==============================] - 7s 122us/sample - loss: 5.0479e-04 - acc: 1.0000 - val_loss: 0.1093 - val_acc: 0.9773\n",
            "Epoch 63/100\n",
            "60000/60000 [==============================] - 7s 122us/sample - loss: 4.8941e-04 - acc: 1.0000 - val_loss: 0.1091 - val_acc: 0.9782\n",
            "Epoch 64/100\n",
            "60000/60000 [==============================] - 7s 123us/sample - loss: 4.6937e-04 - acc: 1.0000 - val_loss: 0.1093 - val_acc: 0.9777\n",
            "Epoch 65/100\n",
            "60000/60000 [==============================] - 7s 122us/sample - loss: 4.5257e-04 - acc: 1.0000 - val_loss: 0.1106 - val_acc: 0.9780\n",
            "Epoch 66/100\n",
            "60000/60000 [==============================] - 7s 123us/sample - loss: 4.3637e-04 - acc: 1.0000 - val_loss: 0.1110 - val_acc: 0.9778\n",
            "Epoch 67/100\n",
            "60000/60000 [==============================] - 7s 124us/sample - loss: 4.2272e-04 - acc: 1.0000 - val_loss: 0.1109 - val_acc: 0.9777\n",
            "Epoch 68/100\n",
            "60000/60000 [==============================] - 7s 122us/sample - loss: 4.1207e-04 - acc: 1.0000 - val_loss: 0.1113 - val_acc: 0.9775\n",
            "Epoch 69/100\n",
            "60000/60000 [==============================] - 7s 122us/sample - loss: 3.9513e-04 - acc: 1.0000 - val_loss: 0.1123 - val_acc: 0.9771\n",
            "Epoch 70/100\n",
            "60000/60000 [==============================] - 7s 124us/sample - loss: 3.8713e-04 - acc: 1.0000 - val_loss: 0.1120 - val_acc: 0.9776\n",
            "Epoch 71/100\n",
            "60000/60000 [==============================] - 7s 124us/sample - loss: 3.7454e-04 - acc: 1.0000 - val_loss: 0.1125 - val_acc: 0.9779\n",
            "Epoch 72/100\n",
            "60000/60000 [==============================] - 7s 122us/sample - loss: 3.6341e-04 - acc: 1.0000 - val_loss: 0.1134 - val_acc: 0.9779\n",
            "Epoch 73/100\n",
            "60000/60000 [==============================] - 7s 123us/sample - loss: 3.5481e-04 - acc: 1.0000 - val_loss: 0.1128 - val_acc: 0.9776\n",
            "Epoch 74/100\n",
            "60000/60000 [==============================] - 7s 124us/sample - loss: 3.4496e-04 - acc: 1.0000 - val_loss: 0.1133 - val_acc: 0.9777\n",
            "Epoch 75/100\n",
            "60000/60000 [==============================] - 7s 123us/sample - loss: 3.3545e-04 - acc: 1.0000 - val_loss: 0.1135 - val_acc: 0.9774\n",
            "Epoch 76/100\n",
            "60000/60000 [==============================] - 7s 123us/sample - loss: 3.2599e-04 - acc: 1.0000 - val_loss: 0.1134 - val_acc: 0.9778\n",
            "Epoch 77/100\n",
            "60000/60000 [==============================] - 7s 122us/sample - loss: 3.1762e-04 - acc: 1.0000 - val_loss: 0.1134 - val_acc: 0.9776\n",
            "Epoch 78/100\n",
            "60000/60000 [==============================] - 7s 123us/sample - loss: 3.1004e-04 - acc: 1.0000 - val_loss: 0.1150 - val_acc: 0.9776\n",
            "Epoch 79/100\n",
            "60000/60000 [==============================] - 7s 124us/sample - loss: 3.0504e-04 - acc: 1.0000 - val_loss: 0.1143 - val_acc: 0.9779\n",
            "Epoch 80/100\n",
            "60000/60000 [==============================] - 7s 123us/sample - loss: 2.9638e-04 - acc: 1.0000 - val_loss: 0.1150 - val_acc: 0.9779\n",
            "Epoch 81/100\n",
            "60000/60000 [==============================] - 7s 123us/sample - loss: 2.8914e-04 - acc: 1.0000 - val_loss: 0.1154 - val_acc: 0.9778\n",
            "Epoch 82/100\n",
            "60000/60000 [==============================] - 7s 124us/sample - loss: 2.8306e-04 - acc: 1.0000 - val_loss: 0.1151 - val_acc: 0.9781\n",
            "Epoch 83/100\n",
            "60000/60000 [==============================] - 8s 128us/sample - loss: 2.7669e-04 - acc: 1.0000 - val_loss: 0.1156 - val_acc: 0.9779\n",
            "Epoch 84/100\n",
            "60000/60000 [==============================] - 8s 126us/sample - loss: 2.7045e-04 - acc: 1.0000 - val_loss: 0.1162 - val_acc: 0.9778\n",
            "Epoch 85/100\n",
            "60000/60000 [==============================] - 7s 124us/sample - loss: 2.6513e-04 - acc: 1.0000 - val_loss: 0.1161 - val_acc: 0.9778\n",
            "Epoch 86/100\n",
            "60000/60000 [==============================] - 8s 126us/sample - loss: 2.5928e-04 - acc: 1.0000 - val_loss: 0.1168 - val_acc: 0.9778\n",
            "Epoch 87/100\n",
            "60000/60000 [==============================] - 8s 133us/sample - loss: 2.5355e-04 - acc: 1.0000 - val_loss: 0.1170 - val_acc: 0.9779\n",
            "Epoch 88/100\n",
            "60000/60000 [==============================] - 7s 123us/sample - loss: 2.4807e-04 - acc: 1.0000 - val_loss: 0.1174 - val_acc: 0.9778\n",
            "Epoch 89/100\n",
            "60000/60000 [==============================] - 7s 122us/sample - loss: 2.4369e-04 - acc: 1.0000 - val_loss: 0.1174 - val_acc: 0.9779\n",
            "Epoch 90/100\n",
            "60000/60000 [==============================] - 7s 124us/sample - loss: 2.3884e-04 - acc: 1.0000 - val_loss: 0.1183 - val_acc: 0.9779\n",
            "Epoch 91/100\n",
            "60000/60000 [==============================] - 7s 123us/sample - loss: 2.3370e-04 - acc: 1.0000 - val_loss: 0.1180 - val_acc: 0.9778\n",
            "Epoch 92/100\n",
            "60000/60000 [==============================] - 7s 124us/sample - loss: 2.3011e-04 - acc: 1.0000 - val_loss: 0.1187 - val_acc: 0.9778\n",
            "Epoch 93/100\n",
            "60000/60000 [==============================] - 7s 122us/sample - loss: 2.2553e-04 - acc: 1.0000 - val_loss: 0.1178 - val_acc: 0.9778\n",
            "Epoch 94/100\n",
            "60000/60000 [==============================] - 7s 123us/sample - loss: 2.2078e-04 - acc: 1.0000 - val_loss: 0.1183 - val_acc: 0.9778\n",
            "Epoch 95/100\n",
            "60000/60000 [==============================] - 7s 124us/sample - loss: 2.1677e-04 - acc: 1.0000 - val_loss: 0.1184 - val_acc: 0.9776\n",
            "Epoch 96/100\n",
            "60000/60000 [==============================] - 7s 123us/sample - loss: 2.1327e-04 - acc: 1.0000 - val_loss: 0.1184 - val_acc: 0.9778\n",
            "Epoch 97/100\n",
            "60000/60000 [==============================] - 7s 124us/sample - loss: 2.0982e-04 - acc: 1.0000 - val_loss: 0.1191 - val_acc: 0.9779\n",
            "Epoch 98/100\n",
            "60000/60000 [==============================] - 7s 123us/sample - loss: 2.0526e-04 - acc: 1.0000 - val_loss: 0.1194 - val_acc: 0.9780\n",
            "Epoch 99/100\n",
            "60000/60000 [==============================] - 7s 124us/sample - loss: 2.0230e-04 - acc: 1.0000 - val_loss: 0.1196 - val_acc: 0.9779\n",
            "Epoch 100/100\n",
            "60000/60000 [==============================] - 7s 125us/sample - loss: 1.9887e-04 - acc: 1.0000 - val_loss: 0.1199 - val_acc: 0.9779\n"
          ],
          "name": "stdout"
        }
      ]
    },
    {
      "cell_type": "code",
      "metadata": {
        "id": "rregGf0WTHby",
        "colab_type": "code",
        "colab": {
          "base_uri": "https://localhost:8080/",
          "height": 315
        },
        "outputId": "1e918286-e0bb-40da-e9fe-9cd88cf6eb88"
      },
      "source": [
        "acc = history2.history['acc']\n",
        "val_acc = history2.history['val_acc']\n",
        "epochs   = range(len(acc)) # Get number of epochs\n",
        "\n",
        "plt.plot(epochs, acc, 'b')\n",
        "plt.plot(epochs, val_acc, 'r')\n",
        "plt.title('Training accuracy')\n",
        "plt.figure()"
      ],
      "execution_count": 37,
      "outputs": [
        {
          "output_type": "execute_result",
          "data": {
            "text/plain": [
              "<Figure size 432x288 with 0 Axes>"
            ]
          },
          "metadata": {
            "tags": []
          },
          "execution_count": 37
        },
        {
          "output_type": "display_data",
          "data": {
            "image/png": "[encoded data removed]",
            "text/plain": [
              "<Figure size 432x288 with 1 Axes>"
            ]
          },
          "metadata": {
            "tags": []
          }
        },
        {
          "output_type": "display_data",
          "data": {
            "text/plain": [
              "<Figure size 432x288 with 0 Axes>"
            ]
          },
          "metadata": {
            "tags": []
          }
        }
      ]
    },
    {
      "cell_type": "markdown",
      "metadata": {
        "id": "wt2DrSzRX78Y",
        "colab_type": "text"
      },
      "source": [
        "# With Dropout"
      ]
    },
    {
      "cell_type": "code",
      "metadata": {
        "id": "eNSNmGRWX-A9",
        "colab_type": "code",
        "colab": {}
      },
      "source": [
        "input_layer = tf.keras.layers.Input(shape=(784,))\n",
        "z = tf.keras.layers.Dense(200)(input_layer)\n",
        "z = tf.keras.layers.Activation('relu')(z)\n",
        "z = tf.keras.layers.Dropout(rate=0.4)(z)\n",
        "z = tf.keras.layers.Dense(100)(z)\n",
        "z = tf.keras.layers.Activation('relu')(z)\n",
        "z = tf.keras.layers.Dropout(rate=0.4)(z)\n",
        "z = tf.keras.layers.Dense(60)(z)\n",
        "z = tf.keras.layers.Activation('relu')(z)\n",
        "z = tf.keras.layers.Dropout(rate=0.4)(z)\n",
        "z = tf.keras.layers.Dense(30)(z)\n",
        "z = tf.keras.layers.Activation('relu')(z)\n",
        "z = tf.keras.layers.Dropout(rate=0.4)(z)\n",
        "z = tf.keras.layers.Dense(nb_classes)(z)\n",
        "output_layer = tf.keras.layers.Activation('softmax')(z)\n",
        "\n",
        "model_relu_dropout = tf.keras.models.Model(input_layer, output_layer)"
      ],
      "execution_count": 0,
      "outputs": []
    },
    {
      "cell_type": "code",
      "metadata": {
        "id": "qrnssiKdZ9QY",
        "colab_type": "code",
        "colab": {
          "base_uri": "https://localhost:8080/",
          "height": 663
        },
        "outputId": "28cff070-dbbe-4c2f-b991-a4d55b45f88e"
      },
      "source": [
        "model_relu_dropout.summary()"
      ],
      "execution_count": 39,
      "outputs": [
        {
          "output_type": "stream",
          "text": [
            "Model: \"model_7\"\n",
            "_________________________________________________________________\n",
            "Layer (type)                 Output Shape              Param #   \n",
            "=================================================================\n",
            "input_8 (InputLayer)         [(None, 784)]             0         \n",
            "_________________________________________________________________\n",
            "dense_33 (Dense)             (None, 200)               157000    \n",
            "_________________________________________________________________\n",
            "activation_33 (Activation)   (None, 200)               0         \n",
            "_________________________________________________________________\n",
            "dropout (Dropout)            (None, 200)               0         \n",
            "_________________________________________________________________\n",
            "dense_34 (Dense)             (None, 100)               20100     \n",
            "_________________________________________________________________\n",
            "activation_34 (Activation)   (None, 100)               0         \n",
            "_________________________________________________________________\n",
            "dropout_1 (Dropout)          (None, 100)               0         \n",
            "_________________________________________________________________\n",
            "dense_35 (Dense)             (None, 60)                6060      \n",
            "_________________________________________________________________\n",
            "activation_35 (Activation)   (None, 60)                0         \n",
            "_________________________________________________________________\n",
            "dropout_2 (Dropout)          (None, 60)                0         \n",
            "_________________________________________________________________\n",
            "dense_36 (Dense)             (None, 30)                1830      \n",
            "_________________________________________________________________\n",
            "activation_36 (Activation)   (None, 30)                0         \n",
            "_________________________________________________________________\n",
            "dropout_3 (Dropout)          (None, 30)                0         \n",
            "_________________________________________________________________\n",
            "dense_37 (Dense)             (None, 10)                310       \n",
            "_________________________________________________________________\n",
            "activation_37 (Activation)   (None, 10)                0         \n",
            "=================================================================\n",
            "Total params: 185,300\n",
            "Trainable params: 185,300\n",
            "Non-trainable params: 0\n",
            "_________________________________________________________________\n"
          ],
          "name": "stdout"
        }
      ]
    },
    {
      "cell_type": "code",
      "metadata": {
        "id": "xNqKte34aCVI",
        "colab_type": "code",
        "colab": {}
      },
      "source": [
        "model_relu_dropout.compile(loss='categorical_crossentropy', optimizer=\"SGD\", metrics=['accuracy'])"
      ],
      "execution_count": 0,
      "outputs": []
    },
    {
      "cell_type": "code",
      "metadata": {
        "id": "MbOXKWWnaNTT",
        "colab_type": "code",
        "colab": {
          "base_uri": "https://localhost:8080/",
          "height": 1000
        },
        "outputId": "28021ef0-3bbf-4c60-a67b-080cb6ebdef7"
      },
      "source": [
        "history3 = model_relu_dropout.fit(x_train, y_train, validation_data=(x_test, y_test), epochs=100)"
      ],
      "execution_count": 42,
      "outputs": [
        {
          "output_type": "stream",
          "text": [
            "Train on 60000 samples, validate on 10000 samples\n",
            "Epoch 1/100\n",
            "60000/60000 [==============================] - 9s 146us/sample - loss: 1.7751 - acc: 0.3645 - val_loss: 0.7887 - val_acc: 0.7827\n",
            "Epoch 2/100\n",
            "60000/60000 [==============================] - 8s 139us/sample - loss: 0.9943 - acc: 0.6572 - val_loss: 0.5003 - val_acc: 0.8559\n",
            "Epoch 3/100\n",
            "60000/60000 [==============================] - 8s 140us/sample - loss: 0.7445 - acc: 0.7566 - val_loss: 0.3631 - val_acc: 0.9155\n",
            "Epoch 4/100\n",
            "60000/60000 [==============================] - 8s 138us/sample - loss: 0.6104 - acc: 0.8163 - val_loss: 0.2780 - val_acc: 0.9293\n",
            "Epoch 5/100\n",
            "60000/60000 [==============================] - 8s 138us/sample - loss: 0.5167 - acc: 0.8531 - val_loss: 0.2276 - val_acc: 0.9425\n",
            "Epoch 6/100\n",
            "60000/60000 [==============================] - 8s 140us/sample - loss: 0.4533 - acc: 0.8745 - val_loss: 0.2008 - val_acc: 0.9473\n",
            "Epoch 7/100\n",
            "60000/60000 [==============================] - 8s 139us/sample - loss: 0.4115 - acc: 0.8901 - val_loss: 0.1858 - val_acc: 0.9501\n",
            "Epoch 8/100\n",
            "60000/60000 [==============================] - 8s 138us/sample - loss: 0.3759 - acc: 0.9022 - val_loss: 0.1723 - val_acc: 0.9554\n",
            "Epoch 9/100\n",
            "60000/60000 [==============================] - 8s 138us/sample - loss: 0.3463 - acc: 0.9094 - val_loss: 0.1587 - val_acc: 0.9569\n",
            "Epoch 10/100\n",
            "60000/60000 [==============================] - 8s 138us/sample - loss: 0.3287 - acc: 0.9152 - val_loss: 0.1592 - val_acc: 0.9584\n",
            "Epoch 11/100\n",
            "60000/60000 [==============================] - 8s 140us/sample - loss: 0.3117 - acc: 0.9210 - val_loss: 0.1464 - val_acc: 0.9623\n",
            "Epoch 12/100\n",
            "60000/60000 [==============================] - 8s 138us/sample - loss: 0.2961 - acc: 0.9244 - val_loss: 0.1425 - val_acc: 0.9627\n",
            "Epoch 13/100\n",
            "60000/60000 [==============================] - 8s 139us/sample - loss: 0.2780 - acc: 0.9291 - val_loss: 0.1343 - val_acc: 0.9649\n",
            "Epoch 14/100\n",
            "60000/60000 [==============================] - 8s 138us/sample - loss: 0.2701 - acc: 0.9314 - val_loss: 0.1360 - val_acc: 0.9643\n",
            "Epoch 15/100\n",
            "60000/60000 [==============================] - 8s 138us/sample - loss: 0.2574 - acc: 0.9354 - val_loss: 0.1332 - val_acc: 0.9673\n",
            "Epoch 16/100\n",
            "60000/60000 [==============================] - 8s 138us/sample - loss: 0.2523 - acc: 0.9374 - val_loss: 0.1264 - val_acc: 0.9678\n",
            "Epoch 17/100\n",
            "60000/60000 [==============================] - 8s 139us/sample - loss: 0.2447 - acc: 0.9380 - val_loss: 0.1269 - val_acc: 0.9682\n",
            "Epoch 18/100\n",
            "60000/60000 [==============================] - 8s 139us/sample - loss: 0.2328 - acc: 0.9414 - val_loss: 0.1212 - val_acc: 0.9700\n",
            "Epoch 19/100\n",
            "60000/60000 [==============================] - 8s 139us/sample - loss: 0.2283 - acc: 0.9421 - val_loss: 0.1170 - val_acc: 0.9715\n",
            "Epoch 20/100\n",
            "60000/60000 [==============================] - 8s 139us/sample - loss: 0.2163 - acc: 0.9457 - val_loss: 0.1174 - val_acc: 0.9717\n",
            "Epoch 21/100\n",
            "60000/60000 [==============================] - 8s 138us/sample - loss: 0.2189 - acc: 0.9455 - val_loss: 0.1189 - val_acc: 0.9706\n",
            "Epoch 22/100\n",
            "60000/60000 [==============================] - 8s 137us/sample - loss: 0.2101 - acc: 0.9469 - val_loss: 0.1136 - val_acc: 0.9725\n",
            "Epoch 23/100\n",
            "60000/60000 [==============================] - 8s 139us/sample - loss: 0.2044 - acc: 0.9485 - val_loss: 0.1172 - val_acc: 0.9721\n",
            "Epoch 24/100\n",
            "60000/60000 [==============================] - 8s 138us/sample - loss: 0.2068 - acc: 0.9496 - val_loss: 0.1147 - val_acc: 0.9731\n",
            "Epoch 25/100\n",
            "60000/60000 [==============================] - 8s 139us/sample - loss: 0.1932 - acc: 0.9523 - val_loss: 0.1103 - val_acc: 0.9740\n",
            "Epoch 26/100\n",
            "60000/60000 [==============================] - 8s 140us/sample - loss: 0.1896 - acc: 0.9531 - val_loss: 0.1122 - val_acc: 0.9736\n",
            "Epoch 27/100\n",
            "60000/60000 [==============================] - 8s 141us/sample - loss: 0.1896 - acc: 0.9530 - val_loss: 0.1122 - val_acc: 0.9736\n",
            "Epoch 28/100\n",
            "60000/60000 [==============================] - 8s 139us/sample - loss: 0.1853 - acc: 0.9540 - val_loss: 0.1135 - val_acc: 0.9732\n",
            "Epoch 29/100\n",
            "60000/60000 [==============================] - 8s 140us/sample - loss: 0.1821 - acc: 0.9546 - val_loss: 0.1045 - val_acc: 0.9761\n",
            "Epoch 30/100\n",
            "60000/60000 [==============================] - 8s 139us/sample - loss: 0.1762 - acc: 0.9574 - val_loss: 0.1138 - val_acc: 0.9737\n",
            "Epoch 31/100\n",
            "60000/60000 [==============================] - 8s 140us/sample - loss: 0.1778 - acc: 0.9570 - val_loss: 0.1048 - val_acc: 0.9757\n",
            "Epoch 32/100\n",
            "60000/60000 [==============================] - 8s 140us/sample - loss: 0.1692 - acc: 0.9582 - val_loss: 0.1156 - val_acc: 0.9739\n",
            "Epoch 33/100\n",
            "60000/60000 [==============================] - 9s 145us/sample - loss: 0.1622 - acc: 0.9581 - val_loss: 0.1110 - val_acc: 0.9747\n",
            "Epoch 34/100\n",
            "60000/60000 [==============================] - 8s 138us/sample - loss: 0.1673 - acc: 0.9588 - val_loss: 0.1105 - val_acc: 0.9746\n",
            "Epoch 35/100\n",
            "60000/60000 [==============================] - 8s 139us/sample - loss: 0.1662 - acc: 0.9598 - val_loss: 0.1060 - val_acc: 0.9760\n",
            "Epoch 36/100\n",
            "60000/60000 [==============================] - 8s 139us/sample - loss: 0.1614 - acc: 0.9597 - val_loss: 0.1094 - val_acc: 0.9757\n",
            "Epoch 37/100\n",
            "60000/60000 [==============================] - 9s 149us/sample - loss: 0.1597 - acc: 0.9604 - val_loss: 0.1073 - val_acc: 0.9758\n",
            "Epoch 38/100\n",
            "60000/60000 [==============================] - 9s 142us/sample - loss: 0.1601 - acc: 0.9605 - val_loss: 0.1065 - val_acc: 0.9744\n",
            "Epoch 39/100\n",
            "60000/60000 [==============================] - 8s 140us/sample - loss: 0.1578 - acc: 0.9614 - val_loss: 0.1034 - val_acc: 0.9760\n",
            "Epoch 40/100\n",
            "60000/60000 [==============================] - 8s 139us/sample - loss: 0.1520 - acc: 0.9631 - val_loss: 0.1099 - val_acc: 0.9758\n",
            "Epoch 41/100\n",
            "60000/60000 [==============================] - 8s 140us/sample - loss: 0.1521 - acc: 0.9621 - val_loss: 0.1108 - val_acc: 0.9757\n",
            "Epoch 42/100\n",
            "60000/60000 [==============================] - 8s 139us/sample - loss: 0.1457 - acc: 0.9636 - val_loss: 0.1107 - val_acc: 0.9769\n",
            "Epoch 43/100\n",
            "60000/60000 [==============================] - 8s 139us/sample - loss: 0.1436 - acc: 0.9643 - val_loss: 0.1148 - val_acc: 0.9764\n",
            "Epoch 44/100\n",
            "60000/60000 [==============================] - 8s 139us/sample - loss: 0.1414 - acc: 0.9652 - val_loss: 0.1073 - val_acc: 0.9768\n",
            "Epoch 45/100\n",
            "60000/60000 [==============================] - 8s 137us/sample - loss: 0.1418 - acc: 0.9651 - val_loss: 0.1110 - val_acc: 0.9776\n",
            "Epoch 46/100\n",
            "60000/60000 [==============================] - 8s 138us/sample - loss: 0.1448 - acc: 0.9650 - val_loss: 0.1047 - val_acc: 0.9767\n",
            "Epoch 47/100\n",
            "60000/60000 [==============================] - 8s 138us/sample - loss: 0.1340 - acc: 0.9666 - val_loss: 0.1110 - val_acc: 0.9767\n",
            "Epoch 48/100\n",
            "60000/60000 [==============================] - 8s 139us/sample - loss: 0.1362 - acc: 0.9668 - val_loss: 0.1101 - val_acc: 0.9773\n",
            "Epoch 49/100\n",
            "60000/60000 [==============================] - 8s 140us/sample - loss: 0.1388 - acc: 0.9662 - val_loss: 0.1101 - val_acc: 0.9774\n",
            "Epoch 50/100\n",
            "60000/60000 [==============================] - 8s 139us/sample - loss: 0.1309 - acc: 0.9670 - val_loss: 0.1016 - val_acc: 0.9775\n",
            "Epoch 51/100\n",
            "60000/60000 [==============================] - 8s 139us/sample - loss: 0.1350 - acc: 0.9673 - val_loss: 0.1121 - val_acc: 0.9760\n",
            "Epoch 52/100\n",
            "60000/60000 [==============================] - 8s 139us/sample - loss: 0.1301 - acc: 0.9680 - val_loss: 0.1058 - val_acc: 0.9781\n",
            "Epoch 53/100\n",
            "60000/60000 [==============================] - 8s 139us/sample - loss: 0.1303 - acc: 0.9672 - val_loss: 0.1128 - val_acc: 0.9763\n",
            "Epoch 54/100\n",
            "60000/60000 [==============================] - 8s 138us/sample - loss: 0.1301 - acc: 0.9680 - val_loss: 0.1089 - val_acc: 0.9771\n",
            "Epoch 55/100\n",
            "60000/60000 [==============================] - 8s 138us/sample - loss: 0.1252 - acc: 0.9682 - val_loss: 0.1065 - val_acc: 0.9775\n",
            "Epoch 56/100\n",
            "60000/60000 [==============================] - 8s 138us/sample - loss: 0.1223 - acc: 0.9694 - val_loss: 0.1121 - val_acc: 0.9769\n",
            "Epoch 57/100\n",
            "60000/60000 [==============================] - 8s 138us/sample - loss: 0.1242 - acc: 0.9686 - val_loss: 0.1129 - val_acc: 0.9779\n",
            "Epoch 58/100\n",
            "60000/60000 [==============================] - 8s 139us/sample - loss: 0.1257 - acc: 0.9691 - val_loss: 0.1146 - val_acc: 0.9761\n",
            "Epoch 59/100\n",
            "60000/60000 [==============================] - 8s 139us/sample - loss: 0.1260 - acc: 0.9693 - val_loss: 0.1021 - val_acc: 0.9785\n",
            "Epoch 60/100\n",
            "60000/60000 [==============================] - 8s 138us/sample - loss: 0.1245 - acc: 0.9692 - val_loss: 0.1095 - val_acc: 0.9781\n",
            "Epoch 61/100\n",
            "60000/60000 [==============================] - 8s 139us/sample - loss: 0.1195 - acc: 0.9709 - val_loss: 0.1084 - val_acc: 0.9782\n",
            "Epoch 62/100\n",
            "60000/60000 [==============================] - 8s 137us/sample - loss: 0.1174 - acc: 0.9705 - val_loss: 0.0978 - val_acc: 0.9798\n",
            "Epoch 63/100\n",
            "60000/60000 [==============================] - 8s 138us/sample - loss: 0.1203 - acc: 0.9704 - val_loss: 0.1054 - val_acc: 0.9779\n",
            "Epoch 64/100\n",
            "60000/60000 [==============================] - 8s 137us/sample - loss: 0.1159 - acc: 0.9717 - val_loss: 0.1081 - val_acc: 0.9777\n",
            "Epoch 65/100\n",
            "60000/60000 [==============================] - 8s 138us/sample - loss: 0.1160 - acc: 0.9708 - val_loss: 0.1100 - val_acc: 0.9775\n",
            "Epoch 66/100\n",
            "60000/60000 [==============================] - 8s 139us/sample - loss: 0.1139 - acc: 0.9711 - val_loss: 0.1056 - val_acc: 0.9795\n",
            "Epoch 67/100\n",
            "60000/60000 [==============================] - 8s 137us/sample - loss: 0.1106 - acc: 0.9729 - val_loss: 0.1055 - val_acc: 0.9788\n",
            "Epoch 68/100\n",
            "60000/60000 [==============================] - 8s 137us/sample - loss: 0.1118 - acc: 0.9717 - val_loss: 0.1048 - val_acc: 0.9784\n",
            "Epoch 69/100\n",
            "60000/60000 [==============================] - 8s 140us/sample - loss: 0.1108 - acc: 0.9721 - val_loss: 0.1112 - val_acc: 0.9778\n",
            "Epoch 70/100\n",
            "60000/60000 [==============================] - 8s 141us/sample - loss: 0.1161 - acc: 0.9711 - val_loss: 0.1152 - val_acc: 0.9767\n",
            "Epoch 71/100\n",
            "60000/60000 [==============================] - 8s 138us/sample - loss: 0.1117 - acc: 0.9727 - val_loss: 0.1124 - val_acc: 0.9775\n",
            "Epoch 72/100\n",
            "60000/60000 [==============================] - 8s 137us/sample - loss: 0.1102 - acc: 0.9723 - val_loss: 0.1120 - val_acc: 0.9777\n",
            "Epoch 73/100\n",
            "60000/60000 [==============================] - 8s 138us/sample - loss: 0.1083 - acc: 0.9732 - val_loss: 0.1068 - val_acc: 0.9780\n",
            "Epoch 74/100\n",
            "60000/60000 [==============================] - 9s 144us/sample - loss: 0.1087 - acc: 0.9728 - val_loss: 0.1175 - val_acc: 0.9772\n",
            "Epoch 75/100\n",
            "60000/60000 [==============================] - 9s 143us/sample - loss: 0.1069 - acc: 0.9740 - val_loss: 0.1089 - val_acc: 0.9780\n",
            "Epoch 76/100\n",
            "60000/60000 [==============================] - 8s 139us/sample - loss: 0.1055 - acc: 0.9729 - val_loss: 0.1064 - val_acc: 0.9784\n",
            "Epoch 77/100\n",
            "60000/60000 [==============================] - 8s 140us/sample - loss: 0.1065 - acc: 0.9737 - val_loss: 0.1105 - val_acc: 0.9790\n",
            "Epoch 78/100\n",
            "60000/60000 [==============================] - 8s 139us/sample - loss: 0.1032 - acc: 0.9738 - val_loss: 0.1162 - val_acc: 0.9778\n",
            "Epoch 79/100\n",
            "60000/60000 [==============================] - 8s 139us/sample - loss: 0.1039 - acc: 0.9743 - val_loss: 0.1105 - val_acc: 0.9786\n",
            "Epoch 80/100\n",
            "60000/60000 [==============================] - 8s 139us/sample - loss: 0.0998 - acc: 0.9753 - val_loss: 0.1187 - val_acc: 0.9779\n",
            "Epoch 81/100\n",
            "60000/60000 [==============================] - 8s 139us/sample - loss: 0.1032 - acc: 0.9742 - val_loss: 0.1118 - val_acc: 0.9784\n",
            "Epoch 82/100\n",
            "60000/60000 [==============================] - 8s 139us/sample - loss: 0.1033 - acc: 0.9750 - val_loss: 0.1115 - val_acc: 0.9795\n",
            "Epoch 83/100\n",
            "60000/60000 [==============================] - 8s 139us/sample - loss: 0.1021 - acc: 0.9748 - val_loss: 0.1110 - val_acc: 0.9792\n",
            "Epoch 84/100\n",
            "60000/60000 [==============================] - 8s 139us/sample - loss: 0.0987 - acc: 0.9755 - val_loss: 0.1102 - val_acc: 0.9791\n",
            "Epoch 85/100\n",
            "60000/60000 [==============================] - 8s 138us/sample - loss: 0.1003 - acc: 0.9748 - val_loss: 0.1073 - val_acc: 0.9790\n",
            "Epoch 86/100\n",
            "60000/60000 [==============================] - 8s 138us/sample - loss: 0.1006 - acc: 0.9748 - val_loss: 0.1131 - val_acc: 0.9784\n",
            "Epoch 87/100\n",
            "60000/60000 [==============================] - 8s 140us/sample - loss: 0.1019 - acc: 0.9748 - val_loss: 0.1190 - val_acc: 0.9776\n",
            "Epoch 88/100\n",
            "60000/60000 [==============================] - 8s 139us/sample - loss: 0.0997 - acc: 0.9753 - val_loss: 0.1107 - val_acc: 0.9796\n",
            "Epoch 89/100\n",
            "60000/60000 [==============================] - 8s 140us/sample - loss: 0.0951 - acc: 0.9763 - val_loss: 0.1032 - val_acc: 0.9798\n",
            "Epoch 90/100\n",
            "60000/60000 [==============================] - 8s 139us/sample - loss: 0.0997 - acc: 0.9757 - val_loss: 0.1077 - val_acc: 0.9787\n",
            "Epoch 91/100\n",
            "60000/60000 [==============================] - 8s 140us/sample - loss: 0.0956 - acc: 0.9761 - val_loss: 0.1139 - val_acc: 0.9782\n",
            "Epoch 92/100\n",
            "60000/60000 [==============================] - 8s 138us/sample - loss: 0.0943 - acc: 0.9762 - val_loss: 0.1090 - val_acc: 0.9789\n",
            "Epoch 93/100\n",
            "60000/60000 [==============================] - 8s 137us/sample - loss: 0.0957 - acc: 0.9760 - val_loss: 0.1124 - val_acc: 0.9795\n",
            "Epoch 94/100\n",
            "60000/60000 [==============================] - 8s 137us/sample - loss: 0.0971 - acc: 0.9755 - val_loss: 0.1085 - val_acc: 0.9797\n",
            "Epoch 95/100\n",
            "60000/60000 [==============================] - 8s 139us/sample - loss: 0.0900 - acc: 0.9768 - val_loss: 0.1136 - val_acc: 0.9790\n",
            "Epoch 96/100\n",
            "60000/60000 [==============================] - 8s 137us/sample - loss: 0.0869 - acc: 0.9779 - val_loss: 0.1145 - val_acc: 0.9790\n",
            "Epoch 97/100\n",
            "60000/60000 [==============================] - 8s 139us/sample - loss: 0.0945 - acc: 0.9766 - val_loss: 0.1187 - val_acc: 0.9788\n",
            "Epoch 98/100\n",
            "60000/60000 [==============================] - 8s 139us/sample - loss: 0.0907 - acc: 0.9768 - val_loss: 0.1082 - val_acc: 0.9794\n",
            "Epoch 99/100\n",
            "60000/60000 [==============================] - 8s 138us/sample - loss: 0.0919 - acc: 0.9774 - val_loss: 0.1122 - val_acc: 0.9793\n",
            "Epoch 100/100\n",
            "60000/60000 [==============================] - 8s 140us/sample - loss: 0.0895 - acc: 0.9775 - val_loss: 0.1176 - val_acc: 0.9797\n"
          ],
          "name": "stdout"
        }
      ]
    },
    {
      "cell_type": "code",
      "metadata": {
        "id": "TZ8p7oUJahZb",
        "colab_type": "code",
        "colab": {
          "base_uri": "https://localhost:8080/",
          "height": 315
        },
        "outputId": "d3256049-2106-4106-bd03-2b1ce66a830a"
      },
      "source": [
        "acc = history3.history['acc']\n",
        "val_acc = history3.history['val_acc']\n",
        "epochs   = range(len(acc)) # Get number of epochs\n",
        "\n",
        "plt.plot(epochs, acc, 'b')\n",
        "plt.plot(epochs, val_acc, 'r')\n",
        "plt.title('Training accuracy')\n",
        "plt.figure()"
      ],
      "execution_count": 43,
      "outputs": [
        {
          "output_type": "execute_result",
          "data": {
            "text/plain": [
              "<Figure size 432x288 with 0 Axes>"
            ]
          },
          "metadata": {
            "tags": []
          },
          "execution_count": 43
        },
        {
          "output_type": "display_data",
          "data": {
            "image/png": "[encoded data removed]",
            "text/plain": [
              "<Figure size 432x288 with 1 Axes>"
            ]
          },
          "metadata": {
            "tags": []
          }
        },
        {
          "output_type": "display_data",
          "data": {
            "text/plain": [
              "<Figure size 432x288 with 0 Axes>"
            ]
          },
          "metadata": {
            "tags": []
          }
        }
      ]
    },
    {
      "cell_type": "code",
      "metadata": {
        "id": "vPZSXVf9ao7E",
        "colab_type": "code",
        "colab": {}
      },
      "source": [
        ""
      ],
      "execution_count": 0,
      "outputs": []
    }
  ]
}